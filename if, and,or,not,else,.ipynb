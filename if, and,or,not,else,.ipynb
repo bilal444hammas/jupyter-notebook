{
 "cells": [
  {
   "cell_type": "code",
   "execution_count": 2,
   "metadata": {},
   "outputs": [
    {
     "name": "stdout",
     "output_type": "stream",
     "text": [
      "this condition is true\n"
     ]
    }
   ],
   "source": [
    "if 2>1:\n",
    "    print(\"this condition is true\")"
   ]
  },
  {
   "cell_type": "code",
   "execution_count": 5,
   "metadata": {},
   "outputs": [
    {
     "name": "stdout",
     "output_type": "stream",
     "text": [
      "that is bad\n"
     ]
    }
   ],
   "source": [
    "var1=3\n",
    "var2=6\n",
    "if var1<var2:\n",
    "    print(\"that is bad\")"
   ]
  },
  {
   "cell_type": "code",
   "execution_count": 6,
   "metadata": {},
   "outputs": [],
   "source": [
    "var1=3\n",
    "var2=6\n",
    "if var1>var2:\n",
    "    print(\"that is bad\")"
   ]
  },
  {
   "cell_type": "code",
   "execution_count": 14,
   "metadata": {},
   "outputs": [
    {
     "name": "stdout",
     "output_type": "stream",
     "text": [
      "i'd stail pay that\n"
     ]
    }
   ],
   "source": [
    "value=11\n",
    "if value <10:\n",
    "    print(\"that is a great deal!\")\n",
    "elif 10<value<20:\n",
    "    print(\"i'd stail pay that\")\n",
    "else:\n",
    "    print(\"that is a good idea\")"
   ]
  },
  {
   "cell_type": "code",
   "execution_count": 16,
   "metadata": {},
   "outputs": [
    {
     "name": "stdout",
     "output_type": "stream",
     "text": [
      "true\n"
     ]
    }
   ],
   "source": [
    "x=10\n",
    "y=10\n",
    "if x==10 or y==15:\n",
    "    print(\"true\")\n",
    "else:\n",
    "    print(\"fals\")"
   ]
  },
  {
   "cell_type": "code",
   "execution_count": 18,
   "metadata": {},
   "outputs": [
    {
     "name": "stdout",
     "output_type": "stream",
     "text": [
      "fals\n"
     ]
    }
   ],
   "source": [
    "x=10\n",
    "y=10\n",
    "if x==10 and y==15:\n",
    "    print(\"true\")\n",
    "else:\n",
    "    print(\"fals\")"
   ]
  },
  {
   "cell_type": "code",
   "execution_count": 22,
   "metadata": {},
   "outputs": [
    {
     "name": "stdout",
     "output_type": "stream",
     "text": [
      "x is not my list,it is true\n"
     ]
    }
   ],
   "source": [
    "my_list=[1,2,3,4,5]\n",
    "x=10\n",
    "if x not in my_list:\n",
    "    print(\"x is not my list,it is true\")\n",
    "else:\n",
    "    print(\"x is my list ,it is falue\")"
   ]
  },
  {
   "cell_type": "code",
   "execution_count": 24,
   "metadata": {},
   "outputs": [
    {
     "name": "stdout",
     "output_type": "stream",
     "text": [
      "x is my list ,it is falue\n"
     ]
    }
   ],
   "source": [
    "my_list=[1,2,3,4,10]\n",
    "x=10\n",
    "if x not in my_list:\n",
    "    print(\"x is not my list,it is true\")\n",
    "else:\n",
    "    print(\"x is my list ,it is falue\")"
   ]
  },
  {
   "cell_type": "code",
   "execution_count": 30,
   "metadata": {},
   "outputs": [
    {
     "name": "stdout",
     "output_type": "stream",
     "text": [
      "x is my list ,it is falue\n"
     ]
    }
   ],
   "source": [
    "my_list=[1,2,3,4,x]\n",
    "x=10\n",
    "if x not in my_list:\n",
    "    print(\"x is not my list,it is true\")\n",
    "else:\n",
    "    print(\"x is my list ,it is falue\")"
   ]
  },
  {
   "cell_type": "code",
   "execution_count": 34,
   "metadata": {},
   "outputs": [
    {
     "name": "stdout",
     "output_type": "stream",
     "text": [
      "x is  not equal to 11\n"
     ]
    }
   ],
   "source": [
    "x=12\n",
    "if x!=11:\n",
    "    print(\"x is  not equal to 11\")"
   ]
  },
  {
   "cell_type": "code",
   "execution_count": 38,
   "metadata": {},
   "outputs": [
    {
     "name": "stdout",
     "output_type": "stream",
     "text": [
      "this is true\n"
     ]
    }
   ],
   "source": [
    "my_list=[1,2,3,4,5,6]\n",
    "x=10\n",
    "y=11\n",
    "if x not in my_list and y!=12:\n",
    "    print(\"this is true\")"
   ]
  },
  {
   "cell_type": "code",
   "execution_count": 42,
   "metadata": {},
   "outputs": [
    {
     "name": "stdout",
     "output_type": "stream",
     "text": [
      "this is true\n"
     ]
    }
   ],
   "source": [
    "my_list=[1,2,3,4,5,6]\n",
    "x=10\n",
    "y=11\n",
    "if x not in my_list or y!=12:\n",
    "    print(\"this is true\")"
   ]
  },
  {
   "cell_type": "code",
   "execution_count": 46,
   "metadata": {},
   "outputs": [
    {
     "name": "stdout",
     "output_type": "stream",
     "text": [
      "[]\n"
     ]
    }
   ],
   "source": [
    "empty_list==[]\n",
    "print(empty_list)"
   ]
  },
  {
   "cell_type": "code",
   "execution_count": 49,
   "metadata": {},
   "outputs": [
    {
     "ename": "NameError",
     "evalue": "name 'empty_string' is not defined",
     "output_type": "error",
     "traceback": [
      "\u001b[1;31m---------------------------------------------------------------------------\u001b[0m",
      "\u001b[1;31mNameError\u001b[0m                                 Traceback (most recent call last)",
      "\u001b[1;32m<ipython-input-49-8437ac350e1d>\u001b[0m in \u001b[0;36m<module>\u001b[1;34m\u001b[0m\n\u001b[1;32m----> 1\u001b[1;33m \u001b[0mempty_list\u001b[0m\u001b[1;33m==\u001b[0m\u001b[0mempty_string\u001b[0m\u001b[1;33m\u001b[0m\u001b[1;33m\u001b[0m\u001b[0m\n\u001b[0m",
      "\u001b[1;31mNameError\u001b[0m: name 'empty_string' is not defined"
     ]
    }
   ],
   "source": [
    "empty_list==empty_string"
   ]
  },
  {
   "cell_type": "code",
   "execution_count": 52,
   "metadata": {},
   "outputs": [
    {
     "name": "stdout",
     "output_type": "stream",
     "text": [
      "i have a \n",
      " new line in a middel\n"
     ]
    }
   ],
   "source": [
    "print(\"i have a \\n new line in a middel\")"
   ]
  },
  {
   "cell_type": "code",
   "execution_count": 2,
   "metadata": {},
   "outputs": [
    {
     "name": "stdout",
     "output_type": "stream",
     "text": [
      "this sentence \t tabbed\n"
     ]
    }
   ],
   "source": [
    "print(\"this sentence \\t tabbed\")"
   ]
  },
  {
   "cell_type": "code",
   "execution_count": 3,
   "metadata": {},
   "outputs": [
    {
     "name": "stdout",
     "output_type": "stream",
     "text": [
      "this is a backshalash \\\n"
     ]
    }
   ],
   "source": [
    "print(\"this is a backshalash \\\\\")"
   ]
  },
  {
   "cell_type": "code",
   "execution_count": null,
   "metadata": {},
   "outputs": [],
   "source": []
  }
 ],
 "metadata": {
  "kernelspec": {
   "display_name": "Python 3",
   "language": "python",
   "name": "python3"
  },
  "language_info": {
   "codemirror_mode": {
    "name": "ipython",
    "version": 3
   },
   "file_extension": ".py",
   "mimetype": "text/x-python",
   "name": "python",
   "nbconvert_exporter": "python",
   "pygments_lexer": "ipython3",
   "version": "3.7.3"
  }
 },
 "nbformat": 4,
 "nbformat_minor": 2
}
