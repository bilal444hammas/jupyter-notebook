{
 "cells": [
  {
   "cell_type": "code",
   "execution_count": 10,
   "metadata": {},
   "outputs": [
    {
     "data": {
      "text/plain": [
       "0"
      ]
     },
     "execution_count": 10,
     "metadata": {},
     "output_type": "execute_result"
    }
   ],
   "source": [
    "list=(\"bilal\",\"haroon\",\"luqman\")\n",
    "list.index(\"bilal\")"
   ]
  },
  {
   "cell_type": "code",
   "execution_count": 11,
   "metadata": {},
   "outputs": [
    {
     "data": {
      "text/plain": [
       "0"
      ]
     },
     "execution_count": 11,
     "metadata": {},
     "output_type": "execute_result"
    }
   ],
   "source": [
    "list.index(\"bilal\")"
   ]
  },
  {
   "cell_type": "code",
   "execution_count": 16,
   "metadata": {},
   "outputs": [
    {
     "data": {
      "text/plain": [
       "4"
      ]
     },
     "execution_count": 16,
     "metadata": {},
     "output_type": "execute_result"
    }
   ],
   "source": [
    "arr=0,1,2,3,4,5,6,0.5,7.6\n",
    "arr.index(4)"
   ]
  },
  {
   "cell_type": "code",
   "execution_count": 13,
   "metadata": {},
   "outputs": [
    {
     "data": {
      "text/plain": [
       "0"
      ]
     },
     "execution_count": 13,
     "metadata": {},
     "output_type": "execute_result"
    }
   ],
   "source": [
    "list=(\"bilal,haroon,luqman\")\n",
    "list.index(\"bilal\")"
   ]
  },
  {
   "cell_type": "code",
   "execution_count": 30,
   "metadata": {},
   "outputs": [
    {
     "name": "stdout",
     "output_type": "stream",
     "text": [
      "[1, 2, 4, 5, 6]\n"
     ]
    }
   ],
   "source": [
    "list2=[1,2,3,4,5,6]\n",
    "del list2[2]\n",
    "print(list2)"
   ]
  },
  {
   "cell_type": "code",
   "execution_count": 26,
   "metadata": {},
   "outputs": [],
   "source": [
    "del list2[3]"
   ]
  },
  {
   "cell_type": "code",
   "execution_count": 40,
   "metadata": {},
   "outputs": [
    {
     "data": {
      "text/plain": [
       "5"
      ]
     },
     "execution_count": 40,
     "metadata": {},
     "output_type": "execute_result"
    }
   ],
   "source": [
    "len(list2)"
   ]
  },
  {
   "cell_type": "code",
   "execution_count": 29,
   "metadata": {},
   "outputs": [
    {
     "name": "stdout",
     "output_type": "stream",
     "text": [
      "[1, 2, 3, 6]\n"
     ]
    }
   ],
   "source": [
    "print(list2)"
   ]
  },
  {
   "cell_type": "code",
   "execution_count": 31,
   "metadata": {},
   "outputs": [
    {
     "name": "stdout",
     "output_type": "stream",
     "text": [
      "[1, 2, 4, 5, 6]\n"
     ]
    }
   ],
   "source": [
    "list2=[1,2,3,4,5,6]\n",
    "del list2[2]\n",
    "print(list2)"
   ]
  },
  {
   "cell_type": "code",
   "execution_count": 37,
   "metadata": {},
   "outputs": [
    {
     "name": "stdout",
     "output_type": "stream",
     "text": [
      "[1, 3, 4, 5, 6]\n"
     ]
    }
   ],
   "source": [
    "list2=[1,2,3,4,5,6]\n",
    "list2.remove(2)\n",
    "print(list2)"
   ]
  },
  {
   "cell_type": "markdown",
   "metadata": {},
   "source": [
    "# tupels"
   ]
  },
  {
   "cell_type": "code",
   "execution_count": 38,
   "metadata": {},
   "outputs": [],
   "source": [
    "#tuppels is immuteable\n",
    "atuppel=(1,2,3,4,5)\n",
    "\n"
   ]
  },
  {
   "cell_type": "code",
   "execution_count": 41,
   "metadata": {},
   "outputs": [
    {
     "data": {
      "text/plain": [
       "5"
      ]
     },
     "execution_count": 41,
     "metadata": {},
     "output_type": "execute_result"
    }
   ],
   "source": [
    "len(atuppel)"
   ]
  },
  {
   "cell_type": "markdown",
   "metadata": {},
   "source": [
    "# slicing"
   ]
  },
  {
   "cell_type": "code",
   "execution_count": 43,
   "metadata": {},
   "outputs": [
    {
     "name": "stdout",
     "output_type": "stream",
     "text": [
      "[1, 3, 5, 7, 9, 11, 13]\n"
     ]
    }
   ],
   "source": [
    "slicing_step=[1,2,3,4,5,6,7,8,9,10,11,12,13,14]\n",
    "print(slicing_step[0:13:2])"
   ]
  },
  {
   "cell_type": "code",
   "execution_count": 45,
   "metadata": {},
   "outputs": [
    {
     "name": "stdout",
     "output_type": "stream",
     "text": [
      "[1, 2, 3, 4, 5, 6, 7, 8, 9, 10, 11, 12, 13]\n"
     ]
    }
   ],
   "source": [
    "slicing_step=[1,2,3,4,5,6,7,8,9,10,11,12,13,14]\n",
    "print(slicing_step[0:13])"
   ]
  },
  {
   "cell_type": "code",
   "execution_count": 47,
   "metadata": {},
   "outputs": [
    {
     "name": "stdout",
     "output_type": "stream",
     "text": [
      "[1, 3, 5, 7, 9, 11, 13]\n"
     ]
    }
   ],
   "source": [
    "slicing_step=[1,2,3,4,5,6,7,8,9,10,11,12,13,14]\n",
    "print(slicing_step[::2])"
   ]
  },
  {
   "cell_type": "markdown",
   "metadata": {},
   "source": [
    "# adding values"
   ]
  },
  {
   "cell_type": "code",
   "execution_count": 54,
   "metadata": {},
   "outputs": [
    {
     "name": "stdout",
     "output_type": "stream",
     "text": [
      "['bilal', 'haroon', 'sanaullah', 'abrar']\n"
     ]
    }
   ],
   "source": [
    "student_list=[\"bilal\",\"haroon\",\"sanaullah\"]\n",
    "student_list.append(\"abrar\")\n",
    "print(student_list)"
   ]
  },
  {
   "cell_type": "code",
   "execution_count": 57,
   "metadata": {},
   "outputs": [
    {
     "name": "stdout",
     "output_type": "stream",
     "text": [
      "['bilal', 'haroon', 'sanaullah', 'abrar']\n"
     ]
    }
   ],
   "source": [
    "print(student_list)"
   ]
  },
  {
   "cell_type": "code",
   "execution_count": 72,
   "metadata": {},
   "outputs": [],
   "source": [
    "student_list.append(\"abubakar\")"
   ]
  },
  {
   "cell_type": "code",
   "execution_count": 74,
   "metadata": {},
   "outputs": [
    {
     "name": "stdout",
     "output_type": "stream",
     "text": [
      "['bilal', 'haroon', 'sanaullah', 'abrar', 'kamil', 'kamil', 'kamil', 'kamil', 'kamil', 'kamil', 'kamil', 'kaml', 'kal', 'abubakar']\n"
     ]
    }
   ],
   "source": [
    "print(student_list)"
   ]
  },
  {
   "cell_type": "code",
   "execution_count": 77,
   "metadata": {},
   "outputs": [
    {
     "name": "stdout",
     "output_type": "stream",
     "text": [
      "['bilal', 'haroon', 'junaid', 'junaid', 'sanaullah', 'abrar', 'kamil', 'kamil', 'kamil', 'kamil', 'kamil', 'kamil', 'kamil', 'kaml', 'kal', 'abubakar']\n"
     ]
    }
   ],
   "source": [
    "student_list.insert(2,\"junaid\")\n",
    "print(student_list)"
   ]
  },
  {
   "cell_type": "code",
   "execution_count": 82,
   "metadata": {},
   "outputs": [
    {
     "name": "stdout",
     "output_type": "stream",
     "text": [
      "['bilal', 'haroon', 'junaid', 'junaid', 'sanaullah', 'abrar', 'kamil', 'kamil', 'kamil', 'kamil', 'kamil', 'kamil', 'kamil', 'kaml', 'kal', 'abubakar', 'usman', 'khalid', 'usman', 'khalid', 'usman', 'khalid']\n"
     ]
    }
   ],
   "source": [
    "student_list.extend({\"khalid\",\"usman\"})\n",
    "print(student_list)"
   ]
  },
  {
   "cell_type": "code",
   "execution_count": 81,
   "metadata": {},
   "outputs": [
    {
     "name": "stdout",
     "output_type": "stream",
     "text": [
      "['bilal', 'haroon', 'junaid', 'junaid', 'sanaullah', 'abrar', 'kamil', 'kamil', 'kamil', 'kamil', 'kamil', 'kamil', 'kamil', 'kaml', 'kal', 'abubakar', 'usman', 'khalid', 'usman', 'khalid']\n"
     ]
    }
   ],
   "source": [
    "print(student_list)"
   ]
  },
  {
   "cell_type": "code",
   "execution_count": 84,
   "metadata": {},
   "outputs": [
    {
     "data": {
      "text/plain": [
       "7"
      ]
     },
     "execution_count": 84,
     "metadata": {},
     "output_type": "execute_result"
    }
   ],
   "source": [
    "student_list.count(\"kamil\")"
   ]
  },
  {
   "cell_type": "code",
   "execution_count": 88,
   "metadata": {},
   "outputs": [],
   "source": [
    "student_list2 = student_list.copy()"
   ]
  },
  {
   "cell_type": "code",
   "execution_count": 90,
   "metadata": {},
   "outputs": [
    {
     "name": "stdout",
     "output_type": "stream",
     "text": [
      "['bilal', 'haroon', 'junaid', 'junaid', 'sanaullah', 'abrar', 'kamil', 'kamil', 'kamil', 'kamil', 'kamil', 'kamil', 'kamil', 'kaml', 'kal', 'abubakar', 'usman', 'khalid', 'usman', 'khalid', 'usman', 'khalid']\n"
     ]
    }
   ],
   "source": [
    "print(student_list2)"
   ]
  },
  {
   "cell_type": "code",
   "execution_count": 94,
   "metadata": {},
   "outputs": [],
   "source": [
    "student_list3 = student_list"
   ]
  },
  {
   "cell_type": "code",
   "execution_count": 99,
   "metadata": {},
   "outputs": [
    {
     "data": {
      "text/plain": [
       "['bilal',\n",
       " 'haroon',\n",
       " 'junaid',\n",
       " 'junaid',\n",
       " 'sanaullah',\n",
       " 'abrar',\n",
       " 'kamil',\n",
       " 'kamil',\n",
       " 'kamil',\n",
       " 'kamil',\n",
       " 'kamil',\n",
       " 'kamil',\n",
       " 'kamil',\n",
       " 'kaml',\n",
       " 'kal',\n",
       " 'abubakar',\n",
       " 'usman',\n",
       " 'khalid',\n",
       " 'usman',\n",
       " 'khalid',\n",
       " 'usman',\n",
       " 'khalid',\n",
       " 'don',\n",
       " 'don']"
      ]
     },
     "execution_count": 99,
     "metadata": {},
     "output_type": "execute_result"
    }
   ],
   "source": [
    "student_list3"
   ]
  },
  {
   "cell_type": "code",
   "execution_count": 102,
   "metadata": {},
   "outputs": [
    {
     "name": "stdout",
     "output_type": "stream",
     "text": [
      "['bilal', 'haroon', 'junaid', 'junaid', 'sanaullah', 'abrar', 'kamil', 'kamil', 'kamil', 'kamil', 'kamil', 'kamil', 'kamil', 'kaml', 'kal', 'abubakar', 'usman', 'khalid', 'usman', 'khalid', 'usman', 'khalid', 'don', 'don', 'don', 'don', 'don']\n"
     ]
    }
   ],
   "source": [
    "student_list.append(\"don\")\n",
    "print(student_list3)"
   ]
  },
  {
   "cell_type": "code",
   "execution_count": 103,
   "metadata": {},
   "outputs": [
    {
     "name": "stdout",
     "output_type": "stream",
     "text": [
      "['bilal', 'haroon', 'junaid', 'junaid', 'sanaullah', 'abrar', 'kamil', 'kamil', 'kamil', 'kamil', 'kamil', 'kamil', 'kamil', 'kaml', 'kal', 'abubakar', 'usman', 'khalid', 'usman', 'khalid', 'usman', 'khalid']\n"
     ]
    }
   ],
   "source": [
    "print(student_list2)"
   ]
  }
 ],
 "metadata": {
  "kernelspec": {
   "display_name": "Python 3",
   "language": "python",
   "name": "python3"
  },
  "language_info": {
   "codemirror_mode": {
    "name": "ipython",
    "version": 3
   },
   "file_extension": ".py",
   "mimetype": "text/x-python",
   "name": "python",
   "nbconvert_exporter": "python",
   "pygments_lexer": "ipython3",
   "version": "3.7.3"
  }
 },
 "nbformat": 4,
 "nbformat_minor": 2
}
