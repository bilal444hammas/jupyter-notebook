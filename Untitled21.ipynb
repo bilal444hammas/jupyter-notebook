{
 "cells": [
  {
   "cell_type": "code",
   "execution_count": 2,
   "metadata": {},
   "outputs": [
    {
     "name": "stdout",
     "output_type": "stream",
     "text": [
      "[[1, 2, 3, 4], ['a', 'b', 1, 2, 'pythons', 10], ['a', 's', 'd']]\n"
     ]
    }
   ],
   "source": [
    "list_1=[1,2,3,4,]\n",
    "list_2=[\"a\",\"b\",1,2,\"pythons\",10]\n",
    "list_3=[\"a\",\"s\",\"d\"]\n",
    "list_4=[list_1,list_2,list_3]\n",
    "print(list_4)"
   ]
  },
  {
   "cell_type": "code",
   "execution_count": 3,
   "metadata": {},
   "outputs": [
    {
     "name": "stdout",
     "output_type": "stream",
     "text": [
      "[[1, 2, 3, 4, 'a', 'b', 1, 2, 'pythons', 10, 'a', 's', 'd']]\n"
     ]
    }
   ],
   "source": [
    "list_1=[1,2,3,4,]\n",
    "list_2=[\"a\",\"b\",1,2,\"pythons\",10]\n",
    "list_3=[\"a\",\"s\",\"d\"]\n",
    "list_4=[list_1+list_2+list_3]\n",
    "print(list_4)"
   ]
  },
  {
   "cell_type": "code",
   "execution_count": 11,
   "metadata": {},
   "outputs": [
    {
     "name": "stdout",
     "output_type": "stream",
     "text": [
      "[1, 2, 3, 4, 'a', 'b', 1, 2, 'pythons', 10]\n"
     ]
    }
   ],
   "source": [
    "list_1=[1,2,3,4,]\n",
    "list_2=[\"a\",\"b\",1,2,\"pythons\",10]\n",
    "list_3=[\"a\",\"s\",\"d\"]\n",
    "list_1.extend(list_2)\n",
    "print(list_1)\n",
    "\n"
   ]
  },
  {
   "cell_type": "code",
   "execution_count": 14,
   "metadata": {},
   "outputs": [
    {
     "name": "stdout",
     "output_type": "stream",
     "text": [
      "[1, 2, 4, 5, 5, 6, 8, 9]\n"
     ]
    }
   ],
   "source": [
    "list_1=[2,5,1,8,9,5,6,4,]\n",
    "list_1.sort()\n",
    "print(list_1)"
   ]
  },
  {
   "cell_type": "code",
   "execution_count": 16,
   "metadata": {},
   "outputs": [
    {
     "data": {
      "text/plain": [
       "[2, 5, 1, 8, 9]"
      ]
     },
     "execution_count": 16,
     "metadata": {},
     "output_type": "execute_result"
    }
   ],
   "source": [
    "list_1=[2,5,1,8,9,5,6,4,]\n",
    "list_1[0:5]"
   ]
  },
  {
   "cell_type": "code",
   "execution_count": 18,
   "metadata": {},
   "outputs": [
    {
     "data": {
      "text/plain": [
       "{'one': 1, 'two': 2, 'three': 3}"
      ]
     },
     "execution_count": 18,
     "metadata": {},
     "output_type": "execute_result"
    }
   ],
   "source": [
    "my_other_list={\"one\":1,\"two\":2,\"three\":3}\n",
    "my_other_list"
   ]
  },
  {
   "cell_type": "code",
   "execution_count": 24,
   "metadata": {},
   "outputs": [
    {
     "data": {
      "text/plain": [
       "{'name': 'sharfoo', 'addrese': '123 korangi'}"
      ]
     },
     "execution_count": 24,
     "metadata": {},
     "output_type": "execute_result"
    }
   ],
   "source": [
    "dict={\"name\":\"sharfoo\",\"addrese\":\"123 korangi\"}\n",
    "dict"
   ]
  },
  {
   "cell_type": "code",
   "execution_count": 29,
   "metadata": {},
   "outputs": [
    {
     "data": {
      "text/plain": [
       "'sharfoo'"
      ]
     },
     "execution_count": 29,
     "metadata": {},
     "output_type": "execute_result"
    }
   ],
   "source": [
    "dict={\"name\":\"sharfoo\",\"addrese\":\"123 korangi\"}\n",
    "dict[\"name\"]"
   ]
  },
  {
   "cell_type": "code",
   "execution_count": 30,
   "metadata": {},
   "outputs": [
    {
     "data": {
      "text/plain": [
       "[1, 2, 4, 5, 5, 6, 8, 9]"
      ]
     },
     "execution_count": 30,
     "metadata": {},
     "output_type": "execute_result"
    }
   ],
   "source": [
    "list_1=[2,5,1,8,9,5,6,4,]\n",
    "list_1.sort()\n",
    "list_1"
   ]
  },
  {
   "cell_type": "code",
   "execution_count": 33,
   "metadata": {},
   "outputs": [
    {
     "data": {
      "text/plain": [
       "dict_keys(['name', 'addrese'])"
      ]
     },
     "execution_count": 33,
     "metadata": {},
     "output_type": "execute_result"
    }
   ],
   "source": [
    "dict={\"name\":\"sharfoo\",\"addrese\":\"123 korangi\"}\n",
    "dict.keys()"
   ]
  },
  {
   "cell_type": "code",
   "execution_count": 35,
   "metadata": {},
   "outputs": [
    {
     "data": {
      "text/plain": [
       "dict_values(['sharfoo', '123 korangi'])"
      ]
     },
     "execution_count": 35,
     "metadata": {},
     "output_type": "execute_result"
    }
   ],
   "source": [
    "dict={\"name\":\"sharfoo\",\"addrese\":\"123 korangi\"}\n",
    "dict.values()"
   ]
  },
  {
   "cell_type": "code",
   "execution_count": null,
   "metadata": {},
   "outputs": [],
   "source": []
  }
 ],
 "metadata": {
  "kernelspec": {
   "display_name": "Python 3",
   "language": "python",
   "name": "python3"
  },
  "language_info": {
   "codemirror_mode": {
    "name": "ipython",
    "version": 3
   },
   "file_extension": ".py",
   "mimetype": "text/x-python",
   "name": "python",
   "nbconvert_exporter": "python",
   "pygments_lexer": "ipython3",
   "version": "3.7.3"
  }
 },
 "nbformat": 4,
 "nbformat_minor": 2
}
