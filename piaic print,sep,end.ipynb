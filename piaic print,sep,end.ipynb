{
 "cells": [
  {
   "cell_type": "code",
   "execution_count": 10,
   "metadata": {},
   "outputs": [
    {
     "name": "stdout",
     "output_type": "stream",
     "text": [
      "bilal haroon\n"
     ]
    }
   ],
   "source": [
    "print(\"bilal\", \"haroon\")"
   ]
  },
  {
   "cell_type": "code",
   "execution_count": 9,
   "metadata": {},
   "outputs": [
    {
     "name": "stdout",
     "output_type": "stream",
     "text": [
      "bilal haroon\n"
     ]
    }
   ],
   "source": [
    "print(\"bilal\", \"haroon\", sep=\" \")"
   ]
  },
  {
   "cell_type": "code",
   "execution_count": 12,
   "metadata": {},
   "outputs": [
    {
     "name": "stdout",
     "output_type": "stream",
     "text": [
      "bilalharoon\n"
     ]
    }
   ],
   "source": [
    "print(\"bilal\", \"haroon\", sep=\"\")"
   ]
  },
  {
   "cell_type": "code",
   "execution_count": 14,
   "metadata": {},
   "outputs": [
    {
     "name": "stdout",
     "output_type": "stream",
     "text": [
      "helo world\n",
      "helo world\n",
      "helo world\n"
     ]
    }
   ],
   "source": [
    "print(\"helo world\")\n",
    "print(\"helo world\")\n",
    "print(\"helo world\")"
   ]
  },
  {
   "cell_type": "code",
   "execution_count": 19,
   "metadata": {},
   "outputs": [
    {
     "name": "stdout",
     "output_type": "stream",
     "text": [
      "helo world\thelo world\thelo world\n"
     ]
    }
   ],
   "source": [
    "print(\"helo world\",end=\"\\t\")\n",
    "print(\"helo world\",end=\"\\t\")\n",
    "print(\"helo world\")"
   ]
  },
  {
   "cell_type": "code",
   "execution_count": 20,
   "metadata": {},
   "outputs": [
    {
     "name": "stdout",
     "output_type": "stream",
     "text": [
      "helo world\t\thelo world\t\thelo world\n"
     ]
    }
   ],
   "source": [
    "print(\"helo world\",end=\"\\t\\t\")\n",
    "print(\"helo world\",end=\"\\t\\t\")\n",
    "print(\"helo world\")"
   ]
  },
  {
   "cell_type": "code",
   "execution_count": 21,
   "metadata": {},
   "outputs": [
    {
     "name": "stdout",
     "output_type": "stream",
     "text": [
      "helo world\n",
      "\n",
      "helo world\n",
      "\n",
      "helo world\n"
     ]
    }
   ],
   "source": [
    "print(\"helo world\",end=\"\\n\\n\")\n",
    "print(\"helo world\",end=\"\\n\\n\")\n",
    "print(\"helo world\")"
   ]
  },
  {
   "cell_type": "code",
   "execution_count": null,
   "metadata": {},
   "outputs": [],
   "source": []
  }
 ],
 "metadata": {
  "kernelspec": {
   "display_name": "Python 3",
   "language": "python",
   "name": "python3"
  },
  "language_info": {
   "codemirror_mode": {
    "name": "ipython",
    "version": 3
   },
   "file_extension": ".py",
   "mimetype": "text/x-python",
   "name": "python",
   "nbconvert_exporter": "python",
   "pygments_lexer": "ipython3",
   "version": "3.7.3"
  }
 },
 "nbformat": 4,
 "nbformat_minor": 2
}
