{
 "cells": [
  {
   "cell_type": "code",
   "execution_count": 1,
   "metadata": {},
   "outputs": [
    {
     "data": {
      "text/plain": [
       "9"
      ]
     },
     "execution_count": 1,
     "metadata": {},
     "output_type": "execute_result"
    }
   ],
   "source": [
    "5+4"
   ]
  },
  {
   "cell_type": "code",
   "execution_count": null,
   "metadata": {},
   "outputs": [],
   "source": []
  },
  {
   "cell_type": "code",
   "execution_count": 2,
   "metadata": {
    "scrolled": true
   },
   "outputs": [
    {
     "name": "stdout",
     "output_type": "stream",
     "text": [
      "karachikarachikarachikarachikarachikarachikarachikarachikarachikarachikarachikarachikarachikarachikarachikarachikarachikarachikarachikarachikarachikarachikarachikarachikarachikarachikarachikarachikarachikarachikarachikarachikarachikarachikarachikarachikarachikarachikarachikarachikarachikarachikarachikarachikarachikarachikarachikarachikarachikarachikarachikarachikarachikarachikarachikarachikarachikarachikarachikarachikarachikarachikarachikarachikarachikarachikarachikarachikarachikarachikarachikarachikarachikarachikarachikarachikarachikarachikarachikarachikarachikarachikarachikarachikarachikarachikarachikarachikarachikarachikarachikarachikarachikarachikarachikarachikarachikarachikarachikarachikarachikarachikarachikarachikarachikarachikarachikarachikarachikarachikarachikarachikarachikarachikarachikarachikarachikarachikarachikarachikarachikarachikarachikarachikarachikarachikarachikarachikarachikarachikarachikarachikarachikarachikarachikarachikarachikarachikarachikarachikarachikarachikarachikarachikarachikarachikarachikarachikarachikarachikarachikarachikarachikarachikarachikarachikarachikarachikarachikarachikarachikarachikarachikarachikarachikarachikarachikarachikarachikarachikarachikarachikarachikarachikarachikarachikarachikarachikarachikarachikarachikarachikarachikarachikarachikarachikarachikarachikarachikarachikarachikarachikarachikarachikarachikarachikarachikarachikarachikarachikarachikarachikarachikarachikarachikarachikarachikarachikarachikarachikarachikarachikarachikarachikarachikarachikarachikarachikarachikarachikarachikarachikarachikarachikarachikarachikarachikarachikarachikarachikarachikarachikarachikarachikarachikarachikarachikarachikarachikarachikarachikarachikarachikarachikarachikarachikarachikarachikarachikarachikarachikarachikarachikarachikarachikarachikarachikarachikarachikarachikarachikarachikarachikarachikarachikarachikarachikarachikarachikarachikarachikarachikarachikarachikarachikarachikarachikarachikarachikarachikarachikarachikarachikarachikarachikarachikarachikarachikarachikarachikarachikarachikarachikarachikarachikarachikarachikarachikarachikarachikarachikarachikarachikarachikarachikarachikarachikarachikarachikarachikarachikarachikarachikarachikarachikarachikarachikarachikarachikarachikarachikarachikarachikarachikarachikarachikarachikarachikarachikarachikarachikarachikarachikarachikarachikarachikarachikarachikarachikarachikarachikarachikarachikarachikarachikarachikarachikarachikarachikarachikarachikarachikarachikarachikarachikarachikarachikarachikarachikarachikarachikarachikarachikarachikarachikarachikarachikarachikarachikarachikarachikarachikarachikarachikarachikarachikarachikarachikarachikarachikarachikarachikarachikarachikarachikarachikarachikarachikarachikarachikarachikarachikarachikarachikarachikarachikarachikarachikarachikarachikarachikarachikarachikarachikarachikarachikarachikarachikarachikarachikarachikarachikarachikarachikarachikarachikarachikarachikarachikarachikarachikarachikarachikarachikarachikarachikarachikarachikarachikarachikarachikarachikarachikarachikarachikarachikarachikarachikarachikarachikarachikarachikarachikarachikarachikarachikarachikarachikarachikarachikarachikarachikarachikarachikarachikarachikarachikarachikarachikarachikarachikarachikarachikarachikarachikarachikarachikarachikarachikarachikarachikarachikarachikarachikarachikarachikarachikarachikarachikarachikarachikarachikarachikarachikarachikarachikarachikarachikarachikarachikarachikarachikarachikarachikarachikarachikarachikarachikarachikarachikarachikarachikarachikarachikarachikarachikarachikarachikarachikarachikarachikarachikarachikarachikarachikarachikarachikarachikarachikarachikarachikarachikarachikarachikarachikarachikarachikarachikarachikarachikarachikarachikarachikarachikarachikarachikarachikarachikarachikarachikarachikarachikarachikarachikarachikarachikarachikarachikarachikarachikarachikarachikarachikarachikarachikarachikarachikarachikarachikarachikarachikarachikarachikarachikarachikarachikarachikarachikarachikarachikarachikarachikarachikarachikarachikarachikarachikarachikarachikarachikarachikarachikarachikarachikarachikarachikarachikarachikarachikarachikarachikarachikarachikarachikarachikarachikarachikarachikarachikarachikarachikarachikarachikarachikarachikarachikarachikarachikarachikarachikarachikarachikarachikarachikarachikarachikarachikarachikarachikarachikarachikarachikarachikarachikarachikarachikarachikarachikarachikarachikarachikarachikarachikarachikarachikarachikarachikarachikarachikarachikarachikarachikarachikarachikarachikarachikarachikarachikarachikarachikarachikarachikarachikarachikarachikarachikarachikarachikarachikarachikarachikarachikarachikarachikarachikarachikarachikarachikarachikarachikarachikarachikarachikarachikarachikarachikarachikarachikarachikarachikarachikarachikarachikarachikarachikarachikarachikarachikarachikarachikarachikarachikarachikarachikarachikarachikarachikarachikarachikarachikarachikarachikarachikarachikarachikarachikarachikarachikarachikarachikarachikarachikarachikarachikarachikarachikarachikarachikarachikarachikarachikarachikarachikarachikarachikarachikarachikarachikarachikarachikarachikarachikarachikarachikarachikarachikarachikarachikarachikarachikarachikarachikarachikarachikarachikarachikarachikarachikarachikarachikarachikarachikarachikarachikarachikarachikarachikarachikarachikarachikarachikarachikarachikarachikarachikarachikarachikarachikarachikarachikarachikarachikarachikarachikarachikarachikarachikarachikarachikarachikarachikarachikarachikarachikarachikarachikarachikarachikarachikarachikarachikarachikarachikarachikarachikarachikarachikarachikarachikarachikarachikarachikarachikarachikarachikarachikarachikarachikarachikarachikarachikarachikarachikarachikarachikarachikarachikarachikarachikarachikarachikarachikarachikarachikarachikarachikarachikarachikarachikarachikarachikarachikarachikarachikarachikarachikarachikarachikarachikarachikarachikarachikarachikarachikarachikarachikarachikarachikarachikarachikarachikarachikarachikarachikarachikarachikarachikarachikarachikarachikarachikarachikarachikarachikarachikarachikarachikarachikarachikarachikarachikarachikarachikarachikarachikarachikarachikarachikarachikarachikarachikarachikarachikarachikarachikarachikarachikarachikarachikarachikarachikarachikarachikarachikarachikarachikarachikarachikarachikarachikarachikarachikarachikarachikarachikarachikarachikarachikarachikarachikarachikarachikarachikarachikarachikarachikarachikarachikarachikarachikarachikarachikarachikarachikarachikarachikarachikarachikarachikarachikarachikarachikarachikarachikarachikarachikarachikarachikarachikarachikarachikarachikarachikarachikarachikarachikarachikarachikarachikarachikarachikarachikarachikarachikarachikarachikarachikarachikarachikarachikarachikarachikarachikarachikarachikarachikarachikarachikarachikarachikarachikarachikarachikarachikarachikarachikarachikarachikarachikarachikarachikarachikarachikarachikarachikarachikarachikarachikarachikarachikarachikarachikarachikarachikarachikarachikarachikarachikarachikarachi\n"
     ]
    }
   ],
   "source": [
    "print(1000*'karachi')"
   ]
  },
  {
   "cell_type": "code",
   "execution_count": 3,
   "metadata": {},
   "outputs": [
    {
     "name": "stdout",
     "output_type": "stream",
     "text": [
      "                          DHA PHAS 5\n"
     ]
    }
   ],
   "source": [
    "spaces=' ' * 25\n",
    "print('%s DHA PHAS 5' % spaces)"
   ]
  },
  {
   "cell_type": "code",
   "execution_count": 4,
   "metadata": {},
   "outputs": [
    {
     "name": "stdout",
     "output_type": "stream",
     "text": [
      "                          12 DHA PHAS 5\n",
      "                          clifton\n",
      "                          west sroning\n",
      "\n",
      "\n",
      "                          dear sir\n",
      "\n",
      "i wish to report that tiles are missing for the\n",
      "out side toilet roof\n",
      "\n",
      "i think it was bad wind the other night\n"
     ]
    }
   ],
   "source": [
    "spaces=' ' * 25\n",
    "print('%s 12 DHA PHAS 5' % spaces)\n",
    "print('%s clifton'% spaces)\n",
    "print('%s west sroning'% spaces)\n",
    "print()\n",
    "print()\n",
    "print('%s dear sir'% spaces)\n",
    "print()\n",
    "print('''i wish to report that tiles are missing for the\n",
    "out side toilet roof\n",
    "\n",
    "i think it was bad wind the other night''')"
   ]
  },
  {
   "cell_type": "code",
   "execution_count": 5,
   "metadata": {},
   "outputs": [
    {
     "name": "stdout",
     "output_type": "stream",
     "text": [
      "[1, 2, 3, 4, 5, 6, 'i', 'ate', 'you', 'bilal']\n"
     ]
    }
   ],
   "source": [
    "list_1=[1,2,3,4,5,6]\n",
    "list_2=['i','ate','you']\n",
    "list_2.append('bilal')\n",
    "list_3=list_1+list_2\n",
    "print(list_3)"
   ]
  },
  {
   "cell_type": "code",
   "execution_count": 6,
   "metadata": {},
   "outputs": [
    {
     "name": "stdout",
     "output_type": "stream",
     "text": [
      "[1, 2, 3, 4, 5, 6, 'i', 'ate', 'you', 'bilal']\n"
     ]
    }
   ],
   "source": [
    "print(list_3)"
   ]
  },
  {
   "cell_type": "code",
   "execution_count": 7,
   "metadata": {},
   "outputs": [
    {
     "name": "stdout",
     "output_type": "stream",
     "text": [
      "[1, 2, 3, 4, 5, 6, 'ate', 'you', 'bilal']\n"
     ]
    }
   ],
   "source": [
    "del list_3[6]\n",
    "print(list_3)"
   ]
  },
  {
   "cell_type": "code",
   "execution_count": 8,
   "metadata": {},
   "outputs": [
    {
     "name": "stdout",
     "output_type": "stream",
     "text": [
      "[1, 2, 3, 4, 5, 6, 'ate', 'you', 'bilal', 'hammas']\n"
     ]
    }
   ],
   "source": [
    "list_3.append('hammas')\n",
    "print(list_3)"
   ]
  },
  {
   "cell_type": "code",
   "execution_count": 9,
   "metadata": {},
   "outputs": [
    {
     "name": "stdout",
     "output_type": "stream",
     "text": [
      "[1, 2, 3, 4, 5, 6, 'ate', 'you', 'hammas']\n"
     ]
    }
   ],
   "source": [
    "del list_3[8]\n",
    "print(list_3)"
   ]
  },
  {
   "cell_type": "code",
   "execution_count": 10,
   "metadata": {},
   "outputs": [
    {
     "name": "stdout",
     "output_type": "stream",
     "text": [
      "{'ali': 'circket', 'fizan': 'football', 'haroon': 'hokey'}\n"
     ]
    }
   ],
   "source": [
    "favrit_sport={'ali':'circket','fizan':'football','haroon':'hokey'}\n",
    "\n",
    "print(favrit_sport)"
   ]
  },
  {
   "cell_type": "code",
   "execution_count": 11,
   "metadata": {},
   "outputs": [
    {
     "name": "stdout",
     "output_type": "stream",
     "text": [
      "{'fizan': 'football', 'haroon': 'hokey'}\n"
     ]
    }
   ],
   "source": [
    "favrit_sport={'ali':'circket','fizan':'football','haroon':'hokey'}\n",
    "del favrit_sport['ali']\n",
    "print(favrit_sport)"
   ]
  },
  {
   "cell_type": "code",
   "execution_count": 12,
   "metadata": {},
   "outputs": [
    {
     "name": "stdout",
     "output_type": "stream",
     "text": [
      "(1, 2, 3, 4, 5, 6)\n"
     ]
    }
   ],
   "source": [
    "fibs=(1,2,3,4,5,6)\n",
    "print(fibs)"
   ]
  },
  {
   "cell_type": "code",
   "execution_count": 13,
   "metadata": {},
   "outputs": [
    {
     "ename": "AttributeError",
     "evalue": "'tuple' object has no attribute 'append'",
     "output_type": "error",
     "traceback": [
      "\u001b[1;31m---------------------------------------------------------------------------\u001b[0m",
      "\u001b[1;31mAttributeError\u001b[0m                            Traceback (most recent call last)",
      "\u001b[1;32m<ipython-input-13-15fe56c33040>\u001b[0m in \u001b[0;36m<module>\u001b[1;34m\u001b[0m\n\u001b[1;32m----> 1\u001b[1;33m \u001b[0mfibs\u001b[0m\u001b[1;33m.\u001b[0m\u001b[0mappend\u001b[0m\u001b[1;33m(\u001b[0m\u001b[1;34m'ali'\u001b[0m\u001b[1;33m)\u001b[0m\u001b[1;33m\u001b[0m\u001b[1;33m\u001b[0m\u001b[0m\n\u001b[0m\u001b[0;32m      2\u001b[0m \u001b[0mprint\u001b[0m\u001b[1;33m(\u001b[0m\u001b[0mfibs\u001b[0m\u001b[1;33m)\u001b[0m\u001b[1;33m\u001b[0m\u001b[1;33m\u001b[0m\u001b[0m\n",
      "\u001b[1;31mAttributeError\u001b[0m: 'tuple' object has no attribute 'append'"
     ]
    }
   ],
   "source": [
    "fibs.append('ali')\n",
    "print(fibs)"
   ]
  },
  {
   "cell_type": "code",
   "execution_count": null,
   "metadata": {},
   "outputs": [],
   "source": [
    "ali=(1,2,3,4,5,6)\n",
    "print(ali)"
   ]
  },
  {
   "cell_type": "code",
   "execution_count": null,
   "metadata": {},
   "outputs": [],
   "source": [
    "ali.append('bilal')"
   ]
  },
  {
   "cell_type": "code",
   "execution_count": 14,
   "metadata": {},
   "outputs": [
    {
     "data": {
      "text/plain": [
       "'C:\\\\Users\\\\DELL'"
      ]
     },
     "execution_count": 14,
     "metadata": {},
     "output_type": "execute_result"
    }
   ],
   "source": [
    "pwd"
   ]
  },
  {
   "cell_type": "code",
   "execution_count": null,
   "metadata": {},
   "outputs": [],
   "source": []
  }
 ],
 "metadata": {
  "kernelspec": {
   "display_name": "Python 3",
   "language": "python",
   "name": "python3"
  },
  "language_info": {
   "codemirror_mode": {
    "name": "ipython",
    "version": 3
   },
   "file_extension": ".py",
   "mimetype": "text/x-python",
   "name": "python",
   "nbconvert_exporter": "python",
   "pygments_lexer": "ipython3",
   "version": "3.7.3"
  }
 },
 "nbformat": 4,
 "nbformat_minor": 2
}
