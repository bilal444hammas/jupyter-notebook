{
 "cells": [
  {
   "cell_type": "code",
   "execution_count": 1,
   "metadata": {},
   "outputs": [
    {
     "name": "stdout",
     "output_type": "stream",
     "text": [
      "0    4\n",
      "1    5\n",
      "2    6\n",
      "3    7\n",
      "4    8\n",
      "dtype: int64\n"
     ]
    }
   ],
   "source": [
    "#must be import panda\n",
    "import pandas as pd\n",
    "obj=pd.Series([4,5,6,7,8])\n",
    "print(obj)"
   ]
  },
  {
   "cell_type": "code",
   "execution_count": 2,
   "metadata": {},
   "outputs": [],
   "source": [
    "import pandas as pd"
   ]
  },
  {
   "cell_type": "code",
   "execution_count": 3,
   "metadata": {},
   "outputs": [],
   "source": [
    "dd=pd.Series([1,2,3,4,5,8])"
   ]
  },
  {
   "cell_type": "code",
   "execution_count": 4,
   "metadata": {},
   "outputs": [
    {
     "data": {
      "text/plain": [
       "0    1\n",
       "1    2\n",
       "2    3\n",
       "3    4\n",
       "4    5\n",
       "5    8\n",
       "dtype: int64"
      ]
     },
     "execution_count": 4,
     "metadata": {},
     "output_type": "execute_result"
    }
   ],
   "source": [
    "dd"
   ]
  },
  {
   "cell_type": "code",
   "execution_count": 5,
   "metadata": {},
   "outputs": [
    {
     "name": "stdout",
     "output_type": "stream",
     "text": [
      "0    1\n",
      "1    2\n",
      "2    3\n",
      "3    4\n",
      "4    5\n",
      "5    8\n",
      "dtype: int64\n"
     ]
    }
   ],
   "source": [
    "print(dd)"
   ]
  },
  {
   "cell_type": "code",
   "execution_count": 6,
   "metadata": {},
   "outputs": [
    {
     "data": {
      "text/plain": [
       "0    4\n",
       "1    5\n",
       "2    6\n",
       "3    7\n",
       "4    8\n",
       "dtype: int64"
      ]
     },
     "execution_count": 6,
     "metadata": {},
     "output_type": "execute_result"
    }
   ],
   "source": [
    "obj"
   ]
  },
  {
   "cell_type": "markdown",
   "metadata": {},
   "source": [
    "# pandas Sereis has two things in one object\n",
    "1) values\n",
    "2)index"
   ]
  },
  {
   "cell_type": "code",
   "execution_count": 7,
   "metadata": {},
   "outputs": [
    {
     "name": "stdout",
     "output_type": "stream",
     "text": [
      "[100 200 333 444]\n"
     ]
    }
   ],
   "source": [
    "sales=pd.Series([100,200,333,444])\n",
    "print(sales.values)"
   ]
  },
  {
   "cell_type": "code",
   "execution_count": 8,
   "metadata": {},
   "outputs": [
    {
     "name": "stdout",
     "output_type": "stream",
     "text": [
      "[100 200 333 444]\n",
      "RangeIndex(start=0, stop=4, step=1)\n"
     ]
    }
   ],
   "source": [
    "sales=pd.Series([100,200,333,444])\n",
    "print(sales.values)\n",
    "print(sales.index)"
   ]
  },
  {
   "cell_type": "code",
   "execution_count": 9,
   "metadata": {},
   "outputs": [
    {
     "name": "stdout",
     "output_type": "stream",
     "text": [
      "[100 200 333 444]\n",
      "Index(['a', 'b', 'c', 'd'], dtype='object')\n"
     ]
    }
   ],
   "source": [
    "sales=pd.Series([100,200,333,444],index=[\"a\",\"b\",\"c\",\"d\"])\n",
    "print(sales.values)\n",
    "print(sales.index)"
   ]
  },
  {
   "cell_type": "code",
   "execution_count": 10,
   "metadata": {},
   "outputs": [
    {
     "name": "stdout",
     "output_type": "stream",
     "text": [
      "a    100\n",
      "b    200\n",
      "c    333\n",
      "d    444\n",
      "dtype: int64\n"
     ]
    }
   ],
   "source": [
    "print(sales)"
   ]
  },
  {
   "cell_type": "code",
   "execution_count": 11,
   "metadata": {},
   "outputs": [],
   "source": [
    "sales1=pd.Series([100,200,333,444],index=[\"a\",\"b\",\"c\",\"d\"],name=\"4 month sales\")"
   ]
  },
  {
   "cell_type": "code",
   "execution_count": 12,
   "metadata": {},
   "outputs": [
    {
     "data": {
      "text/plain": [
       "a    100\n",
       "b    200\n",
       "c    333\n",
       "d    444\n",
       "Name: 4 month sales, dtype: int64"
      ]
     },
     "execution_count": 12,
     "metadata": {},
     "output_type": "execute_result"
    }
   ],
   "source": [
    "sales1"
   ]
  },
  {
   "cell_type": "markdown",
   "metadata": {},
   "source": [
    "# creat a pandas Series to store a canteen data to hold values of how many sanhwithes are sold each day (a week)"
   ]
  },
  {
   "cell_type": "code",
   "execution_count": 13,
   "metadata": {},
   "outputs": [
    {
     "name": "stdout",
     "output_type": "stream",
     "text": [
      "sun     0\n",
      "m0n    10\n",
      "tue    22\n",
      "wen    33\n",
      "thu    44\n",
      "fri    55\n",
      "sat    66\n",
      "dtype: int64\n"
     ]
    }
   ],
   "source": [
    "sw=pd.Series([0,10,22,33,44,55,66],index=[\"sun\",\"m0n\",\"tue\",\"wen\",\"thu\",\"fri\",\"sat\"])\n",
    "print(sw)"
   ]
  },
  {
   "cell_type": "code",
   "execution_count": 14,
   "metadata": {},
   "outputs": [],
   "source": [
    "#call value by position"
   ]
  },
  {
   "cell_type": "code",
   "execution_count": 15,
   "metadata": {},
   "outputs": [
    {
     "name": "stdout",
     "output_type": "stream",
     "text": [
      "33\n"
     ]
    }
   ],
   "source": [
    "print(sw[3])"
   ]
  },
  {
   "cell_type": "code",
   "execution_count": 16,
   "metadata": {},
   "outputs": [],
   "source": [
    "#call value by index"
   ]
  },
  {
   "cell_type": "code",
   "execution_count": 17,
   "metadata": {},
   "outputs": [
    {
     "name": "stdout",
     "output_type": "stream",
     "text": [
      "33\n"
     ]
    }
   ],
   "source": [
    "print(sw[\"wen\"])"
   ]
  },
  {
   "cell_type": "code",
   "execution_count": 18,
   "metadata": {},
   "outputs": [],
   "source": [
    "#multipul value ko call karne k lea array notation lagana hota hai"
   ]
  },
  {
   "cell_type": "code",
   "execution_count": 19,
   "metadata": {},
   "outputs": [
    {
     "name": "stdout",
     "output_type": "stream",
     "text": [
      "tue    22\n",
      "fri    55\n",
      "dtype: int64\n"
     ]
    }
   ],
   "source": [
    "print(sw[[2,5]])"
   ]
  },
  {
   "cell_type": "code",
   "execution_count": 20,
   "metadata": {},
   "outputs": [
    {
     "name": "stdout",
     "output_type": "stream",
     "text": [
      "m0n    10\n",
      "fri    55\n",
      "dtype: int64\n"
     ]
    }
   ],
   "source": [
    "print(sw[[\"m0n\",\"fri\"]])"
   ]
  },
  {
   "cell_type": "code",
   "execution_count": 21,
   "metadata": {},
   "outputs": [],
   "source": [
    "#conditional call"
   ]
  },
  {
   "cell_type": "code",
   "execution_count": 22,
   "metadata": {},
   "outputs": [
    {
     "name": "stdout",
     "output_type": "stream",
     "text": [
      "sun    False\n",
      "m0n    False\n",
      "tue     True\n",
      "wen     True\n",
      "thu     True\n",
      "fri     True\n",
      "sat     True\n",
      "dtype: bool\n"
     ]
    }
   ],
   "source": [
    "print(sw>20)"
   ]
  },
  {
   "cell_type": "code",
   "execution_count": 23,
   "metadata": {},
   "outputs": [
    {
     "name": "stdout",
     "output_type": "stream",
     "text": [
      "tue    22\n",
      "wen    33\n",
      "thu    44\n",
      "fri    55\n",
      "sat    66\n",
      "dtype: int64\n"
     ]
    }
   ],
   "source": [
    "print(sw[sw>20])"
   ]
  },
  {
   "cell_type": "code",
   "execution_count": 24,
   "metadata": {},
   "outputs": [
    {
     "name": "stdout",
     "output_type": "stream",
     "text": [
      "sun     0\n",
      "m0n    10\n",
      "tue    22\n",
      "wen    33\n",
      "dtype: int64\n"
     ]
    }
   ],
   "source": [
    "print(sw[sw<44])"
   ]
  },
  {
   "cell_type": "code",
   "execution_count": 25,
   "metadata": {},
   "outputs": [],
   "source": [
    "# * , /"
   ]
  },
  {
   "cell_type": "code",
   "execution_count": 26,
   "metadata": {},
   "outputs": [
    {
     "name": "stdout",
     "output_type": "stream",
     "text": [
      "sun     0\n",
      "m0n    10\n",
      "tue    22\n",
      "wen    33\n",
      "thu    44\n",
      "fri    55\n",
      "sat    66\n",
      "dtype: int64\n"
     ]
    }
   ],
   "source": [
    "sw * 2 #sw * 2 karne se value us time k lea change ho jai gi par sw ki orignal value par farq ni phare ga.or print sw karane par sw ki orignal value aai gi\n",
    "print(sw)"
   ]
  },
  {
   "cell_type": "code",
   "execution_count": 27,
   "metadata": {},
   "outputs": [
    {
     "data": {
      "text/plain": [
       "sun      0\n",
       "m0n     20\n",
       "tue     44\n",
       "wen     66\n",
       "thu     88\n",
       "fri    110\n",
       "sat    132\n",
       "dtype: int64"
      ]
     },
     "execution_count": 27,
     "metadata": {},
     "output_type": "execute_result"
    }
   ],
   "source": [
    "sw * 2 #sw * 2 karne se value us time k lea change ho jai gi par sw ki orignal value par farq ni phare ga."
   ]
  },
  {
   "cell_type": "code",
   "execution_count": 28,
   "metadata": {},
   "outputs": [
    {
     "data": {
      "text/plain": [
       "sun     0\n",
       "m0n    10\n",
       "tue    22\n",
       "wen    33\n",
       "thu    44\n",
       "fri    55\n",
       "sat    66\n",
       "dtype: int64"
      ]
     },
     "execution_count": 28,
     "metadata": {},
     "output_type": "execute_result"
    }
   ],
   "source": [
    "sw"
   ]
  },
  {
   "cell_type": "code",
   "execution_count": 29,
   "metadata": {},
   "outputs": [],
   "source": [
    "#value change karne k lea "
   ]
  },
  {
   "cell_type": "code",
   "execution_count": 30,
   "metadata": {},
   "outputs": [],
   "source": [
    "sw = sw * 2"
   ]
  },
  {
   "cell_type": "code",
   "execution_count": 31,
   "metadata": {},
   "outputs": [
    {
     "name": "stdout",
     "output_type": "stream",
     "text": [
      "sun      0\n",
      "m0n     20\n",
      "tue     44\n",
      "wen     66\n",
      "thu     88\n",
      "fri    110\n",
      "sat    132\n",
      "dtype: int64\n"
     ]
    }
   ],
   "source": [
    "print (sw)"
   ]
  },
  {
   "cell_type": "code",
   "execution_count": 32,
   "metadata": {},
   "outputs": [],
   "source": [
    "sw = sw / 2"
   ]
  },
  {
   "cell_type": "code",
   "execution_count": 33,
   "metadata": {},
   "outputs": [
    {
     "name": "stdout",
     "output_type": "stream",
     "text": [
      "sun     0.0\n",
      "m0n    10.0\n",
      "tue    22.0\n",
      "wen    33.0\n",
      "thu    44.0\n",
      "fri    55.0\n",
      "sat    66.0\n",
      "dtype: float64\n"
     ]
    }
   ],
   "source": [
    "print(sw)"
   ]
  },
  {
   "cell_type": "code",
   "execution_count": 34,
   "metadata": {},
   "outputs": [
    {
     "data": {
      "text/plain": [
       "sun     0.0\n",
       "m0n    10.0\n",
       "tue    22.0\n",
       "wen    33.0\n",
       "thu    44.0\n",
       "fri    55.0\n",
       "sat    66.0\n",
       "dtype: float64"
      ]
     },
     "execution_count": 34,
     "metadata": {},
     "output_type": "execute_result"
    }
   ],
   "source": [
    "sw"
   ]
  },
  {
   "cell_type": "code",
   "execution_count": 35,
   "metadata": {},
   "outputs": [
    {
     "data": {
      "text/plain": [
       "False"
      ]
     },
     "execution_count": 35,
     "metadata": {},
     "output_type": "execute_result"
    }
   ],
   "source": [
    "\"55.0\" in sw"
   ]
  },
  {
   "cell_type": "code",
   "execution_count": 36,
   "metadata": {},
   "outputs": [
    {
     "data": {
      "text/plain": [
       "True"
      ]
     },
     "execution_count": 36,
     "metadata": {},
     "output_type": "execute_result"
    }
   ],
   "source": [
    "\"sat\" in sw"
   ]
  },
  {
   "cell_type": "code",
   "execution_count": 37,
   "metadata": {},
   "outputs": [],
   "source": [
    "#numpy ky data ko panda mein add karne k lea"
   ]
  },
  {
   "cell_type": "code",
   "execution_count": 38,
   "metadata": {},
   "outputs": [
    {
     "name": "stdout",
     "output_type": "stream",
     "text": [
      "[1 2 3 4 5 6]\n"
     ]
    }
   ],
   "source": [
    "import numpy as np\n",
    "ar=np.array([1,2,3,4,5,6])\n",
    "print(ar)"
   ]
  },
  {
   "cell_type": "code",
   "execution_count": 39,
   "metadata": {},
   "outputs": [
    {
     "name": "stdout",
     "output_type": "stream",
     "text": [
      "a    1\n",
      "b    2\n",
      "c    3\n",
      "d    4\n",
      "e    5\n",
      "f    6\n",
      "dtype: int32\n"
     ]
    }
   ],
   "source": [
    "import numpy as np\n",
    "ar=np.array([1,2,3,4,5,6])\n",
    "ind=np.array([\"a\",\"b\",\"c\",\"d\",\"e\",\"f\"])\n",
    "\n",
    "obj2=pd.Series(ar, index=ind)\n",
    "print(obj2)"
   ]
  },
  {
   "cell_type": "code",
   "execution_count": 40,
   "metadata": {},
   "outputs": [],
   "source": [
    "#dictionary ky data ko panda mein add karne k lea"
   ]
  },
  {
   "cell_type": "code",
   "execution_count": 41,
   "metadata": {},
   "outputs": [
    {
     "name": "stdout",
     "output_type": "stream",
     "text": [
      "bilal       4500000\n",
      "haroon    300000000\n",
      "adnan     345555555\n",
      "junaid     50000000\n",
      "dtype: int64\n"
     ]
    }
   ],
   "source": [
    "sdata={\"bilal\":4500000,\"haroon\":300000000,\"adnan\":345555555,\"junaid\":50000000}\n",
    "tax_pay=pd.Series(sdata)\n",
    "print(tax_pay)"
   ]
  },
  {
   "cell_type": "code",
   "execution_count": 42,
   "metadata": {},
   "outputs": [
    {
     "name": "stdout",
     "output_type": "stream",
     "text": [
      "Index(['bilal', 'haroon', 'adnan', 'junaid'], dtype='object')\n"
     ]
    }
   ],
   "source": [
    "print(tax_pay.index)"
   ]
  },
  {
   "cell_type": "code",
   "execution_count": 43,
   "metadata": {},
   "outputs": [
    {
     "name": "stdout",
     "output_type": "stream",
     "text": [
      "bilal       4500000\n",
      "haroon    300000000\n",
      "adnan     345555555\n",
      "junaid     50000000\n",
      "dtype: int64\n"
     ]
    }
   ],
   "source": [
    "sdata={\"bilal\":4500000,\"haroon\":300000000,\"adnan\":345555555,\"junaid\":50000000}\n",
    "tax_pay=pd.Series(sdata,index=[\"bilal\",\"haroon\",\"adnan\",\"junaid\"])\n",
    "print(tax_pay)"
   ]
  },
  {
   "cell_type": "code",
   "execution_count": 44,
   "metadata": {},
   "outputs": [
    {
     "name": "stdout",
     "output_type": "stream",
     "text": [
      "bilal       4500000\n",
      "haroon    300000000\n",
      "adnan     345555555\n",
      "junaid     50000000\n",
      "dtype: int64\n"
     ]
    }
   ],
   "source": [
    "sdata={\"bilal\":4500000,\"haroon\":300000000,\"adnan\":345555555,\"junaid\":50000000}\n",
    "tax_pay=pd.Series(sdata)\n",
    "print(tax_pay)"
   ]
  },
  {
   "cell_type": "code",
   "execution_count": 45,
   "metadata": {},
   "outputs": [
    {
     "name": "stdout",
     "output_type": "stream",
     "text": [
      "haroon    300000000\n",
      "bilal       4500000\n",
      "adnan     345555555\n",
      "junaid     50000000\n",
      "dtype: int64\n"
     ]
    }
   ],
   "source": [
    "#agar index change kare ge to value bhe change ho jai ge jase bilal ki jaga horon or haroon ki jaga bilal.\n",
    "sdata={\"bilal\":4500000,\"haroon\":300000000,\"adnan\":345555555,\"junaid\":50000000}\n",
    "tax_pay=pd.Series(sdata,index=[\"haroon\",\"bilal\",\"adnan\",\"junaid\"])\n",
    "print(tax_pay)"
   ]
  },
  {
   "cell_type": "code",
   "execution_count": 46,
   "metadata": {},
   "outputs": [
    {
     "name": "stdout",
     "output_type": "stream",
     "text": [
      "haroon    300000000.0\n",
      "bilal       4500000.0\n",
      "adnan     345555555.0\n",
      "junaid     50000000.0\n",
      "ggg               NaN\n",
      "dtype: float64\n"
     ]
    }
   ],
   "source": [
    "#(nan) value wo hoti hai jis mein ham koi value na dein q k 0 zero value bhe value hoti hai. \n",
    "sdata={\"bilal\":4500000,\"haroon\":300000000,\"adnan\":345555555,\"junaid\":50000000}\n",
    "tax_pay=pd.Series(sdata,index=[\"haroon\",\"bilal\",\"adnan\",\"junaid\",\"ggg\"])\n",
    "print(tax_pay)"
   ]
  },
  {
   "cell_type": "code",
   "execution_count": 47,
   "metadata": {},
   "outputs": [
    {
     "data": {
      "text/plain": [
       "haroon    False\n",
       "bilal     False\n",
       "adnan     False\n",
       "junaid    False\n",
       "ggg        True\n",
       "dtype: bool"
      ]
     },
     "execution_count": 47,
     "metadata": {},
     "output_type": "execute_result"
    }
   ],
   "source": [
    "#nan value malom karne k lea\n",
    "pd.isnull(tax_pay)"
   ]
  },
  {
   "cell_type": "code",
   "execution_count": 48,
   "metadata": {},
   "outputs": [
    {
     "data": {
      "text/plain": [
       "haroon    False\n",
       "bilal     False\n",
       "adnan     False\n",
       "junaid    False\n",
       "ggg        True\n",
       "dtype: bool"
      ]
     },
     "execution_count": 48,
     "metadata": {},
     "output_type": "execute_result"
    }
   ],
   "source": [
    "tax_pay.isnull()"
   ]
  },
  {
   "cell_type": "markdown",
   "metadata": {},
   "source": [
    "#                                          DATA FRAME"
   ]
  },
  {
   "cell_type": "code",
   "execution_count": 49,
   "metadata": {},
   "outputs": [],
   "source": [
    "import pandas as pd"
   ]
  },
  {
   "cell_type": "code",
   "execution_count": 50,
   "metadata": {},
   "outputs": [
    {
     "name": "stdout",
     "output_type": "stream",
     "text": [
      "0    3\n",
      "1    2\n",
      "2    1\n",
      "3    6\n",
      "dtype: int64\n",
      "0    a\n",
      "1    b\n",
      "2    c\n",
      "3    d\n",
      "dtype: object\n"
     ]
    }
   ],
   "source": [
    "s1 = pd.Series([3,2,1,6])\n",
    "s2 = pd.Series([\"a\",\"b\",\"c\",\"d\"])\n",
    "print(s1)\n",
    "print(s2)"
   ]
  },
  {
   "cell_type": "code",
   "execution_count": 51,
   "metadata": {},
   "outputs": [],
   "source": [
    "data={\"s1\":s1,\"s2\":s2}"
   ]
  },
  {
   "cell_type": "code",
   "execution_count": 52,
   "metadata": {},
   "outputs": [
    {
     "name": "stdout",
     "output_type": "stream",
     "text": [
      "   s1 s2\n",
      "0   3  a\n",
      "1   2  b\n",
      "2   1  c\n",
      "3   6  d\n"
     ]
    }
   ],
   "source": [
    "frame=pd.DataFrame(data)\n",
    "print(frame)"
   ]
  },
  {
   "cell_type": "code",
   "execution_count": 53,
   "metadata": {},
   "outputs": [
    {
     "name": "stdout",
     "output_type": "stream",
     "text": [
      "0    3\n",
      "1    2\n",
      "2    1\n",
      "3    6\n",
      "dtype: int64\n",
      "0    a\n",
      "1    b\n",
      "2    c\n",
      "3    d\n",
      "dtype: object\n",
      "   s1 s2\n",
      "0   3  a\n",
      "1   2  b\n",
      "2   1  c\n",
      "3   6  d\n"
     ]
    }
   ],
   "source": [
    "import pandas as pd\n",
    "s1 = pd.Series([3,2,1,6])\n",
    "s2 = pd.Series([\"a\",\"b\",\"c\",\"d\"])\n",
    "print(s1)\n",
    "print(s2)\n",
    "data={\"s1\":s1,\"s2\":s2}\n",
    "frame=pd.DataFrame(data)\n",
    "print(frame)"
   ]
  },
  {
   "cell_type": "code",
   "execution_count": 54,
   "metadata": {},
   "outputs": [
    {
     "name": "stdout",
     "output_type": "stream",
     "text": [
      "        city  years  pop\n",
      "0    karachi   2001  1.5\n",
      "1      lahor   2002  2.0\n",
      "2  islamabad   2003  5.2\n",
      "3     multan   2004  6.5\n",
      "4  faislabad   2005  4.8\n"
     ]
    }
   ],
   "source": [
    "city=[\"karachi\",\"lahor\",\"islamabad\",\"multan\",\"faislabad\"]\n",
    "years=[2001,2002,2003,2004,2005]\n",
    "pop=[1.50,2.0,5.2,6.5,4.8]\n",
    "data1={\"city\":city,\"years\":years,\"pop\":pop}\n",
    "frame1=pd.DataFrame(data1)\n",
    "print(frame1)"
   ]
  },
  {
   "cell_type": "code",
   "execution_count": 55,
   "metadata": {},
   "outputs": [
    {
     "name": "stdout",
     "output_type": "stream",
     "text": [
      "         city  years  pop\n",
      "a     karachi   2001  1.5\n",
      "s       lahor   2002  2.0\n",
      "d   islamabad   2003  5.2\n",
      "f      multan   2004  6.5\n",
      "g   faislabad   2005  4.8\n",
      "h  rawalpindi   2006  3.6\n"
     ]
    }
   ],
   "source": [
    "data2={\"city\":[\"karachi\",\"lahor\",\"islamabad\",\"multan\",\"faislabad\",\"rawalpindi\"],\"years\":[2001,2002,2003,2004,2005,2006],\"pop\":[1.50,2.0,5.2,6.5,4.8,3.6]}\n",
    "frame2=pd.DataFrame(data2,index=[\"a\",\"s\",\"d\",\"f\",\"g\",\"h\"])\n",
    "print(frame2)"
   ]
  },
  {
   "cell_type": "code",
   "execution_count": 56,
   "metadata": {},
   "outputs": [
    {
     "ename": "ValueError",
     "evalue": "Shape of passed values is (6, 3), indices imply (7, 3)",
     "output_type": "error",
     "traceback": [
      "\u001b[1;31m---------------------------------------------------------------------------\u001b[0m",
      "\u001b[1;31mValueError\u001b[0m                                Traceback (most recent call last)",
      "\u001b[1;32m~\\Anaconda3\\lib\\site-packages\\pandas\\core\\internals\\managers.py\u001b[0m in \u001b[0;36mcreate_block_manager_from_arrays\u001b[1;34m(arrays, names, axes)\u001b[0m\n\u001b[0;32m   1666\u001b[0m         \u001b[0mblocks\u001b[0m \u001b[1;33m=\u001b[0m \u001b[0mform_blocks\u001b[0m\u001b[1;33m(\u001b[0m\u001b[0marrays\u001b[0m\u001b[1;33m,\u001b[0m \u001b[0mnames\u001b[0m\u001b[1;33m,\u001b[0m \u001b[0maxes\u001b[0m\u001b[1;33m)\u001b[0m\u001b[1;33m\u001b[0m\u001b[1;33m\u001b[0m\u001b[0m\n\u001b[1;32m-> 1667\u001b[1;33m         \u001b[0mmgr\u001b[0m \u001b[1;33m=\u001b[0m \u001b[0mBlockManager\u001b[0m\u001b[1;33m(\u001b[0m\u001b[0mblocks\u001b[0m\u001b[1;33m,\u001b[0m \u001b[0maxes\u001b[0m\u001b[1;33m)\u001b[0m\u001b[1;33m\u001b[0m\u001b[1;33m\u001b[0m\u001b[0m\n\u001b[0m\u001b[0;32m   1668\u001b[0m         \u001b[0mmgr\u001b[0m\u001b[1;33m.\u001b[0m\u001b[0m_consolidate_inplace\u001b[0m\u001b[1;33m(\u001b[0m\u001b[1;33m)\u001b[0m\u001b[1;33m\u001b[0m\u001b[1;33m\u001b[0m\u001b[0m\n",
      "\u001b[1;32m~\\Anaconda3\\lib\\site-packages\\pandas\\core\\internals\\managers.py\u001b[0m in \u001b[0;36m__init__\u001b[1;34m(self, blocks, axes, do_integrity_check)\u001b[0m\n\u001b[0;32m    113\u001b[0m         \u001b[1;32mif\u001b[0m \u001b[0mdo_integrity_check\u001b[0m\u001b[1;33m:\u001b[0m\u001b[1;33m\u001b[0m\u001b[1;33m\u001b[0m\u001b[0m\n\u001b[1;32m--> 114\u001b[1;33m             \u001b[0mself\u001b[0m\u001b[1;33m.\u001b[0m\u001b[0m_verify_integrity\u001b[0m\u001b[1;33m(\u001b[0m\u001b[1;33m)\u001b[0m\u001b[1;33m\u001b[0m\u001b[1;33m\u001b[0m\u001b[0m\n\u001b[0m\u001b[0;32m    115\u001b[0m \u001b[1;33m\u001b[0m\u001b[0m\n",
      "\u001b[1;32m~\\Anaconda3\\lib\\site-packages\\pandas\\core\\internals\\managers.py\u001b[0m in \u001b[0;36m_verify_integrity\u001b[1;34m(self)\u001b[0m\n\u001b[0;32m    310\u001b[0m             \u001b[1;32mif\u001b[0m \u001b[0mblock\u001b[0m\u001b[1;33m.\u001b[0m\u001b[0m_verify_integrity\u001b[0m \u001b[1;32mand\u001b[0m \u001b[0mblock\u001b[0m\u001b[1;33m.\u001b[0m\u001b[0mshape\u001b[0m\u001b[1;33m[\u001b[0m\u001b[1;36m1\u001b[0m\u001b[1;33m:\u001b[0m\u001b[1;33m]\u001b[0m \u001b[1;33m!=\u001b[0m \u001b[0mmgr_shape\u001b[0m\u001b[1;33m[\u001b[0m\u001b[1;36m1\u001b[0m\u001b[1;33m:\u001b[0m\u001b[1;33m]\u001b[0m\u001b[1;33m:\u001b[0m\u001b[1;33m\u001b[0m\u001b[1;33m\u001b[0m\u001b[0m\n\u001b[1;32m--> 311\u001b[1;33m                 \u001b[0mconstruction_error\u001b[0m\u001b[1;33m(\u001b[0m\u001b[0mtot_items\u001b[0m\u001b[1;33m,\u001b[0m \u001b[0mblock\u001b[0m\u001b[1;33m.\u001b[0m\u001b[0mshape\u001b[0m\u001b[1;33m[\u001b[0m\u001b[1;36m1\u001b[0m\u001b[1;33m:\u001b[0m\u001b[1;33m]\u001b[0m\u001b[1;33m,\u001b[0m \u001b[0mself\u001b[0m\u001b[1;33m.\u001b[0m\u001b[0maxes\u001b[0m\u001b[1;33m)\u001b[0m\u001b[1;33m\u001b[0m\u001b[1;33m\u001b[0m\u001b[0m\n\u001b[0m\u001b[0;32m    312\u001b[0m         \u001b[1;32mif\u001b[0m \u001b[0mlen\u001b[0m\u001b[1;33m(\u001b[0m\u001b[0mself\u001b[0m\u001b[1;33m.\u001b[0m\u001b[0mitems\u001b[0m\u001b[1;33m)\u001b[0m \u001b[1;33m!=\u001b[0m \u001b[0mtot_items\u001b[0m\u001b[1;33m:\u001b[0m\u001b[1;33m\u001b[0m\u001b[1;33m\u001b[0m\u001b[0m\n",
      "\u001b[1;32m~\\Anaconda3\\lib\\site-packages\\pandas\\core\\internals\\managers.py\u001b[0m in \u001b[0;36mconstruction_error\u001b[1;34m(tot_items, block_shape, axes, e)\u001b[0m\n\u001b[0;32m   1690\u001b[0m     raise ValueError(\"Shape of passed values is {0}, indices imply {1}\".format(\n\u001b[1;32m-> 1691\u001b[1;33m         passed, implied))\n\u001b[0m\u001b[0;32m   1692\u001b[0m \u001b[1;33m\u001b[0m\u001b[0m\n",
      "\u001b[1;31mValueError\u001b[0m: Shape of passed values is (6, 3), indices imply (7, 3)",
      "\nDuring handling of the above exception, another exception occurred:\n",
      "\u001b[1;31mValueError\u001b[0m                                Traceback (most recent call last)",
      "\u001b[1;32m<ipython-input-56-b4be4d618b88>\u001b[0m in \u001b[0;36m<module>\u001b[1;34m\u001b[0m\n\u001b[0;32m      1\u001b[0m \u001b[0mdata3\u001b[0m\u001b[1;33m=\u001b[0m\u001b[1;33m{\u001b[0m\u001b[1;34m\"city\"\u001b[0m\u001b[1;33m:\u001b[0m\u001b[1;33m[\u001b[0m\u001b[1;34m\"karachi\"\u001b[0m\u001b[1;33m,\u001b[0m\u001b[1;34m\"lahor\"\u001b[0m\u001b[1;33m,\u001b[0m\u001b[1;34m\"islamabad\"\u001b[0m\u001b[1;33m,\u001b[0m\u001b[1;34m\"multan\"\u001b[0m\u001b[1;33m,\u001b[0m\u001b[1;34m\"faislabad\"\u001b[0m\u001b[1;33m]\u001b[0m\u001b[1;33m,\u001b[0m\u001b[1;34m\"years\"\u001b[0m\u001b[1;33m:\u001b[0m\u001b[1;33m[\u001b[0m\u001b[1;36m2001\u001b[0m\u001b[1;33m,\u001b[0m\u001b[1;36m2002\u001b[0m\u001b[1;33m,\u001b[0m\u001b[1;36m2003\u001b[0m\u001b[1;33m,\u001b[0m\u001b[1;36m2004\u001b[0m\u001b[1;33m,\u001b[0m\u001b[1;36m2005\u001b[0m\u001b[1;33m,\u001b[0m\u001b[1;36m2006\u001b[0m\u001b[1;33m]\u001b[0m\u001b[1;33m,\u001b[0m\u001b[1;34m\"pop\"\u001b[0m\u001b[1;33m:\u001b[0m\u001b[1;33m[\u001b[0m\u001b[1;36m2.0\u001b[0m\u001b[1;33m,\u001b[0m\u001b[1;36m5.2\u001b[0m\u001b[1;33m,\u001b[0m\u001b[1;36m6.5\u001b[0m\u001b[1;33m,\u001b[0m\u001b[1;36m4.8\u001b[0m\u001b[1;33m,\u001b[0m\u001b[1;36m1.6\u001b[0m\u001b[1;33m]\u001b[0m\u001b[1;33m}\u001b[0m\u001b[1;33m\u001b[0m\u001b[1;33m\u001b[0m\u001b[0m\n\u001b[1;32m----> 2\u001b[1;33m \u001b[0mframe3\u001b[0m\u001b[1;33m=\u001b[0m\u001b[0mpd\u001b[0m\u001b[1;33m.\u001b[0m\u001b[0mDataFrame\u001b[0m\u001b[1;33m(\u001b[0m\u001b[0mdata2\u001b[0m\u001b[1;33m,\u001b[0m\u001b[0mindex\u001b[0m\u001b[1;33m=\u001b[0m\u001b[1;33m[\u001b[0m\u001b[1;34m\"a\"\u001b[0m\u001b[1;33m,\u001b[0m\u001b[1;34m\"s\"\u001b[0m\u001b[1;33m,\u001b[0m\u001b[1;34m\"d\"\u001b[0m\u001b[1;33m,\u001b[0m\u001b[1;34m\"f\"\u001b[0m\u001b[1;33m,\u001b[0m\u001b[1;34m\"g\"\u001b[0m\u001b[1;33m,\u001b[0m\u001b[1;34m\"h\"\u001b[0m\u001b[1;33m,\u001b[0m\u001b[1;34m\"i\"\u001b[0m\u001b[1;33m]\u001b[0m\u001b[1;33m)\u001b[0m\u001b[1;31m#index agar value se zada ho ga ya kam ho ga to value error aai ga.\u001b[0m\u001b[1;33m\u001b[0m\u001b[1;33m\u001b[0m\u001b[0m\n\u001b[0m\u001b[0;32m      3\u001b[0m \u001b[0mprint\u001b[0m\u001b[1;33m(\u001b[0m\u001b[0mframe3\u001b[0m\u001b[1;33m)\u001b[0m\u001b[1;33m\u001b[0m\u001b[1;33m\u001b[0m\u001b[0m\n",
      "\u001b[1;32m~\\Anaconda3\\lib\\site-packages\\pandas\\core\\frame.py\u001b[0m in \u001b[0;36m__init__\u001b[1;34m(self, data, index, columns, dtype, copy)\u001b[0m\n\u001b[0;32m    390\u001b[0m                                  dtype=dtype, copy=copy)\n\u001b[0;32m    391\u001b[0m         \u001b[1;32melif\u001b[0m \u001b[0misinstance\u001b[0m\u001b[1;33m(\u001b[0m\u001b[0mdata\u001b[0m\u001b[1;33m,\u001b[0m \u001b[0mdict\u001b[0m\u001b[1;33m)\u001b[0m\u001b[1;33m:\u001b[0m\u001b[1;33m\u001b[0m\u001b[1;33m\u001b[0m\u001b[0m\n\u001b[1;32m--> 392\u001b[1;33m             \u001b[0mmgr\u001b[0m \u001b[1;33m=\u001b[0m \u001b[0minit_dict\u001b[0m\u001b[1;33m(\u001b[0m\u001b[0mdata\u001b[0m\u001b[1;33m,\u001b[0m \u001b[0mindex\u001b[0m\u001b[1;33m,\u001b[0m \u001b[0mcolumns\u001b[0m\u001b[1;33m,\u001b[0m \u001b[0mdtype\u001b[0m\u001b[1;33m=\u001b[0m\u001b[0mdtype\u001b[0m\u001b[1;33m)\u001b[0m\u001b[1;33m\u001b[0m\u001b[1;33m\u001b[0m\u001b[0m\n\u001b[0m\u001b[0;32m    393\u001b[0m         \u001b[1;32melif\u001b[0m \u001b[0misinstance\u001b[0m\u001b[1;33m(\u001b[0m\u001b[0mdata\u001b[0m\u001b[1;33m,\u001b[0m \u001b[0mma\u001b[0m\u001b[1;33m.\u001b[0m\u001b[0mMaskedArray\u001b[0m\u001b[1;33m)\u001b[0m\u001b[1;33m:\u001b[0m\u001b[1;33m\u001b[0m\u001b[1;33m\u001b[0m\u001b[0m\n\u001b[0;32m    394\u001b[0m             \u001b[1;32mimport\u001b[0m \u001b[0mnumpy\u001b[0m\u001b[1;33m.\u001b[0m\u001b[0mma\u001b[0m\u001b[1;33m.\u001b[0m\u001b[0mmrecords\u001b[0m \u001b[1;32mas\u001b[0m \u001b[0mmrecords\u001b[0m\u001b[1;33m\u001b[0m\u001b[1;33m\u001b[0m\u001b[0m\n",
      "\u001b[1;32m~\\Anaconda3\\lib\\site-packages\\pandas\\core\\internals\\construction.py\u001b[0m in \u001b[0;36minit_dict\u001b[1;34m(data, index, columns, dtype)\u001b[0m\n\u001b[0;32m    210\u001b[0m         \u001b[0marrays\u001b[0m \u001b[1;33m=\u001b[0m \u001b[1;33m[\u001b[0m\u001b[0mdata\u001b[0m\u001b[1;33m[\u001b[0m\u001b[0mk\u001b[0m\u001b[1;33m]\u001b[0m \u001b[1;32mfor\u001b[0m \u001b[0mk\u001b[0m \u001b[1;32min\u001b[0m \u001b[0mkeys\u001b[0m\u001b[1;33m]\u001b[0m\u001b[1;33m\u001b[0m\u001b[1;33m\u001b[0m\u001b[0m\n\u001b[0;32m    211\u001b[0m \u001b[1;33m\u001b[0m\u001b[0m\n\u001b[1;32m--> 212\u001b[1;33m     \u001b[1;32mreturn\u001b[0m \u001b[0marrays_to_mgr\u001b[0m\u001b[1;33m(\u001b[0m\u001b[0marrays\u001b[0m\u001b[1;33m,\u001b[0m \u001b[0mdata_names\u001b[0m\u001b[1;33m,\u001b[0m \u001b[0mindex\u001b[0m\u001b[1;33m,\u001b[0m \u001b[0mcolumns\u001b[0m\u001b[1;33m,\u001b[0m \u001b[0mdtype\u001b[0m\u001b[1;33m=\u001b[0m\u001b[0mdtype\u001b[0m\u001b[1;33m)\u001b[0m\u001b[1;33m\u001b[0m\u001b[1;33m\u001b[0m\u001b[0m\n\u001b[0m\u001b[0;32m    213\u001b[0m \u001b[1;33m\u001b[0m\u001b[0m\n\u001b[0;32m    214\u001b[0m \u001b[1;33m\u001b[0m\u001b[0m\n",
      "\u001b[1;32m~\\Anaconda3\\lib\\site-packages\\pandas\\core\\internals\\construction.py\u001b[0m in \u001b[0;36marrays_to_mgr\u001b[1;34m(arrays, arr_names, index, columns, dtype)\u001b[0m\n\u001b[0;32m     59\u001b[0m     \u001b[0maxes\u001b[0m \u001b[1;33m=\u001b[0m \u001b[1;33m[\u001b[0m\u001b[0mensure_index\u001b[0m\u001b[1;33m(\u001b[0m\u001b[0mcolumns\u001b[0m\u001b[1;33m)\u001b[0m\u001b[1;33m,\u001b[0m \u001b[0mindex\u001b[0m\u001b[1;33m]\u001b[0m\u001b[1;33m\u001b[0m\u001b[1;33m\u001b[0m\u001b[0m\n\u001b[0;32m     60\u001b[0m \u001b[1;33m\u001b[0m\u001b[0m\n\u001b[1;32m---> 61\u001b[1;33m     \u001b[1;32mreturn\u001b[0m \u001b[0mcreate_block_manager_from_arrays\u001b[0m\u001b[1;33m(\u001b[0m\u001b[0marrays\u001b[0m\u001b[1;33m,\u001b[0m \u001b[0marr_names\u001b[0m\u001b[1;33m,\u001b[0m \u001b[0maxes\u001b[0m\u001b[1;33m)\u001b[0m\u001b[1;33m\u001b[0m\u001b[1;33m\u001b[0m\u001b[0m\n\u001b[0m\u001b[0;32m     62\u001b[0m \u001b[1;33m\u001b[0m\u001b[0m\n\u001b[0;32m     63\u001b[0m \u001b[1;33m\u001b[0m\u001b[0m\n",
      "\u001b[1;32m~\\Anaconda3\\lib\\site-packages\\pandas\\core\\internals\\managers.py\u001b[0m in \u001b[0;36mcreate_block_manager_from_arrays\u001b[1;34m(arrays, names, axes)\u001b[0m\n\u001b[0;32m   1669\u001b[0m         \u001b[1;32mreturn\u001b[0m \u001b[0mmgr\u001b[0m\u001b[1;33m\u001b[0m\u001b[1;33m\u001b[0m\u001b[0m\n\u001b[0;32m   1670\u001b[0m     \u001b[1;32mexcept\u001b[0m \u001b[0mValueError\u001b[0m \u001b[1;32mas\u001b[0m \u001b[0me\u001b[0m\u001b[1;33m:\u001b[0m\u001b[1;33m\u001b[0m\u001b[1;33m\u001b[0m\u001b[0m\n\u001b[1;32m-> 1671\u001b[1;33m         \u001b[0mconstruction_error\u001b[0m\u001b[1;33m(\u001b[0m\u001b[0mlen\u001b[0m\u001b[1;33m(\u001b[0m\u001b[0marrays\u001b[0m\u001b[1;33m)\u001b[0m\u001b[1;33m,\u001b[0m \u001b[0marrays\u001b[0m\u001b[1;33m[\u001b[0m\u001b[1;36m0\u001b[0m\u001b[1;33m]\u001b[0m\u001b[1;33m.\u001b[0m\u001b[0mshape\u001b[0m\u001b[1;33m,\u001b[0m \u001b[0maxes\u001b[0m\u001b[1;33m,\u001b[0m \u001b[0me\u001b[0m\u001b[1;33m)\u001b[0m\u001b[1;33m\u001b[0m\u001b[1;33m\u001b[0m\u001b[0m\n\u001b[0m\u001b[0;32m   1672\u001b[0m \u001b[1;33m\u001b[0m\u001b[0m\n\u001b[0;32m   1673\u001b[0m \u001b[1;33m\u001b[0m\u001b[0m\n",
      "\u001b[1;32m~\\Anaconda3\\lib\\site-packages\\pandas\\core\\internals\\managers.py\u001b[0m in \u001b[0;36mconstruction_error\u001b[1;34m(tot_items, block_shape, axes, e)\u001b[0m\n\u001b[0;32m   1689\u001b[0m         \u001b[1;32mraise\u001b[0m \u001b[0mValueError\u001b[0m\u001b[1;33m(\u001b[0m\u001b[1;34m\"Empty data passed with indices specified.\"\u001b[0m\u001b[1;33m)\u001b[0m\u001b[1;33m\u001b[0m\u001b[1;33m\u001b[0m\u001b[0m\n\u001b[0;32m   1690\u001b[0m     raise ValueError(\"Shape of passed values is {0}, indices imply {1}\".format(\n\u001b[1;32m-> 1691\u001b[1;33m         passed, implied))\n\u001b[0m\u001b[0;32m   1692\u001b[0m \u001b[1;33m\u001b[0m\u001b[0m\n\u001b[0;32m   1693\u001b[0m \u001b[1;33m\u001b[0m\u001b[0m\n",
      "\u001b[1;31mValueError\u001b[0m: Shape of passed values is (6, 3), indices imply (7, 3)"
     ]
    }
   ],
   "source": [
    "data3={\"city\":[\"karachi\",\"lahor\",\"islamabad\",\"multan\",\"faislabad\"],\"years\":[2001,2002,2003,2004,2005,2006],\"pop\":[2.0,5.2,6.5,4.8,1.6]}\n",
    "frame3=pd.DataFrame(data2,index=[\"a\",\"s\",\"d\",\"f\",\"g\",\"h\",\"i\"])#index agar value se zada ho ga ya kam ho ga to value error aai ga.\n",
    "print(frame3)"
   ]
  },
  {
   "cell_type": "code",
   "execution_count": 57,
   "metadata": {},
   "outputs": [
    {
     "data": {
      "text/html": [
       "<div>\n",
       "<style scoped>\n",
       "    .dataframe tbody tr th:only-of-type {\n",
       "        vertical-align: middle;\n",
       "    }\n",
       "\n",
       "    .dataframe tbody tr th {\n",
       "        vertical-align: top;\n",
       "    }\n",
       "\n",
       "    .dataframe thead th {\n",
       "        text-align: right;\n",
       "    }\n",
       "</style>\n",
       "<table border=\"1\" class=\"dataframe\">\n",
       "  <thead>\n",
       "    <tr style=\"text-align: right;\">\n",
       "      <th></th>\n",
       "      <th>city</th>\n",
       "      <th>years</th>\n",
       "      <th>pop</th>\n",
       "    </tr>\n",
       "  </thead>\n",
       "  <tbody>\n",
       "    <tr>\n",
       "      <th>a</th>\n",
       "      <td>karachi</td>\n",
       "      <td>2001</td>\n",
       "      <td>1.5</td>\n",
       "    </tr>\n",
       "    <tr>\n",
       "      <th>s</th>\n",
       "      <td>lahor</td>\n",
       "      <td>2002</td>\n",
       "      <td>2.0</td>\n",
       "    </tr>\n",
       "    <tr>\n",
       "      <th>d</th>\n",
       "      <td>islamabad</td>\n",
       "      <td>2003</td>\n",
       "      <td>5.2</td>\n",
       "    </tr>\n",
       "    <tr>\n",
       "      <th>f</th>\n",
       "      <td>multan</td>\n",
       "      <td>2004</td>\n",
       "      <td>6.5</td>\n",
       "    </tr>\n",
       "    <tr>\n",
       "      <th>g</th>\n",
       "      <td>faislabad</td>\n",
       "      <td>2005</td>\n",
       "      <td>4.8</td>\n",
       "    </tr>\n",
       "  </tbody>\n",
       "</table>\n",
       "</div>"
      ],
      "text/plain": [
       "        city  years  pop\n",
       "a    karachi   2001  1.5\n",
       "s      lahor   2002  2.0\n",
       "d  islamabad   2003  5.2\n",
       "f     multan   2004  6.5\n",
       "g  faislabad   2005  4.8"
      ]
     },
     "execution_count": 57,
     "metadata": {},
     "output_type": "execute_result"
    }
   ],
   "source": [
    "#agar sari value put na karni ho sirf top 5 print karni ho to(.head()) ki cammend use kare ge\n",
    "frame2.head()\n"
   ]
  },
  {
   "cell_type": "code",
   "execution_count": 62,
   "metadata": {},
   "outputs": [
    {
     "data": {
      "text/html": [
       "<div>\n",
       "<style scoped>\n",
       "    .dataframe tbody tr th:only-of-type {\n",
       "        vertical-align: middle;\n",
       "    }\n",
       "\n",
       "    .dataframe tbody tr th {\n",
       "        vertical-align: top;\n",
       "    }\n",
       "\n",
       "    .dataframe thead th {\n",
       "        text-align: right;\n",
       "    }\n",
       "</style>\n",
       "<table border=\"1\" class=\"dataframe\">\n",
       "  <thead>\n",
       "    <tr style=\"text-align: right;\">\n",
       "      <th></th>\n",
       "      <th>city</th>\n",
       "      <th>pop</th>\n",
       "      <th>years</th>\n",
       "    </tr>\n",
       "  </thead>\n",
       "  <tbody>\n",
       "    <tr>\n",
       "      <th>0</th>\n",
       "      <td>karachi</td>\n",
       "      <td>1.5</td>\n",
       "      <td>2001</td>\n",
       "    </tr>\n",
       "    <tr>\n",
       "      <th>1</th>\n",
       "      <td>lahor</td>\n",
       "      <td>2.0</td>\n",
       "      <td>2002</td>\n",
       "    </tr>\n",
       "    <tr>\n",
       "      <th>2</th>\n",
       "      <td>islamabad</td>\n",
       "      <td>5.2</td>\n",
       "      <td>2003</td>\n",
       "    </tr>\n",
       "    <tr>\n",
       "      <th>3</th>\n",
       "      <td>multan</td>\n",
       "      <td>6.5</td>\n",
       "      <td>2004</td>\n",
       "    </tr>\n",
       "    <tr>\n",
       "      <th>4</th>\n",
       "      <td>faislabad</td>\n",
       "      <td>4.8</td>\n",
       "      <td>2005</td>\n",
       "    </tr>\n",
       "  </tbody>\n",
       "</table>\n",
       "</div>"
      ],
      "text/plain": [
       "        city  pop  years\n",
       "0    karachi  1.5   2001\n",
       "1      lahor  2.0   2002\n",
       "2  islamabad  5.2   2003\n",
       "3     multan  6.5   2004\n",
       "4  faislabad  4.8   2005"
      ]
     },
     "execution_count": 62,
     "metadata": {},
     "output_type": "execute_result"
    }
   ],
   "source": [
    "# data frame mein columns ki setting change karne k lea\n",
    "frame2=pd.DataFrame(data2, columns=[\"city\",\"pop\",\"years\"])\n",
    "frame2.head()"
   ]
  },
  {
   "cell_type": "code",
   "execution_count": 63,
   "metadata": {},
   "outputs": [
    {
     "data": {
      "text/html": [
       "<div>\n",
       "<style scoped>\n",
       "    .dataframe tbody tr th:only-of-type {\n",
       "        vertical-align: middle;\n",
       "    }\n",
       "\n",
       "    .dataframe tbody tr th {\n",
       "        vertical-align: top;\n",
       "    }\n",
       "\n",
       "    .dataframe thead th {\n",
       "        text-align: right;\n",
       "    }\n",
       "</style>\n",
       "<table border=\"1\" class=\"dataframe\">\n",
       "  <thead>\n",
       "    <tr style=\"text-align: right;\">\n",
       "      <th></th>\n",
       "      <th>years</th>\n",
       "      <th>pop</th>\n",
       "      <th>city</th>\n",
       "      <th>dept</th>\n",
       "    </tr>\n",
       "  </thead>\n",
       "  <tbody>\n",
       "    <tr>\n",
       "      <th>one</th>\n",
       "      <td>2001</td>\n",
       "      <td>1.5</td>\n",
       "      <td>karachi</td>\n",
       "      <td>NaN</td>\n",
       "    </tr>\n",
       "    <tr>\n",
       "      <th>two</th>\n",
       "      <td>2002</td>\n",
       "      <td>2.0</td>\n",
       "      <td>lahor</td>\n",
       "      <td>NaN</td>\n",
       "    </tr>\n",
       "    <tr>\n",
       "      <th>three</th>\n",
       "      <td>2003</td>\n",
       "      <td>5.2</td>\n",
       "      <td>islamabad</td>\n",
       "      <td>NaN</td>\n",
       "    </tr>\n",
       "    <tr>\n",
       "      <th>four</th>\n",
       "      <td>2004</td>\n",
       "      <td>6.5</td>\n",
       "      <td>multan</td>\n",
       "      <td>NaN</td>\n",
       "    </tr>\n",
       "    <tr>\n",
       "      <th>five</th>\n",
       "      <td>2005</td>\n",
       "      <td>4.8</td>\n",
       "      <td>faislabad</td>\n",
       "      <td>NaN</td>\n",
       "    </tr>\n",
       "    <tr>\n",
       "      <th>six</th>\n",
       "      <td>2006</td>\n",
       "      <td>3.6</td>\n",
       "      <td>rawalpindi</td>\n",
       "      <td>NaN</td>\n",
       "    </tr>\n",
       "  </tbody>\n",
       "</table>\n",
       "</div>"
      ],
      "text/plain": [
       "       years  pop        city dept\n",
       "one     2001  1.5     karachi  NaN\n",
       "two     2002  2.0       lahor  NaN\n",
       "three   2003  5.2   islamabad  NaN\n",
       "four    2004  6.5      multan  NaN\n",
       "five    2005  4.8   faislabad  NaN\n",
       "six     2006  3.6  rawalpindi  NaN"
      ]
     },
     "execution_count": 63,
     "metadata": {},
     "output_type": "execute_result"
    }
   ],
   "source": [
    "#columns add karne k lea or sath index dene k lea\n",
    "frame2=pd.DataFrame(data2, columns=[\"years\",\"pop\",\"city\",\"dept\"],index=[\"one\",\"two\",\"three\",\"four\",\"five\",\"six\"])\n",
    "frame2\n"
   ]
  },
  {
   "cell_type": "code",
   "execution_count": null,
   "metadata": {},
   "outputs": [],
   "source": [
    "frame2=pd.DataFrame(data2, columns=[\"years\",\"pop\",\"city\",\"dept\"],index=[\"one\",\"two\",\"three\",\"four\",\"five\",\"six\"])\n",
    "frame2.head()"
   ]
  },
  {
   "cell_type": "code",
   "execution_count": null,
   "metadata": {},
   "outputs": [],
   "source": [
    "#columns check karne k lea (.columns)"
   ]
  },
  {
   "cell_type": "code",
   "execution_count": null,
   "metadata": {},
   "outputs": [],
   "source": [
    "frame2.columns"
   ]
  },
  {
   "cell_type": "code",
   "execution_count": null,
   "metadata": {},
   "outputs": [],
   "source": [
    "frame2.columns # print likhe bena jupyter sirf last code ko hi print karata hai\n",
    "frame2.index"
   ]
  },
  {
   "cell_type": "code",
   "execution_count": null,
   "metadata": {},
   "outputs": [],
   "source": [
    "print(frame2.columns) \n",
    "print(frame2.index)"
   ]
  },
  {
   "cell_type": "code",
   "execution_count": null,
   "metadata": {},
   "outputs": [],
   "source": [
    "#data frame mein se columns ko call karne k, lea dictinary like notation methord"
   ]
  },
  {
   "cell_type": "code",
   "execution_count": null,
   "metadata": {},
   "outputs": [],
   "source": [
    "print(data2)#yy dictinary hai"
   ]
  },
  {
   "cell_type": "code",
   "execution_count": null,
   "metadata": {},
   "outputs": [],
   "source": [
    "data2[\"years\"]#yy dic mein se call karne k lea"
   ]
  },
  {
   "cell_type": "code",
   "execution_count": null,
   "metadata": {},
   "outputs": [],
   "source": [
    "frame2[\"city\"]#data frame mein se call karne k lea"
   ]
  },
  {
   "cell_type": "code",
   "execution_count": null,
   "metadata": {},
   "outputs": [],
   "source": [
    "frame2[\"pop\"]"
   ]
  },
  {
   "cell_type": "code",
   "execution_count": null,
   "metadata": {},
   "outputs": [],
   "source": [
    "#data call attribute style in data frame"
   ]
  },
  {
   "cell_type": "code",
   "execution_count": null,
   "metadata": {},
   "outputs": [],
   "source": [
    "frame2.city"
   ]
  },
  {
   "cell_type": "code",
   "execution_count": null,
   "metadata": {},
   "outputs": [],
   "source": [
    "frame2.years"
   ]
  },
  {
   "cell_type": "code",
   "execution_count": null,
   "metadata": {},
   "outputs": [],
   "source": [
    "frame2.pop"
   ]
  },
  {
   "cell_type": "code",
   "execution_count": null,
   "metadata": {},
   "outputs": [],
   "source": [
    "frame2.dept"
   ]
  },
  {
   "cell_type": "code",
   "execution_count": null,
   "metadata": {},
   "outputs": [],
   "source": [
    "frame2.loc[\"two\"]#row ka data malom karne k lea"
   ]
  },
  {
   "cell_type": "code",
   "execution_count": null,
   "metadata": {},
   "outputs": [],
   "source": [
    "frame2.iloc[1,2]"
   ]
  },
  {
   "cell_type": "markdown",
   "metadata": {},
   "source": [
    "# Function application And mapping"
   ]
  },
  {
   "cell_type": "code",
   "execution_count": null,
   "metadata": {},
   "outputs": [],
   "source": [
    "import numpy as np\n",
    "import pandas as pd\n",
    "frame = pd.DataFrame(np.random.randn(4,3)\n",
    "                             ,columns=list(\"bde\")\n",
    "                             ,index=[\"utah\",\"ohio\",\"texas\",\"oregon\"])\n",
    "print(frame)\n",
    "print(np.abs(frame))#is se frame ki - value + ho jai gi"
   ]
  },
  {
   "cell_type": "code",
   "execution_count": null,
   "metadata": {},
   "outputs": [],
   "source": [
    "import numpy as np\n",
    "import pandas as pd\n",
    "frame = pd.DataFrame(np.random.randn(4,3)\n",
    "                             ,columns=list(\"bde\")\n",
    "                             ,index=[\"utah\",\"ohio\",\"texas\",\"oregon\"])\n",
    "print(frame)\n",
    "#print(np.abs(frame))#is ko ab band kar dea\n",
    "print(frame[\"d\"].min())\n",
    "print(frame[\"d\"].max())\n",
    "print(frame[\"d\"].max() - frame[\"d\"].min())"
   ]
  },
  {
   "cell_type": "code",
   "execution_count": null,
   "metadata": {},
   "outputs": [],
   "source": [
    "import numpy as np\n",
    "import pandas as pd\n",
    "frame = pd.DataFrame(np.random.randn(4,3)\n",
    "                             ,columns=list(\"bde\")\n",
    "                             ,index=[\"utah\",\"ohio\",\"texas\",\"oregon\"])\n",
    "print(frame)\n",
    "#print(np.abs(frame))#is ko ab band kar dea\n",
    "print(frame[\"d\"].min())\n",
    "print(frame[\"d\"].max())\n",
    "print(frame[\"d\"].max() - frame[\"d\"].min())\n",
    "\n",
    "f=lambda x:x.max() - x.min()\n",
    "df=frame.apply(f)\n",
    "print(df)"
   ]
  },
  {
   "cell_type": "code",
   "execution_count": null,
   "metadata": {},
   "outputs": [],
   "source": [
    "import numpy as np\n",
    "import pandas as pd\n",
    "frame = pd.DataFrame(np.random.randn(4,3)\n",
    "                             ,columns=list(\"bde\")\n",
    "                             ,index=[\"utah\",\"ohio\",\"texas\",\"oregon\"])\n",
    "print(frame)\n",
    "#print(np.abs(frame))#is ko ab band kar dea\n",
    "print(frame[\"d\"].min())\n",
    "print(frame[\"d\"].max())\n",
    "print(frame[\"d\"].max() - frame[\"d\"].min())\n",
    "\n",
    "f=lambda x:x.max() - x.min()\n",
    "df=frame.apply(f)\n",
    "print(df,type(df))#type()   type malom karne k lea hai k kis type ka data hai"
   ]
  },
  {
   "cell_type": "code",
   "execution_count": null,
   "metadata": {},
   "outputs": [],
   "source": [
    "import numpy as np\n",
    "import pandas as pd\n",
    "frame = pd.DataFrame(np.random.randn(4,3)\n",
    "                             ,columns=list(\"bde\")\n",
    "                             ,index=[\"utah\",\"ohio\",\"texas\",\"oregon\"])\n",
    "print(frame)\n",
    "#print(np.abs(frame))#is ko ab band kar dea\n",
    "#print(frame[\"d\"].min())\n",
    "#print(frame[\"d\"].max())\n",
    "#print(frame[\"d\"].max() - frame[\"d\"].min())\n",
    "\n",
    "f=lambda x:x.max() - x.min()\n",
    "df=frame.apply(f)\n",
    "print(df)"
   ]
  },
  {
   "cell_type": "code",
   "execution_count": null,
   "metadata": {},
   "outputs": [],
   "source": [
    "import numpy as np\n",
    "import pandas as pd\n",
    "frame = pd.DataFrame(np.random.randn(4,3)\n",
    "                             ,columns=list(\"bde\")\n",
    "                             ,index=[\"utah\",\"ohio\",\"texas\",\"oregon\"])\n",
    "print(frame)\n",
    "#print(np.abs(frame))#is ko ab band kar dea\n",
    "print(frame[\"d\"].min())#minimum num malom karne k lea (d) column se \n",
    "print(frame[\"d\"].max())#maximum num malom karne k lea (d) column se\n",
    "print(frame[\"d\"].max() - frame[\"d\"].min())\n",
    "\n",
    "f=lambda x:x.max() - x.min()#function banaya hai \n",
    "df=frame.apply(f) #columns par apply ho ga k b,d,e colums mein se max mein se min - kar k batai\n",
    "print(df,type(df))\n",
    "\n",
    "dc=frame.apply(f, axis=1)#row par apply ho ga k sab row mein se max mein se min - kar k batai\n",
    "print(dc)"
   ]
  },
  {
   "cell_type": "code",
   "execution_count": null,
   "metadata": {},
   "outputs": [],
   "source": [
    "import numpy as np\n",
    "import pandas as pd\n",
    "frame = pd.DataFrame(np.random.randn(4,3)\n",
    "                             ,columns=list(\"bde\")\n",
    "                             ,index=[\"utah\",\"ohio\",\"texas\",\"oregon\"])\n",
    "print(frame)\n",
    "#print(np.abs(frame))#is ko ab band kar dea name k bena hai\n",
    "print(frame[\"d\"].min())#minimum num malom karne k lea (d) column se \n",
    "print(frame[\"d\"].max())#maximum num malom karne k lea (d) column se\n",
    "print(frame[\"d\"].max() - frame[\"d\"].min())\n",
    "\n",
    "f=lambda x:x.max() - x.min()#function banaya hai\n",
    "df=frame.apply(f) #columns par apply ho ga k b,d,e colums mein se max mein se min - kar k batai\n",
    "print(df,type(df))\n",
    "\n",
    "dc=frame.apply(f, axis=1)#row par apply ho ga k sab row mein se max mein se min - kar k batai\n",
    "print(dc)\n",
    "\n",
    "def min_max(x):#nam k sath function define karna\n",
    "    minimum=x.min()\n",
    "    maximum=x.max()\n",
    "    return pd.Series([minimum , maximum],index=[\"min\",\"max\"])\n",
    "dd=frame.apply(min_max)\n",
    "print(dd,type(dd))#type()   type malom karne k lea hai k kis type ka data hai"
   ]
  },
  {
   "cell_type": "code",
   "execution_count": null,
   "metadata": {},
   "outputs": [],
   "source": [
    "import numpy as np\n",
    "import pandas as pd\n",
    "frame = pd.DataFrame(np.random.randn(4,3)\n",
    "                             ,columns=list(\"bde\")\n",
    "                             ,index=[\"utah\",\"ohio\",\"texas\",\"oregon\"])\n",
    "print(frame)\n",
    "#print(np.abs(frame))#is ko ab band kar dea\n",
    "print(frame[\"d\"].min())#minimum num malom karne k lea (d) column se \n",
    "print(frame[\"d\"].max())#maximum num malom karne k lea (d) column se\n",
    "print(frame[\"d\"].max() - frame[\"d\"].min())\n",
    "\n",
    "f=lambda x:x.max() - x.min()#function banaya hai\n",
    "df=frame.apply(f) #columns par apply ho ga k b,d,e colums mein se max mein se min - kar k batai\n",
    "print(df,type(df))\n",
    "\n",
    "dc=frame.apply(f, axis=1)#row par apply ho ga k sab row mein se max mein se min - kar k batai\n",
    "print(dc)\n",
    "\n",
    "def min_max(x):#nam k sath function define karna\n",
    "    #minimum=x.min()# is k bena bhe direct apply kar sakte hain function\n",
    "    #maximum=x.max()# is k bena bhe direct apply kar sakte hain function\n",
    "    return pd.Series([x.min(),x.max()],index=[\"min\",\"max\"])#direct apply kea\n",
    "dd=frame.apply(min_max)#columns wise\n",
    "print(dd)\n",
    "\n",
    "\n",
    "dd=frame.apply(min_max, axis=1)#row wise\n",
    "print(dd)"
   ]
  },
  {
   "cell_type": "code",
   "execution_count": null,
   "metadata": {},
   "outputs": [],
   "source": [
    "#apni practice\n",
    "def min_max(x):#nam k sath function define karna\n",
    "    minimum=x.min()\n",
    "    maximum=x.max()\n",
    "    return pd.Series([maximum - minimum],index=[\"max-min\"])\n",
    "dd=frame.apply(min_max)#columns wise\n",
    "print(dd)\n",
    "\n",
    "\n",
    "dd=frame.apply(min_max, axis=1)#row wise\n",
    "print(dd)"
   ]
  },
  {
   "cell_type": "code",
   "execution_count": null,
   "metadata": {},
   "outputs": [],
   "source": [
    "#apni practice\n",
    "def min_max(x):#nam k sath function define karna\n",
    "    #minimum=x.min()\n",
    "    #maximum=x.max()\n",
    "    return pd.Series([x.max() - x.min()],index=[\"max-min\"])#direct apply function\n",
    "dd=frame.apply(min_max)#columns wise\n",
    "print(dd)\n",
    "\n",
    "\n",
    "dd=frame.apply(min_max, axis=1)#row wise\n",
    "print(dd)"
   ]
  },
  {
   "cell_type": "markdown",
   "metadata": {},
   "source": [
    "# sorting and ranking"
   ]
  },
  {
   "cell_type": "code",
   "execution_count": null,
   "metadata": {},
   "outputs": [],
   "source": [
    "x=np.arange(8)"
   ]
  },
  {
   "cell_type": "code",
   "execution_count": null,
   "metadata": {},
   "outputs": [],
   "source": []
  },
  {
   "cell_type": "code",
   "execution_count": null,
   "metadata": {},
   "outputs": [],
   "source": [
    "x"
   ]
  },
  {
   "cell_type": "code",
   "execution_count": null,
   "metadata": {},
   "outputs": [],
   "source": [
    "x.reshape(2,2,2)"
   ]
  },
  {
   "cell_type": "code",
   "execution_count": null,
   "metadata": {},
   "outputs": [],
   "source": [
    "x.reshape((2,4))# .reshape() reshape ka formula hai"
   ]
  },
  {
   "cell_type": "code",
   "execution_count": null,
   "metadata": {},
   "outputs": [],
   "source": [
    "#sort by ranking"
   ]
  },
  {
   "cell_type": "code",
   "execution_count": null,
   "metadata": {
    "scrolled": true
   },
   "outputs": [],
   "source": [
    "import numpy as np\n",
    "import pandas as pd\n",
    "frame1=pd.DataFrame(np.arange(8).reshape((2,4)),index=[\"three\",\"one\"],columns=[\"d\",\"a\",\"c\",\"b\"])\n",
    "print(frame1)\n",
    "print(frame1.sort_index(axis=1))#sort_indexing karne se column name tarteeb se aa jate hain agr axis k sath dea jai to\n",
    "print(frame1.sort_index(axis=1,ascending=False))#asscending False dene se end se tarteeb di jati hai\n",
    "print(frame1.sort_index())#defult mein row ki indexing tarteeb di jati hai or true hoti hai \n",
    "print(frame1.sort_index(axis=0,ascending=False))\n",
    "                    "
   ]
  },
  {
   "cell_type": "code",
   "execution_count": null,
   "metadata": {},
   "outputs": [],
   "source": [
    "#sort by value"
   ]
  },
  {
   "cell_type": "code",
   "execution_count": null,
   "metadata": {},
   "outputs": [],
   "source": [
    "print(frame1.sort_values(by=\"b\"))\n",
    "print(frame1.rank(ascending=False,method=\"max\"))\n",
    "print(frame1.rank(ascending=True,method=\"max\"))\n",
    "print(frame1.rank(ascending=False,method=\"min\"))\n",
    "print(frame1.rank(ascending=True,method=\"min\"))\n",
    "print(frame1.rank(axis=\"columns\"))"
   ]
  },
  {
   "cell_type": "code",
   "execution_count": null,
   "metadata": {},
   "outputs": [],
   "source": [
    "print(frame.sort_values(by=\"b\"))\n",
    "print(frame.rank(ascending=False,method=\"max\"))\n",
    "print(frame.rank(ascending=True,method=\"max\"))\n",
    "print(frame.rank(ascending=False,method=\"min\"))\n",
    "print(frame.rank(ascending=True,method=\"min\"))\n",
    "print(frame.rank(axis=\"columns\"))"
   ]
  },
  {
   "cell_type": "code",
   "execution_count": null,
   "metadata": {},
   "outputs": [],
   "source": [
    "print(frame.rank(axis=\"columns\"))"
   ]
  },
  {
   "cell_type": "markdown",
   "metadata": {},
   "source": [
    "# summarizing and computing descriptive statistics"
   ]
  },
  {
   "cell_type": "code",
   "execution_count": null,
   "metadata": {},
   "outputs": [],
   "source": [
    "df=pd.DataFrame([[1.4,np.nan],[7.1,-4.5],[np.nan,np.nan],[0.75,-1.3]]\n",
    "                ,index=[\"a\",\"b\",\"c\",\"d\"],columns=[\"one\",\"two\"])#yy ak data frame banaya hai\n",
    "print(df)\n",
    "print(df.sum())\n",
    "print(df.sum(axis=\"columns\"))#axis=1 or axis=\"columns\" same kam karte hain\n",
    "print(df.sum(axis=1))#axis=1 or axis=\"columns\" same kam karte hain"
   ]
  },
  {
   "cell_type": "code",
   "execution_count": null,
   "metadata": {},
   "outputs": [],
   "source": [
    "#mean opration"
   ]
  },
  {
   "cell_type": "code",
   "execution_count": null,
   "metadata": {},
   "outputs": [],
   "source": [
    "print(df)\n",
    "x=df.mean()\n",
    "print(x)"
   ]
  },
  {
   "cell_type": "code",
   "execution_count": null,
   "metadata": {},
   "outputs": [],
   "source": [
    "print(df)\n",
    "x=df.mean()\n",
    "print(x)\n",
    "x=df.mean(axis=\"columns\",skipna=False)#mean ki ok value malom karne k lea istemal hota hai\n",
    "print(x)\n",
    "x=df.mean(axis=\"columns\",skipna=True)\n",
    "print(x)"
   ]
  },
  {
   "cell_type": "markdown",
   "metadata": {},
   "source": [
    "# unique value"
   ]
  },
  {
   "cell_type": "code",
   "execution_count": null,
   "metadata": {},
   "outputs": [],
   "source": [
    "df1=pd.DataFrame([[1.4,1.4,1.5,np.nan],[7.1,-4.5,1.5,1.4],[1.4,np.nan,0.5,np.nan]\n",
    "                ,[0.75,-1.3,1.3,np.nan]],index=[\"a\",\"b\",\"c\",\"d\"],columns=[\"one\",\"two\",\"three\",\"four\"])\n",
    "print(df1)\n",
    "print()\n",
    "print(df1[\"one\"].unique(),df1[\"two\"].unique() )#jo value 2 ya us se zada ho gi usa ak hi dafa print karai ga\n",
    "print(df1[\"one\"].value_counts())\n"
   ]
  },
  {
   "cell_type": "markdown",
   "metadata": {},
   "source": [
    "# arithmatic Methods with fill value"
   ]
  },
  {
   "cell_type": "code",
   "execution_count": null,
   "metadata": {},
   "outputs": [],
   "source": [
    "df2=pd.DataFrame(np.arange(12).reshape(3,4),columns=list(\"abcd\"))\n",
    "df3=pd.DataFrame(np.arange(20).reshape((4,5)),columns=list(\"abcde\"))\n",
    "print(df2)\n",
    "print(df3)\n",
    "df3.loc[1,\"b\"]=np.nan#.loc[ ] yy notation use ho ga.\n",
    "print(df3)\n",
    "df4=df2+df3\n",
    "\n",
    "print(\"direct operation without value\")\n",
    "print(df4)\n",
    "print(\".....................\")\n",
    "#we can use add method for filling NaN cell with a value\n",
    "#NaN WILL BE peplaced by 0 and than addition operation will apply\n",
    "print (\"addition using a method with replacing NaN with 0\")\n",
    "df4=df2.add(df3,fill_value=0)\n",
    "print(df4)"
   ]
  },
  {
   "cell_type": "code",
   "execution_count": null,
   "metadata": {},
   "outputs": [],
   "source": [
    "#DataFrame - Series"
   ]
  },
  {
   "cell_type": "code",
   "execution_count": null,
   "metadata": {},
   "outputs": [],
   "source": [
    "import numpy as np\n",
    "import pandas as pd\n",
    "frame2 = pd.DataFrame(np.random.randn(4,3)\n",
    "                             ,columns=list(\"bde\")\n",
    "                             ,index=[\"utah\",\"ohio\",\"texas\",\"oregon\"])\n",
    "print(frame2)\n",
    "\n",
    "\n",
    "series=pd.Series([1,2,3],index=list(\"bde\"))\n",
    "print(series.index,series.values)\n",
    "\n",
    "print(frame2 - series)\n"
   ]
  },
  {
   "cell_type": "markdown",
   "metadata": {},
   "source": [
    "# arithmetic and data alignment."
   ]
  },
  {
   "cell_type": "code",
   "execution_count": null,
   "metadata": {},
   "outputs": [],
   "source": [
    "import numpy as np\n",
    "import pandas as pd\n",
    "data_df=pd.DataFrame(np.arange(16).reshape(4,4),index=[\"ohio\",\"colorado\",\"utah\",\"newyork\"],\n",
    "                     columns=[\"one\",\"two\",\"three\",\"four\"])\n",
    "print(data_df)\n",
    "print(data_df.loc[\"colorado\",[\"two\",\"three\"]])#.loc[] row or columns ka name likh kar call kare ge jo dekhni ho\n",
    "print(data_df.iloc[2,[3,0,1]])#.iloc[] row or columns kawo num batai ge jis num ka data dekhna hai\n",
    "print(data_df.iloc[:])#.loc[:] sara data print ho jai ga\n",
    "print(data_df.iloc[:2,:3])#kitni row or kitne columns dekhne hain\n",
    "print(data_df.iloc[:,:3])#row sab or jitne columns dekhne ho wo batai ge.\n",
    "print()\n",
    "#atribute style hai yy\n",
    "print(data_df.one[2:])#columns one ki 2 value print ki hon gi\n",
    "print()\n",
    "#dictionary style\n",
    "print(data_df[[\"one\",\"two\"]][:2])"
   ]
  },
  {
   "cell_type": "code",
   "execution_count": null,
   "metadata": {},
   "outputs": [],
   "source": [
    "data_df1=pd.DataFrame(np.arange(16).reshape(4,4),index=[\"ohio\",\"colorado\",\"utah\",\"newyork\"],\n",
    "                     columns=[\"one\",\"two\",\"three\",\"four\"])\n",
    "data_df2=pd.DataFrame(np.arange(16).reshape(4,4),index=[\"bilal\",\"colorado\",\"utah\",\"newyork\"],\n",
    "                     columns=[\"one\",\"three\",\"four\",\"six\"])\n",
    "print(data_df1)\n",
    "print(data_df2)\n",
    "data_df3=data_df1 + data_df2\n",
    "print(data_df3)"
   ]
  },
  {
   "cell_type": "code",
   "execution_count": null,
   "metadata": {},
   "outputs": [],
   "source": [
    "data_df3=data_df1.add(data_df2,fill_value=0)\n",
    "print(data_df3)"
   ]
  },
  {
   "cell_type": "code",
   "execution_count": null,
   "metadata": {},
   "outputs": [],
   "source": [
    "#data calling numpy and dictionary style"
   ]
  },
  {
   "cell_type": "code",
   "execution_count": null,
   "metadata": {},
   "outputs": [],
   "source": [
    "print(data_df,\"\\n\")\n",
    "print(data_df[[\"one\",\"three\"]])#num one or three columns ko call ki\n",
    "print(data_df[2:])#num 2 se neche jitni row hain un sab ko call ki\n",
    "print(data_df[1:3])#num 1 se num 3 tak ki row call ki"
   ]
  },
  {
   "cell_type": "code",
   "execution_count": null,
   "metadata": {},
   "outputs": [],
   "source": [
    "#data calling condition base"
   ]
  },
  {
   "cell_type": "code",
   "execution_count": null,
   "metadata": {},
   "outputs": [],
   "source": [
    "print(data_df[data_df>5])# condition 5 se bhara data print ni ho ga us ki jaga nan aai ga\n",
    "print()\n",
    "print(data_df[data_df[\"three\"]>5])#condition \"three\" column mein 5 se zada value wali sab row print hogi\n",
    "print()\n",
    "print(data_df.three[data_df[\"three\"]>5])#condition jo column print karana ho"
   ]
  },
  {
   "cell_type": "code",
   "execution_count": null,
   "metadata": {},
   "outputs": [],
   "source": [
    "#condition boolean dataframe jahan wo condition value ho gi wahan true or jahan ni ho gi wahan false aai ga\n",
    "print(data_df>5)#sare data par condition lagana\n",
    "print(data_df[\"three\"]>5)#kisi makhsoos data par condition lagana jase \"three\" num columns par lagai\n",
    "vv=data_df[\"three\"]>5\n",
    "print(data_df[vv])\n",
    "print(data_df[data_df[\"three\"]>5])\n"
   ]
  },
  {
   "cell_type": "code",
   "execution_count": null,
   "metadata": {},
   "outputs": [],
   "source": [
    "#deleting data for .drop"
   ]
  },
  {
   "cell_type": "code",
   "execution_count": null,
   "metadata": {},
   "outputs": [],
   "source": [
    "print(data_df1)\n",
    "print(data_df1.drop(\"two\",axis=1))#columns delet karne k lea\n",
    "print(data_df1.drop(\"ohio\",axis=0))#row delet karne k lea\n",
    "         #yy sirf yahi delet ho ga main data se ni\n",
    "print(data_df1)"
   ]
  },
  {
   "cell_type": "code",
   "execution_count": null,
   "metadata": {},
   "outputs": [],
   "source": [
    "#reindex with ffill methods"
   ]
  },
  {
   "cell_type": "code",
   "execution_count": null,
   "metadata": {},
   "outputs": [],
   "source": [
    "bilal=pd.DataFrame([\"orange\",\"yellow\",\"blue\"],index=[0,3,6])\n",
    "print(bilal)\n",
    "bilal1=bilal.reindex(range(9))\n",
    "print(bilal1)\n",
    "bilal1=bilal.reindex(range(9),method=\"ffill\")\n",
    "print(bilal1)\n",
    "bilal2=bilal1.reindex(range(2,11))\n",
    "print(bilal2)"
   ]
  },
  {
   "cell_type": "code",
   "execution_count": null,
   "metadata": {},
   "outputs": [],
   "source": [
    "#reindex columns name"
   ]
  },
  {
   "cell_type": "code",
   "execution_count": null,
   "metadata": {},
   "outputs": [],
   "source": [
    "print(data_df2)"
   ]
  },
  {
   "cell_type": "code",
   "execution_count": null,
   "metadata": {},
   "outputs": [],
   "source": [
    "c1=[\"one\",\"good\",\"men\",\"six\",\"no\"]\n",
    "c2=data_df2.reindex(columns=c1)\n",
    "print(c2)\n",
    "c2=data_df2.reindex(columns=(c1),method=\"ffill\")#columns par ffill ka methods use ni ho raha hai\n",
    "print(c2)"
   ]
  },
  {
   "cell_type": "code",
   "execution_count": null,
   "metadata": {},
   "outputs": [],
   "source": []
  }
 ],
 "metadata": {
  "kernelspec": {
   "display_name": "Python 3",
   "language": "python",
   "name": "python3"
  },
  "language_info": {
   "codemirror_mode": {
    "name": "ipython",
    "version": 3
   },
   "file_extension": ".py",
   "mimetype": "text/x-python",
   "name": "python",
   "nbconvert_exporter": "python",
   "pygments_lexer": "ipython3",
   "version": "3.7.3"
  }
 },
 "nbformat": 4,
 "nbformat_minor": 2
}
