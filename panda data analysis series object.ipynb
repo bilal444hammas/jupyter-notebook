{
 "cells": [
  {
   "cell_type": "code",
   "execution_count": 9,
   "metadata": {},
   "outputs": [
    {
     "name": "stdout",
     "output_type": "stream",
     "text": [
      "0    4\n",
      "1    5\n",
      "2    6\n",
      "3    7\n",
      "4    8\n",
      "dtype: int64\n"
     ]
    }
   ],
   "source": [
    "#must be import panda\n",
    "import pandas as pd\n",
    "obj=pd.Series([4,5,6,7,8])\n",
    "print(obj)"
   ]
  },
  {
   "cell_type": "code",
   "execution_count": 10,
   "metadata": {},
   "outputs": [],
   "source": [
    "import pandas as pd"
   ]
  },
  {
   "cell_type": "code",
   "execution_count": 11,
   "metadata": {},
   "outputs": [],
   "source": [
    "dd=pd.Series([1,2,3,4,5,8])"
   ]
  },
  {
   "cell_type": "code",
   "execution_count": 12,
   "metadata": {},
   "outputs": [
    {
     "data": {
      "text/plain": [
       "0    1\n",
       "1    2\n",
       "2    3\n",
       "3    4\n",
       "4    5\n",
       "5    8\n",
       "dtype: int64"
      ]
     },
     "execution_count": 12,
     "metadata": {},
     "output_type": "execute_result"
    }
   ],
   "source": [
    "dd"
   ]
  },
  {
   "cell_type": "code",
   "execution_count": 13,
   "metadata": {},
   "outputs": [
    {
     "name": "stdout",
     "output_type": "stream",
     "text": [
      "0    1\n",
      "1    2\n",
      "2    3\n",
      "3    4\n",
      "4    5\n",
      "5    8\n",
      "dtype: int64\n"
     ]
    }
   ],
   "source": [
    "print(dd)"
   ]
  },
  {
   "cell_type": "code",
   "execution_count": 14,
   "metadata": {},
   "outputs": [
    {
     "data": {
      "text/plain": [
       "0    4\n",
       "1    5\n",
       "2    6\n",
       "3    7\n",
       "4    8\n",
       "dtype: int64"
      ]
     },
     "execution_count": 14,
     "metadata": {},
     "output_type": "execute_result"
    }
   ],
   "source": [
    "obj"
   ]
  },
  {
   "cell_type": "markdown",
   "metadata": {},
   "source": [
    "# pandas Sereis has two things in one object\n",
    "1) values\n",
    "2)index"
   ]
  },
  {
   "cell_type": "code",
   "execution_count": 15,
   "metadata": {},
   "outputs": [
    {
     "name": "stdout",
     "output_type": "stream",
     "text": [
      "[100 200 333 444]\n"
     ]
    }
   ],
   "source": [
    "sales=pd.Series([100,200,333,444])\n",
    "print(sales.values)"
   ]
  },
  {
   "cell_type": "code",
   "execution_count": 16,
   "metadata": {},
   "outputs": [
    {
     "name": "stdout",
     "output_type": "stream",
     "text": [
      "[100 200 333 444]\n",
      "RangeIndex(start=0, stop=4, step=1)\n"
     ]
    }
   ],
   "source": [
    "sales=pd.Series([100,200,333,444])\n",
    "print(sales.values)\n",
    "print(sales.index)"
   ]
  },
  {
   "cell_type": "code",
   "execution_count": 17,
   "metadata": {},
   "outputs": [
    {
     "name": "stdout",
     "output_type": "stream",
     "text": [
      "[100 200 333 444]\n",
      "Index(['a', 'b', 'c', 'd'], dtype='object')\n"
     ]
    }
   ],
   "source": [
    "sales=pd.Series([100,200,333,444],index=[\"a\",\"b\",\"c\",\"d\"])\n",
    "print(sales.values)\n",
    "print(sales.index)"
   ]
  },
  {
   "cell_type": "code",
   "execution_count": 18,
   "metadata": {},
   "outputs": [
    {
     "name": "stdout",
     "output_type": "stream",
     "text": [
      "a    100\n",
      "b    200\n",
      "c    333\n",
      "d    444\n",
      "dtype: int64\n"
     ]
    }
   ],
   "source": [
    "print(sales)"
   ]
  },
  {
   "cell_type": "code",
   "execution_count": 19,
   "metadata": {},
   "outputs": [],
   "source": [
    "sales1=pd.Series([100,200,333,444],index=[\"a\",\"b\",\"c\",\"d\"],name=\"4 month sales\")"
   ]
  },
  {
   "cell_type": "code",
   "execution_count": 20,
   "metadata": {},
   "outputs": [
    {
     "data": {
      "text/plain": [
       "a    100\n",
       "b    200\n",
       "c    333\n",
       "d    444\n",
       "Name: 4 month sales, dtype: int64"
      ]
     },
     "execution_count": 20,
     "metadata": {},
     "output_type": "execute_result"
    }
   ],
   "source": [
    "sales1"
   ]
  },
  {
   "cell_type": "markdown",
   "metadata": {},
   "source": [
    "# creat a pandas Series to store a canteen data to hold values of how many sanhwithes are sold each day (a week)"
   ]
  },
  {
   "cell_type": "code",
   "execution_count": 21,
   "metadata": {},
   "outputs": [
    {
     "name": "stdout",
     "output_type": "stream",
     "text": [
      "sun     0\n",
      "m0n    10\n",
      "tue    22\n",
      "wen    33\n",
      "thu    44\n",
      "fri    55\n",
      "sat    66\n",
      "dtype: int64\n"
     ]
    }
   ],
   "source": [
    "sw=pd.Series([0,10,22,33,44,55,66],index=[\"sun\",\"m0n\",\"tue\",\"wen\",\"thu\",\"fri\",\"sat\"])\n",
    "print(sw)"
   ]
  },
  {
   "cell_type": "code",
   "execution_count": 22,
   "metadata": {},
   "outputs": [],
   "source": [
    "#call value by position"
   ]
  },
  {
   "cell_type": "code",
   "execution_count": 23,
   "metadata": {},
   "outputs": [
    {
     "name": "stdout",
     "output_type": "stream",
     "text": [
      "33\n"
     ]
    }
   ],
   "source": [
    "print(sw[3])"
   ]
  },
  {
   "cell_type": "code",
   "execution_count": 24,
   "metadata": {},
   "outputs": [],
   "source": [
    "#call value by index"
   ]
  },
  {
   "cell_type": "code",
   "execution_count": 25,
   "metadata": {},
   "outputs": [
    {
     "name": "stdout",
     "output_type": "stream",
     "text": [
      "33\n"
     ]
    }
   ],
   "source": [
    "print(sw[\"wen\"])"
   ]
  },
  {
   "cell_type": "code",
   "execution_count": 26,
   "metadata": {},
   "outputs": [],
   "source": [
    "#multipul value ko call karne k lea array notation lagana hota hai"
   ]
  },
  {
   "cell_type": "code",
   "execution_count": 27,
   "metadata": {},
   "outputs": [
    {
     "name": "stdout",
     "output_type": "stream",
     "text": [
      "tue    22\n",
      "fri    55\n",
      "dtype: int64\n"
     ]
    }
   ],
   "source": [
    "print(sw[[2,5]])"
   ]
  },
  {
   "cell_type": "code",
   "execution_count": 28,
   "metadata": {},
   "outputs": [
    {
     "name": "stdout",
     "output_type": "stream",
     "text": [
      "m0n    10\n",
      "fri    55\n",
      "dtype: int64\n"
     ]
    }
   ],
   "source": [
    "print(sw[[\"m0n\",\"fri\"]])"
   ]
  },
  {
   "cell_type": "code",
   "execution_count": 29,
   "metadata": {},
   "outputs": [],
   "source": [
    "#conditional call"
   ]
  },
  {
   "cell_type": "code",
   "execution_count": 30,
   "metadata": {},
   "outputs": [
    {
     "name": "stdout",
     "output_type": "stream",
     "text": [
      "sun    False\n",
      "m0n    False\n",
      "tue     True\n",
      "wen     True\n",
      "thu     True\n",
      "fri     True\n",
      "sat     True\n",
      "dtype: bool\n"
     ]
    }
   ],
   "source": [
    "print(sw>20)"
   ]
  },
  {
   "cell_type": "code",
   "execution_count": 31,
   "metadata": {},
   "outputs": [
    {
     "name": "stdout",
     "output_type": "stream",
     "text": [
      "tue    22\n",
      "wen    33\n",
      "thu    44\n",
      "fri    55\n",
      "sat    66\n",
      "dtype: int64\n"
     ]
    }
   ],
   "source": [
    "print(sw[sw>20])"
   ]
  },
  {
   "cell_type": "code",
   "execution_count": 32,
   "metadata": {},
   "outputs": [
    {
     "name": "stdout",
     "output_type": "stream",
     "text": [
      "sun     0\n",
      "m0n    10\n",
      "tue    22\n",
      "wen    33\n",
      "dtype: int64\n"
     ]
    }
   ],
   "source": [
    "print(sw[sw<44])"
   ]
  },
  {
   "cell_type": "code",
   "execution_count": 33,
   "metadata": {},
   "outputs": [],
   "source": [
    "# * , /"
   ]
  },
  {
   "cell_type": "code",
   "execution_count": 34,
   "metadata": {},
   "outputs": [
    {
     "name": "stdout",
     "output_type": "stream",
     "text": [
      "sun     0\n",
      "m0n    10\n",
      "tue    22\n",
      "wen    33\n",
      "thu    44\n",
      "fri    55\n",
      "sat    66\n",
      "dtype: int64\n"
     ]
    }
   ],
   "source": [
    "sw * 2 #sw * 2 karne se value us time k lea change ho jai gi par sw ki orignal value par farq ni phare ga.or print sw karane par sw ki orignal value aai gi\n",
    "print(sw)"
   ]
  },
  {
   "cell_type": "code",
   "execution_count": 35,
   "metadata": {},
   "outputs": [
    {
     "data": {
      "text/plain": [
       "sun      0\n",
       "m0n     20\n",
       "tue     44\n",
       "wen     66\n",
       "thu     88\n",
       "fri    110\n",
       "sat    132\n",
       "dtype: int64"
      ]
     },
     "execution_count": 35,
     "metadata": {},
     "output_type": "execute_result"
    }
   ],
   "source": [
    "sw * 2 #sw * 2 karne se value us time k lea change ho jai gi par sw ki orignal value par farq ni phare ga."
   ]
  },
  {
   "cell_type": "code",
   "execution_count": 36,
   "metadata": {},
   "outputs": [
    {
     "data": {
      "text/plain": [
       "sun     0\n",
       "m0n    10\n",
       "tue    22\n",
       "wen    33\n",
       "thu    44\n",
       "fri    55\n",
       "sat    66\n",
       "dtype: int64"
      ]
     },
     "execution_count": 36,
     "metadata": {},
     "output_type": "execute_result"
    }
   ],
   "source": [
    "sw"
   ]
  },
  {
   "cell_type": "code",
   "execution_count": 37,
   "metadata": {},
   "outputs": [],
   "source": [
    "#value change karne k lea "
   ]
  },
  {
   "cell_type": "code",
   "execution_count": 38,
   "metadata": {},
   "outputs": [],
   "source": [
    "sw = sw * 2"
   ]
  },
  {
   "cell_type": "code",
   "execution_count": 39,
   "metadata": {},
   "outputs": [
    {
     "name": "stdout",
     "output_type": "stream",
     "text": [
      "sun      0\n",
      "m0n     20\n",
      "tue     44\n",
      "wen     66\n",
      "thu     88\n",
      "fri    110\n",
      "sat    132\n",
      "dtype: int64\n"
     ]
    }
   ],
   "source": [
    "print (sw)"
   ]
  },
  {
   "cell_type": "code",
   "execution_count": 40,
   "metadata": {},
   "outputs": [],
   "source": [
    "sw = sw / 2"
   ]
  },
  {
   "cell_type": "code",
   "execution_count": 41,
   "metadata": {},
   "outputs": [
    {
     "name": "stdout",
     "output_type": "stream",
     "text": [
      "sun     0.0\n",
      "m0n    10.0\n",
      "tue    22.0\n",
      "wen    33.0\n",
      "thu    44.0\n",
      "fri    55.0\n",
      "sat    66.0\n",
      "dtype: float64\n"
     ]
    }
   ],
   "source": [
    "print(sw)"
   ]
  },
  {
   "cell_type": "code",
   "execution_count": 42,
   "metadata": {},
   "outputs": [
    {
     "data": {
      "text/plain": [
       "sun     0.0\n",
       "m0n    10.0\n",
       "tue    22.0\n",
       "wen    33.0\n",
       "thu    44.0\n",
       "fri    55.0\n",
       "sat    66.0\n",
       "dtype: float64"
      ]
     },
     "execution_count": 42,
     "metadata": {},
     "output_type": "execute_result"
    }
   ],
   "source": [
    "sw"
   ]
  },
  {
   "cell_type": "code",
   "execution_count": 43,
   "metadata": {},
   "outputs": [
    {
     "data": {
      "text/plain": [
       "False"
      ]
     },
     "execution_count": 43,
     "metadata": {},
     "output_type": "execute_result"
    }
   ],
   "source": [
    "\"55.0\" in sw"
   ]
  },
  {
   "cell_type": "code",
   "execution_count": 44,
   "metadata": {},
   "outputs": [
    {
     "data": {
      "text/plain": [
       "True"
      ]
     },
     "execution_count": 44,
     "metadata": {},
     "output_type": "execute_result"
    }
   ],
   "source": [
    "\"sat\" in sw"
   ]
  },
  {
   "cell_type": "code",
   "execution_count": 45,
   "metadata": {},
   "outputs": [],
   "source": [
    "#numpy ky data ko panda mein add karne k lea"
   ]
  },
  {
   "cell_type": "code",
   "execution_count": 46,
   "metadata": {},
   "outputs": [
    {
     "name": "stdout",
     "output_type": "stream",
     "text": [
      "a    1\n",
      "b    2\n",
      "c    3\n",
      "d    4\n",
      "e    5\n",
      "f    6\n",
      "dtype: int32\n"
     ]
    }
   ],
   "source": [
    "import numpy as np\n",
    "ar=np.array([1,2,3,4,5,6])\n",
    "ind=np.array([\"a\",\"b\",\"c\",\"d\",\"e\",\"f\"])\n",
    "\n",
    "obj2=pd.Series(ar, index=ind)\n",
    "print(obj2)"
   ]
  },
  {
   "cell_type": "code",
   "execution_count": 47,
   "metadata": {},
   "outputs": [],
   "source": [
    "#dictionary ky data ko panda mein add karne k lea"
   ]
  },
  {
   "cell_type": "code",
   "execution_count": 48,
   "metadata": {},
   "outputs": [
    {
     "name": "stdout",
     "output_type": "stream",
     "text": [
      "bilal       4500000\n",
      "haroon    300000000\n",
      "adnan     345555555\n",
      "junaid     50000000\n",
      "dtype: int64\n"
     ]
    }
   ],
   "source": [
    "sdata={\"bilal\":4500000,\"haroon\":300000000,\"adnan\":345555555,\"junaid\":50000000}\n",
    "tax_pay=pd.Series(sdata)\n",
    "print(tax_pay)"
   ]
  },
  {
   "cell_type": "code",
   "execution_count": 49,
   "metadata": {},
   "outputs": [
    {
     "name": "stdout",
     "output_type": "stream",
     "text": [
      "Index(['bilal', 'haroon', 'adnan', 'junaid'], dtype='object')\n"
     ]
    }
   ],
   "source": [
    "print(tax_pay.index)"
   ]
  },
  {
   "cell_type": "code",
   "execution_count": 50,
   "metadata": {},
   "outputs": [
    {
     "name": "stdout",
     "output_type": "stream",
     "text": [
      "bilal       4500000\n",
      "haroon    300000000\n",
      "adnan     345555555\n",
      "junaid     50000000\n",
      "dtype: int64\n"
     ]
    }
   ],
   "source": [
    "sdata={\"bilal\":4500000,\"haroon\":300000000,\"adnan\":345555555,\"junaid\":50000000}\n",
    "tax_pay=pd.Series(sdata,index=[\"bilal\",\"haroon\",\"adnan\",\"junaid\"])\n",
    "print(tax_pay)"
   ]
  },
  {
   "cell_type": "code",
   "execution_count": 51,
   "metadata": {},
   "outputs": [
    {
     "name": "stdout",
     "output_type": "stream",
     "text": [
      "haroon    300000000\n",
      "bilal       4500000\n",
      "adnan     345555555\n",
      "junaid     50000000\n",
      "dtype: int64\n"
     ]
    }
   ],
   "source": [
    "#agar index change kare ge to value bhe change ho jai ge jase bilal ki jaga horon or haroon ki jaga bilal.\n",
    "sdata={\"bilal\":4500000,\"haroon\":300000000,\"adnan\":345555555,\"junaid\":50000000}\n",
    "tax_pay=pd.Series(sdata,index=[\"haroon\",\"bilal\",\"adnan\",\"junaid\"])\n",
    "print(tax_pay)"
   ]
  },
  {
   "cell_type": "code",
   "execution_count": 52,
   "metadata": {},
   "outputs": [
    {
     "name": "stdout",
     "output_type": "stream",
     "text": [
      "haroon    300000000.0\n",
      "bilal       4500000.0\n",
      "adnan     345555555.0\n",
      "junaid     50000000.0\n",
      "ggg               NaN\n",
      "dtype: float64\n"
     ]
    }
   ],
   "source": [
    "#(nan) value wo hoti hai jis mein ham koi value na dein q k 0 zero value bhe value hoti hai. \n",
    "sdata={\"bilal\":4500000,\"haroon\":300000000,\"adnan\":345555555,\"junaid\":50000000}\n",
    "tax_pay=pd.Series(sdata,index=[\"haroon\",\"bilal\",\"adnan\",\"junaid\",\"ggg\"])\n",
    "print(tax_pay)"
   ]
  },
  {
   "cell_type": "code",
   "execution_count": 53,
   "metadata": {},
   "outputs": [
    {
     "data": {
      "text/plain": [
       "haroon    False\n",
       "bilal     False\n",
       "adnan     False\n",
       "junaid    False\n",
       "ggg        True\n",
       "dtype: bool"
      ]
     },
     "execution_count": 53,
     "metadata": {},
     "output_type": "execute_result"
    }
   ],
   "source": [
    "#nan value malom karne k lea\n",
    "pd.isnull(tax_pay)"
   ]
  },
  {
   "cell_type": "code",
   "execution_count": 54,
   "metadata": {},
   "outputs": [
    {
     "data": {
      "text/plain": [
       "haroon    False\n",
       "bilal     False\n",
       "adnan     False\n",
       "junaid    False\n",
       "ggg        True\n",
       "dtype: bool"
      ]
     },
     "execution_count": 54,
     "metadata": {},
     "output_type": "execute_result"
    }
   ],
   "source": [
    "tax_pay.isnull()"
   ]
  },
  {
   "cell_type": "markdown",
   "metadata": {},
   "source": [
    "#                                          DATA FRAME"
   ]
  },
  {
   "cell_type": "code",
   "execution_count": 55,
   "metadata": {},
   "outputs": [],
   "source": [
    "import pandas as pd"
   ]
  },
  {
   "cell_type": "code",
   "execution_count": 56,
   "metadata": {},
   "outputs": [
    {
     "name": "stdout",
     "output_type": "stream",
     "text": [
      "0    3\n",
      "1    2\n",
      "2    1\n",
      "3    6\n",
      "dtype: int64\n",
      "0    a\n",
      "1    b\n",
      "2    c\n",
      "3    d\n",
      "dtype: object\n"
     ]
    }
   ],
   "source": [
    "s1 = pd.Series([3,2,1,6])\n",
    "s2 = pd.Series([\"a\",\"b\",\"c\",\"d\"])\n",
    "print(s1)\n",
    "print(s2)"
   ]
  },
  {
   "cell_type": "code",
   "execution_count": 57,
   "metadata": {},
   "outputs": [],
   "source": [
    "data={\"s1\":s1,\"s2\":s2}"
   ]
  },
  {
   "cell_type": "code",
   "execution_count": 58,
   "metadata": {},
   "outputs": [
    {
     "name": "stdout",
     "output_type": "stream",
     "text": [
      "   s1 s2\n",
      "0   3  a\n",
      "1   2  b\n",
      "2   1  c\n",
      "3   6  d\n"
     ]
    }
   ],
   "source": [
    "frame=pd.DataFrame(data)\n",
    "print(frame)"
   ]
  },
  {
   "cell_type": "code",
   "execution_count": 59,
   "metadata": {},
   "outputs": [
    {
     "name": "stdout",
     "output_type": "stream",
     "text": [
      "0    3\n",
      "1    2\n",
      "2    1\n",
      "3    6\n",
      "dtype: int64\n",
      "0    a\n",
      "1    b\n",
      "2    c\n",
      "3    d\n",
      "dtype: object\n",
      "   s1 s2\n",
      "0   3  a\n",
      "1   2  b\n",
      "2   1  c\n",
      "3   6  d\n"
     ]
    }
   ],
   "source": [
    "import pandas as pd\n",
    "s1 = pd.Series([3,2,1,6])\n",
    "s2 = pd.Series([\"a\",\"b\",\"c\",\"d\"])\n",
    "print(s1)\n",
    "print(s2)\n",
    "data={\"s1\":s1,\"s2\":s2}\n",
    "frame=pd.DataFrame(data)\n",
    "print(frame)"
   ]
  },
  {
   "cell_type": "code",
   "execution_count": 60,
   "metadata": {},
   "outputs": [
    {
     "name": "stdout",
     "output_type": "stream",
     "text": [
      "        city  years  pop\n",
      "0    karachi   2001  1.5\n",
      "1      lahor   2002  2.0\n",
      "2  islamabad   2003  5.2\n",
      "3     multan   2004  6.5\n",
      "4  faislabad   2005  4.8\n"
     ]
    }
   ],
   "source": [
    "city=[\"karachi\",\"lahor\",\"islamabad\",\"multan\",\"faislabad\"]\n",
    "years=[2001,2002,2003,2004,2005]\n",
    "pop=[1.50,2.0,5.2,6.5,4.8]\n",
    "data1={\"city\":city,\"years\":years,\"pop\":pop}\n",
    "frame1=pd.DataFrame(data1)\n",
    "print(frame1)"
   ]
  },
  {
   "cell_type": "code",
   "execution_count": 61,
   "metadata": {},
   "outputs": [
    {
     "name": "stdout",
     "output_type": "stream",
     "text": [
      "         city  years  pop\n",
      "a     karachi   2001  1.5\n",
      "s       lahor   2002  2.0\n",
      "d   islamabad   2003  5.2\n",
      "f      multan   2004  6.5\n",
      "g   faislabad   2005  4.8\n",
      "h  rawalpindi   2006  3.6\n"
     ]
    }
   ],
   "source": [
    "data2={\"city\":[\"karachi\",\"lahor\",\"islamabad\",\"multan\",\"faislabad\",\"rawalpindi\"],\"years\":[2001,2002,2003,2004,2005,2006],\"pop\":[1.50,2.0,5.2,6.5,4.8,3.6]}\n",
    "frame2=pd.DataFrame(data2,index=[\"a\",\"s\",\"d\",\"f\",\"g\",\"h\"])\n",
    "print(frame2)"
   ]
  },
  {
   "cell_type": "code",
   "execution_count": 62,
   "metadata": {},
   "outputs": [
    {
     "ename": "ValueError",
     "evalue": "Shape of passed values is (6, 3), indices imply (7, 3)",
     "output_type": "error",
     "traceback": [
      "\u001b[1;31m---------------------------------------------------------------------------\u001b[0m",
      "\u001b[1;31mValueError\u001b[0m                                Traceback (most recent call last)",
      "\u001b[1;32m~\\Anaconda3\\lib\\site-packages\\pandas\\core\\internals\\managers.py\u001b[0m in \u001b[0;36mcreate_block_manager_from_arrays\u001b[1;34m(arrays, names, axes)\u001b[0m\n\u001b[0;32m   1666\u001b[0m         \u001b[0mblocks\u001b[0m \u001b[1;33m=\u001b[0m \u001b[0mform_blocks\u001b[0m\u001b[1;33m(\u001b[0m\u001b[0marrays\u001b[0m\u001b[1;33m,\u001b[0m \u001b[0mnames\u001b[0m\u001b[1;33m,\u001b[0m \u001b[0maxes\u001b[0m\u001b[1;33m)\u001b[0m\u001b[1;33m\u001b[0m\u001b[1;33m\u001b[0m\u001b[0m\n\u001b[1;32m-> 1667\u001b[1;33m         \u001b[0mmgr\u001b[0m \u001b[1;33m=\u001b[0m \u001b[0mBlockManager\u001b[0m\u001b[1;33m(\u001b[0m\u001b[0mblocks\u001b[0m\u001b[1;33m,\u001b[0m \u001b[0maxes\u001b[0m\u001b[1;33m)\u001b[0m\u001b[1;33m\u001b[0m\u001b[1;33m\u001b[0m\u001b[0m\n\u001b[0m\u001b[0;32m   1668\u001b[0m         \u001b[0mmgr\u001b[0m\u001b[1;33m.\u001b[0m\u001b[0m_consolidate_inplace\u001b[0m\u001b[1;33m(\u001b[0m\u001b[1;33m)\u001b[0m\u001b[1;33m\u001b[0m\u001b[1;33m\u001b[0m\u001b[0m\n",
      "\u001b[1;32m~\\Anaconda3\\lib\\site-packages\\pandas\\core\\internals\\managers.py\u001b[0m in \u001b[0;36m__init__\u001b[1;34m(self, blocks, axes, do_integrity_check)\u001b[0m\n\u001b[0;32m    113\u001b[0m         \u001b[1;32mif\u001b[0m \u001b[0mdo_integrity_check\u001b[0m\u001b[1;33m:\u001b[0m\u001b[1;33m\u001b[0m\u001b[1;33m\u001b[0m\u001b[0m\n\u001b[1;32m--> 114\u001b[1;33m             \u001b[0mself\u001b[0m\u001b[1;33m.\u001b[0m\u001b[0m_verify_integrity\u001b[0m\u001b[1;33m(\u001b[0m\u001b[1;33m)\u001b[0m\u001b[1;33m\u001b[0m\u001b[1;33m\u001b[0m\u001b[0m\n\u001b[0m\u001b[0;32m    115\u001b[0m \u001b[1;33m\u001b[0m\u001b[0m\n",
      "\u001b[1;32m~\\Anaconda3\\lib\\site-packages\\pandas\\core\\internals\\managers.py\u001b[0m in \u001b[0;36m_verify_integrity\u001b[1;34m(self)\u001b[0m\n\u001b[0;32m    310\u001b[0m             \u001b[1;32mif\u001b[0m \u001b[0mblock\u001b[0m\u001b[1;33m.\u001b[0m\u001b[0m_verify_integrity\u001b[0m \u001b[1;32mand\u001b[0m \u001b[0mblock\u001b[0m\u001b[1;33m.\u001b[0m\u001b[0mshape\u001b[0m\u001b[1;33m[\u001b[0m\u001b[1;36m1\u001b[0m\u001b[1;33m:\u001b[0m\u001b[1;33m]\u001b[0m \u001b[1;33m!=\u001b[0m \u001b[0mmgr_shape\u001b[0m\u001b[1;33m[\u001b[0m\u001b[1;36m1\u001b[0m\u001b[1;33m:\u001b[0m\u001b[1;33m]\u001b[0m\u001b[1;33m:\u001b[0m\u001b[1;33m\u001b[0m\u001b[1;33m\u001b[0m\u001b[0m\n\u001b[1;32m--> 311\u001b[1;33m                 \u001b[0mconstruction_error\u001b[0m\u001b[1;33m(\u001b[0m\u001b[0mtot_items\u001b[0m\u001b[1;33m,\u001b[0m \u001b[0mblock\u001b[0m\u001b[1;33m.\u001b[0m\u001b[0mshape\u001b[0m\u001b[1;33m[\u001b[0m\u001b[1;36m1\u001b[0m\u001b[1;33m:\u001b[0m\u001b[1;33m]\u001b[0m\u001b[1;33m,\u001b[0m \u001b[0mself\u001b[0m\u001b[1;33m.\u001b[0m\u001b[0maxes\u001b[0m\u001b[1;33m)\u001b[0m\u001b[1;33m\u001b[0m\u001b[1;33m\u001b[0m\u001b[0m\n\u001b[0m\u001b[0;32m    312\u001b[0m         \u001b[1;32mif\u001b[0m \u001b[0mlen\u001b[0m\u001b[1;33m(\u001b[0m\u001b[0mself\u001b[0m\u001b[1;33m.\u001b[0m\u001b[0mitems\u001b[0m\u001b[1;33m)\u001b[0m \u001b[1;33m!=\u001b[0m \u001b[0mtot_items\u001b[0m\u001b[1;33m:\u001b[0m\u001b[1;33m\u001b[0m\u001b[1;33m\u001b[0m\u001b[0m\n",
      "\u001b[1;32m~\\Anaconda3\\lib\\site-packages\\pandas\\core\\internals\\managers.py\u001b[0m in \u001b[0;36mconstruction_error\u001b[1;34m(tot_items, block_shape, axes, e)\u001b[0m\n\u001b[0;32m   1690\u001b[0m     raise ValueError(\"Shape of passed values is {0}, indices imply {1}\".format(\n\u001b[1;32m-> 1691\u001b[1;33m         passed, implied))\n\u001b[0m\u001b[0;32m   1692\u001b[0m \u001b[1;33m\u001b[0m\u001b[0m\n",
      "\u001b[1;31mValueError\u001b[0m: Shape of passed values is (6, 3), indices imply (7, 3)",
      "\nDuring handling of the above exception, another exception occurred:\n",
      "\u001b[1;31mValueError\u001b[0m                                Traceback (most recent call last)",
      "\u001b[1;32m<ipython-input-62-b4be4d618b88>\u001b[0m in \u001b[0;36m<module>\u001b[1;34m\u001b[0m\n\u001b[0;32m      1\u001b[0m \u001b[0mdata3\u001b[0m\u001b[1;33m=\u001b[0m\u001b[1;33m{\u001b[0m\u001b[1;34m\"city\"\u001b[0m\u001b[1;33m:\u001b[0m\u001b[1;33m[\u001b[0m\u001b[1;34m\"karachi\"\u001b[0m\u001b[1;33m,\u001b[0m\u001b[1;34m\"lahor\"\u001b[0m\u001b[1;33m,\u001b[0m\u001b[1;34m\"islamabad\"\u001b[0m\u001b[1;33m,\u001b[0m\u001b[1;34m\"multan\"\u001b[0m\u001b[1;33m,\u001b[0m\u001b[1;34m\"faislabad\"\u001b[0m\u001b[1;33m]\u001b[0m\u001b[1;33m,\u001b[0m\u001b[1;34m\"years\"\u001b[0m\u001b[1;33m:\u001b[0m\u001b[1;33m[\u001b[0m\u001b[1;36m2001\u001b[0m\u001b[1;33m,\u001b[0m\u001b[1;36m2002\u001b[0m\u001b[1;33m,\u001b[0m\u001b[1;36m2003\u001b[0m\u001b[1;33m,\u001b[0m\u001b[1;36m2004\u001b[0m\u001b[1;33m,\u001b[0m\u001b[1;36m2005\u001b[0m\u001b[1;33m,\u001b[0m\u001b[1;36m2006\u001b[0m\u001b[1;33m]\u001b[0m\u001b[1;33m,\u001b[0m\u001b[1;34m\"pop\"\u001b[0m\u001b[1;33m:\u001b[0m\u001b[1;33m[\u001b[0m\u001b[1;36m2.0\u001b[0m\u001b[1;33m,\u001b[0m\u001b[1;36m5.2\u001b[0m\u001b[1;33m,\u001b[0m\u001b[1;36m6.5\u001b[0m\u001b[1;33m,\u001b[0m\u001b[1;36m4.8\u001b[0m\u001b[1;33m,\u001b[0m\u001b[1;36m1.6\u001b[0m\u001b[1;33m]\u001b[0m\u001b[1;33m}\u001b[0m\u001b[1;33m\u001b[0m\u001b[1;33m\u001b[0m\u001b[0m\n\u001b[1;32m----> 2\u001b[1;33m \u001b[0mframe3\u001b[0m\u001b[1;33m=\u001b[0m\u001b[0mpd\u001b[0m\u001b[1;33m.\u001b[0m\u001b[0mDataFrame\u001b[0m\u001b[1;33m(\u001b[0m\u001b[0mdata2\u001b[0m\u001b[1;33m,\u001b[0m\u001b[0mindex\u001b[0m\u001b[1;33m=\u001b[0m\u001b[1;33m[\u001b[0m\u001b[1;34m\"a\"\u001b[0m\u001b[1;33m,\u001b[0m\u001b[1;34m\"s\"\u001b[0m\u001b[1;33m,\u001b[0m\u001b[1;34m\"d\"\u001b[0m\u001b[1;33m,\u001b[0m\u001b[1;34m\"f\"\u001b[0m\u001b[1;33m,\u001b[0m\u001b[1;34m\"g\"\u001b[0m\u001b[1;33m,\u001b[0m\u001b[1;34m\"h\"\u001b[0m\u001b[1;33m,\u001b[0m\u001b[1;34m\"i\"\u001b[0m\u001b[1;33m]\u001b[0m\u001b[1;33m)\u001b[0m\u001b[1;31m#index agar value se zada ho ga ya kam ho ga to value error aai ga.\u001b[0m\u001b[1;33m\u001b[0m\u001b[1;33m\u001b[0m\u001b[0m\n\u001b[0m\u001b[0;32m      3\u001b[0m \u001b[0mprint\u001b[0m\u001b[1;33m(\u001b[0m\u001b[0mframe3\u001b[0m\u001b[1;33m)\u001b[0m\u001b[1;33m\u001b[0m\u001b[1;33m\u001b[0m\u001b[0m\n",
      "\u001b[1;32m~\\Anaconda3\\lib\\site-packages\\pandas\\core\\frame.py\u001b[0m in \u001b[0;36m__init__\u001b[1;34m(self, data, index, columns, dtype, copy)\u001b[0m\n\u001b[0;32m    390\u001b[0m                                  dtype=dtype, copy=copy)\n\u001b[0;32m    391\u001b[0m         \u001b[1;32melif\u001b[0m \u001b[0misinstance\u001b[0m\u001b[1;33m(\u001b[0m\u001b[0mdata\u001b[0m\u001b[1;33m,\u001b[0m \u001b[0mdict\u001b[0m\u001b[1;33m)\u001b[0m\u001b[1;33m:\u001b[0m\u001b[1;33m\u001b[0m\u001b[1;33m\u001b[0m\u001b[0m\n\u001b[1;32m--> 392\u001b[1;33m             \u001b[0mmgr\u001b[0m \u001b[1;33m=\u001b[0m \u001b[0minit_dict\u001b[0m\u001b[1;33m(\u001b[0m\u001b[0mdata\u001b[0m\u001b[1;33m,\u001b[0m \u001b[0mindex\u001b[0m\u001b[1;33m,\u001b[0m \u001b[0mcolumns\u001b[0m\u001b[1;33m,\u001b[0m \u001b[0mdtype\u001b[0m\u001b[1;33m=\u001b[0m\u001b[0mdtype\u001b[0m\u001b[1;33m)\u001b[0m\u001b[1;33m\u001b[0m\u001b[1;33m\u001b[0m\u001b[0m\n\u001b[0m\u001b[0;32m    393\u001b[0m         \u001b[1;32melif\u001b[0m \u001b[0misinstance\u001b[0m\u001b[1;33m(\u001b[0m\u001b[0mdata\u001b[0m\u001b[1;33m,\u001b[0m \u001b[0mma\u001b[0m\u001b[1;33m.\u001b[0m\u001b[0mMaskedArray\u001b[0m\u001b[1;33m)\u001b[0m\u001b[1;33m:\u001b[0m\u001b[1;33m\u001b[0m\u001b[1;33m\u001b[0m\u001b[0m\n\u001b[0;32m    394\u001b[0m             \u001b[1;32mimport\u001b[0m \u001b[0mnumpy\u001b[0m\u001b[1;33m.\u001b[0m\u001b[0mma\u001b[0m\u001b[1;33m.\u001b[0m\u001b[0mmrecords\u001b[0m \u001b[1;32mas\u001b[0m \u001b[0mmrecords\u001b[0m\u001b[1;33m\u001b[0m\u001b[1;33m\u001b[0m\u001b[0m\n",
      "\u001b[1;32m~\\Anaconda3\\lib\\site-packages\\pandas\\core\\internals\\construction.py\u001b[0m in \u001b[0;36minit_dict\u001b[1;34m(data, index, columns, dtype)\u001b[0m\n\u001b[0;32m    210\u001b[0m         \u001b[0marrays\u001b[0m \u001b[1;33m=\u001b[0m \u001b[1;33m[\u001b[0m\u001b[0mdata\u001b[0m\u001b[1;33m[\u001b[0m\u001b[0mk\u001b[0m\u001b[1;33m]\u001b[0m \u001b[1;32mfor\u001b[0m \u001b[0mk\u001b[0m \u001b[1;32min\u001b[0m \u001b[0mkeys\u001b[0m\u001b[1;33m]\u001b[0m\u001b[1;33m\u001b[0m\u001b[1;33m\u001b[0m\u001b[0m\n\u001b[0;32m    211\u001b[0m \u001b[1;33m\u001b[0m\u001b[0m\n\u001b[1;32m--> 212\u001b[1;33m     \u001b[1;32mreturn\u001b[0m \u001b[0marrays_to_mgr\u001b[0m\u001b[1;33m(\u001b[0m\u001b[0marrays\u001b[0m\u001b[1;33m,\u001b[0m \u001b[0mdata_names\u001b[0m\u001b[1;33m,\u001b[0m \u001b[0mindex\u001b[0m\u001b[1;33m,\u001b[0m \u001b[0mcolumns\u001b[0m\u001b[1;33m,\u001b[0m \u001b[0mdtype\u001b[0m\u001b[1;33m=\u001b[0m\u001b[0mdtype\u001b[0m\u001b[1;33m)\u001b[0m\u001b[1;33m\u001b[0m\u001b[1;33m\u001b[0m\u001b[0m\n\u001b[0m\u001b[0;32m    213\u001b[0m \u001b[1;33m\u001b[0m\u001b[0m\n\u001b[0;32m    214\u001b[0m \u001b[1;33m\u001b[0m\u001b[0m\n",
      "\u001b[1;32m~\\Anaconda3\\lib\\site-packages\\pandas\\core\\internals\\construction.py\u001b[0m in \u001b[0;36marrays_to_mgr\u001b[1;34m(arrays, arr_names, index, columns, dtype)\u001b[0m\n\u001b[0;32m     59\u001b[0m     \u001b[0maxes\u001b[0m \u001b[1;33m=\u001b[0m \u001b[1;33m[\u001b[0m\u001b[0mensure_index\u001b[0m\u001b[1;33m(\u001b[0m\u001b[0mcolumns\u001b[0m\u001b[1;33m)\u001b[0m\u001b[1;33m,\u001b[0m \u001b[0mindex\u001b[0m\u001b[1;33m]\u001b[0m\u001b[1;33m\u001b[0m\u001b[1;33m\u001b[0m\u001b[0m\n\u001b[0;32m     60\u001b[0m \u001b[1;33m\u001b[0m\u001b[0m\n\u001b[1;32m---> 61\u001b[1;33m     \u001b[1;32mreturn\u001b[0m \u001b[0mcreate_block_manager_from_arrays\u001b[0m\u001b[1;33m(\u001b[0m\u001b[0marrays\u001b[0m\u001b[1;33m,\u001b[0m \u001b[0marr_names\u001b[0m\u001b[1;33m,\u001b[0m \u001b[0maxes\u001b[0m\u001b[1;33m)\u001b[0m\u001b[1;33m\u001b[0m\u001b[1;33m\u001b[0m\u001b[0m\n\u001b[0m\u001b[0;32m     62\u001b[0m \u001b[1;33m\u001b[0m\u001b[0m\n\u001b[0;32m     63\u001b[0m \u001b[1;33m\u001b[0m\u001b[0m\n",
      "\u001b[1;32m~\\Anaconda3\\lib\\site-packages\\pandas\\core\\internals\\managers.py\u001b[0m in \u001b[0;36mcreate_block_manager_from_arrays\u001b[1;34m(arrays, names, axes)\u001b[0m\n\u001b[0;32m   1669\u001b[0m         \u001b[1;32mreturn\u001b[0m \u001b[0mmgr\u001b[0m\u001b[1;33m\u001b[0m\u001b[1;33m\u001b[0m\u001b[0m\n\u001b[0;32m   1670\u001b[0m     \u001b[1;32mexcept\u001b[0m \u001b[0mValueError\u001b[0m \u001b[1;32mas\u001b[0m \u001b[0me\u001b[0m\u001b[1;33m:\u001b[0m\u001b[1;33m\u001b[0m\u001b[1;33m\u001b[0m\u001b[0m\n\u001b[1;32m-> 1671\u001b[1;33m         \u001b[0mconstruction_error\u001b[0m\u001b[1;33m(\u001b[0m\u001b[0mlen\u001b[0m\u001b[1;33m(\u001b[0m\u001b[0marrays\u001b[0m\u001b[1;33m)\u001b[0m\u001b[1;33m,\u001b[0m \u001b[0marrays\u001b[0m\u001b[1;33m[\u001b[0m\u001b[1;36m0\u001b[0m\u001b[1;33m]\u001b[0m\u001b[1;33m.\u001b[0m\u001b[0mshape\u001b[0m\u001b[1;33m,\u001b[0m \u001b[0maxes\u001b[0m\u001b[1;33m,\u001b[0m \u001b[0me\u001b[0m\u001b[1;33m)\u001b[0m\u001b[1;33m\u001b[0m\u001b[1;33m\u001b[0m\u001b[0m\n\u001b[0m\u001b[0;32m   1672\u001b[0m \u001b[1;33m\u001b[0m\u001b[0m\n\u001b[0;32m   1673\u001b[0m \u001b[1;33m\u001b[0m\u001b[0m\n",
      "\u001b[1;32m~\\Anaconda3\\lib\\site-packages\\pandas\\core\\internals\\managers.py\u001b[0m in \u001b[0;36mconstruction_error\u001b[1;34m(tot_items, block_shape, axes, e)\u001b[0m\n\u001b[0;32m   1689\u001b[0m         \u001b[1;32mraise\u001b[0m \u001b[0mValueError\u001b[0m\u001b[1;33m(\u001b[0m\u001b[1;34m\"Empty data passed with indices specified.\"\u001b[0m\u001b[1;33m)\u001b[0m\u001b[1;33m\u001b[0m\u001b[1;33m\u001b[0m\u001b[0m\n\u001b[0;32m   1690\u001b[0m     raise ValueError(\"Shape of passed values is {0}, indices imply {1}\".format(\n\u001b[1;32m-> 1691\u001b[1;33m         passed, implied))\n\u001b[0m\u001b[0;32m   1692\u001b[0m \u001b[1;33m\u001b[0m\u001b[0m\n\u001b[0;32m   1693\u001b[0m \u001b[1;33m\u001b[0m\u001b[0m\n",
      "\u001b[1;31mValueError\u001b[0m: Shape of passed values is (6, 3), indices imply (7, 3)"
     ]
    }
   ],
   "source": [
    "data3={\"city\":[\"karachi\",\"lahor\",\"islamabad\",\"multan\",\"faislabad\"],\"years\":[2001,2002,2003,2004,2005,2006],\"pop\":[2.0,5.2,6.5,4.8,1.6]}\n",
    "frame3=pd.DataFrame(data2,index=[\"a\",\"s\",\"d\",\"f\",\"g\",\"h\",\"i\"])#index agar value se zada ho ga ya kam ho ga to value error aai ga.\n",
    "print(frame3)"
   ]
  },
  {
   "cell_type": "code",
   "execution_count": 63,
   "metadata": {},
   "outputs": [
    {
     "data": {
      "text/html": [
       "<div>\n",
       "<style scoped>\n",
       "    .dataframe tbody tr th:only-of-type {\n",
       "        vertical-align: middle;\n",
       "    }\n",
       "\n",
       "    .dataframe tbody tr th {\n",
       "        vertical-align: top;\n",
       "    }\n",
       "\n",
       "    .dataframe thead th {\n",
       "        text-align: right;\n",
       "    }\n",
       "</style>\n",
       "<table border=\"1\" class=\"dataframe\">\n",
       "  <thead>\n",
       "    <tr style=\"text-align: right;\">\n",
       "      <th></th>\n",
       "      <th>city</th>\n",
       "      <th>years</th>\n",
       "      <th>pop</th>\n",
       "    </tr>\n",
       "  </thead>\n",
       "  <tbody>\n",
       "    <tr>\n",
       "      <th>a</th>\n",
       "      <td>karachi</td>\n",
       "      <td>2001</td>\n",
       "      <td>1.5</td>\n",
       "    </tr>\n",
       "    <tr>\n",
       "      <th>s</th>\n",
       "      <td>lahor</td>\n",
       "      <td>2002</td>\n",
       "      <td>2.0</td>\n",
       "    </tr>\n",
       "    <tr>\n",
       "      <th>d</th>\n",
       "      <td>islamabad</td>\n",
       "      <td>2003</td>\n",
       "      <td>5.2</td>\n",
       "    </tr>\n",
       "    <tr>\n",
       "      <th>f</th>\n",
       "      <td>multan</td>\n",
       "      <td>2004</td>\n",
       "      <td>6.5</td>\n",
       "    </tr>\n",
       "    <tr>\n",
       "      <th>g</th>\n",
       "      <td>faislabad</td>\n",
       "      <td>2005</td>\n",
       "      <td>4.8</td>\n",
       "    </tr>\n",
       "  </tbody>\n",
       "</table>\n",
       "</div>"
      ],
      "text/plain": [
       "        city  years  pop\n",
       "a    karachi   2001  1.5\n",
       "s      lahor   2002  2.0\n",
       "d  islamabad   2003  5.2\n",
       "f     multan   2004  6.5\n",
       "g  faislabad   2005  4.8"
      ]
     },
     "execution_count": 63,
     "metadata": {},
     "output_type": "execute_result"
    }
   ],
   "source": [
    "#agar sari value put na karni ho sirf top 5 print karni ho to(.head()) ki cammend use kare ge\n",
    "frame2.head()\n"
   ]
  },
  {
   "cell_type": "code",
   "execution_count": 64,
   "metadata": {},
   "outputs": [
    {
     "data": {
      "text/html": [
       "<div>\n",
       "<style scoped>\n",
       "    .dataframe tbody tr th:only-of-type {\n",
       "        vertical-align: middle;\n",
       "    }\n",
       "\n",
       "    .dataframe tbody tr th {\n",
       "        vertical-align: top;\n",
       "    }\n",
       "\n",
       "    .dataframe thead th {\n",
       "        text-align: right;\n",
       "    }\n",
       "</style>\n",
       "<table border=\"1\" class=\"dataframe\">\n",
       "  <thead>\n",
       "    <tr style=\"text-align: right;\">\n",
       "      <th></th>\n",
       "      <th>city</th>\n",
       "      <th>pop</th>\n",
       "      <th>years</th>\n",
       "    </tr>\n",
       "  </thead>\n",
       "  <tbody>\n",
       "    <tr>\n",
       "      <th>0</th>\n",
       "      <td>karachi</td>\n",
       "      <td>1.5</td>\n",
       "      <td>2001</td>\n",
       "    </tr>\n",
       "    <tr>\n",
       "      <th>1</th>\n",
       "      <td>lahor</td>\n",
       "      <td>2.0</td>\n",
       "      <td>2002</td>\n",
       "    </tr>\n",
       "    <tr>\n",
       "      <th>2</th>\n",
       "      <td>islamabad</td>\n",
       "      <td>5.2</td>\n",
       "      <td>2003</td>\n",
       "    </tr>\n",
       "    <tr>\n",
       "      <th>3</th>\n",
       "      <td>multan</td>\n",
       "      <td>6.5</td>\n",
       "      <td>2004</td>\n",
       "    </tr>\n",
       "    <tr>\n",
       "      <th>4</th>\n",
       "      <td>faislabad</td>\n",
       "      <td>4.8</td>\n",
       "      <td>2005</td>\n",
       "    </tr>\n",
       "  </tbody>\n",
       "</table>\n",
       "</div>"
      ],
      "text/plain": [
       "        city  pop  years\n",
       "0    karachi  1.5   2001\n",
       "1      lahor  2.0   2002\n",
       "2  islamabad  5.2   2003\n",
       "3     multan  6.5   2004\n",
       "4  faislabad  4.8   2005"
      ]
     },
     "execution_count": 64,
     "metadata": {},
     "output_type": "execute_result"
    }
   ],
   "source": [
    "# data frame mein columns ki setting change karne k lea\n",
    "frame2=pd.DataFrame(data2, columns=[\"city\",\"pop\",\"years\"])\n",
    "frame2.head()"
   ]
  },
  {
   "cell_type": "code",
   "execution_count": 65,
   "metadata": {},
   "outputs": [
    {
     "data": {
      "text/html": [
       "<div>\n",
       "<style scoped>\n",
       "    .dataframe tbody tr th:only-of-type {\n",
       "        vertical-align: middle;\n",
       "    }\n",
       "\n",
       "    .dataframe tbody tr th {\n",
       "        vertical-align: top;\n",
       "    }\n",
       "\n",
       "    .dataframe thead th {\n",
       "        text-align: right;\n",
       "    }\n",
       "</style>\n",
       "<table border=\"1\" class=\"dataframe\">\n",
       "  <thead>\n",
       "    <tr style=\"text-align: right;\">\n",
       "      <th></th>\n",
       "      <th>years</th>\n",
       "      <th>pop</th>\n",
       "      <th>city</th>\n",
       "      <th>dept</th>\n",
       "    </tr>\n",
       "  </thead>\n",
       "  <tbody>\n",
       "    <tr>\n",
       "      <th>one</th>\n",
       "      <td>2001</td>\n",
       "      <td>1.5</td>\n",
       "      <td>karachi</td>\n",
       "      <td>NaN</td>\n",
       "    </tr>\n",
       "    <tr>\n",
       "      <th>two</th>\n",
       "      <td>2002</td>\n",
       "      <td>2.0</td>\n",
       "      <td>lahor</td>\n",
       "      <td>NaN</td>\n",
       "    </tr>\n",
       "    <tr>\n",
       "      <th>three</th>\n",
       "      <td>2003</td>\n",
       "      <td>5.2</td>\n",
       "      <td>islamabad</td>\n",
       "      <td>NaN</td>\n",
       "    </tr>\n",
       "    <tr>\n",
       "      <th>four</th>\n",
       "      <td>2004</td>\n",
       "      <td>6.5</td>\n",
       "      <td>multan</td>\n",
       "      <td>NaN</td>\n",
       "    </tr>\n",
       "    <tr>\n",
       "      <th>five</th>\n",
       "      <td>2005</td>\n",
       "      <td>4.8</td>\n",
       "      <td>faislabad</td>\n",
       "      <td>NaN</td>\n",
       "    </tr>\n",
       "    <tr>\n",
       "      <th>six</th>\n",
       "      <td>2006</td>\n",
       "      <td>3.6</td>\n",
       "      <td>rawalpindi</td>\n",
       "      <td>NaN</td>\n",
       "    </tr>\n",
       "  </tbody>\n",
       "</table>\n",
       "</div>"
      ],
      "text/plain": [
       "       years  pop        city dept\n",
       "one     2001  1.5     karachi  NaN\n",
       "two     2002  2.0       lahor  NaN\n",
       "three   2003  5.2   islamabad  NaN\n",
       "four    2004  6.5      multan  NaN\n",
       "five    2005  4.8   faislabad  NaN\n",
       "six     2006  3.6  rawalpindi  NaN"
      ]
     },
     "execution_count": 65,
     "metadata": {},
     "output_type": "execute_result"
    }
   ],
   "source": [
    "#columns add karne k lea or sath index dene k lea\n",
    "frame2=pd.DataFrame(data2, columns=[\"years\",\"pop\",\"city\",\"dept\"],index=[\"one\",\"two\",\"three\",\"four\",\"five\",\"six\"])\n",
    "frame2\n"
   ]
  },
  {
   "cell_type": "code",
   "execution_count": 66,
   "metadata": {},
   "outputs": [
    {
     "data": {
      "text/html": [
       "<div>\n",
       "<style scoped>\n",
       "    .dataframe tbody tr th:only-of-type {\n",
       "        vertical-align: middle;\n",
       "    }\n",
       "\n",
       "    .dataframe tbody tr th {\n",
       "        vertical-align: top;\n",
       "    }\n",
       "\n",
       "    .dataframe thead th {\n",
       "        text-align: right;\n",
       "    }\n",
       "</style>\n",
       "<table border=\"1\" class=\"dataframe\">\n",
       "  <thead>\n",
       "    <tr style=\"text-align: right;\">\n",
       "      <th></th>\n",
       "      <th>years</th>\n",
       "      <th>pop</th>\n",
       "      <th>city</th>\n",
       "      <th>dept</th>\n",
       "    </tr>\n",
       "  </thead>\n",
       "  <tbody>\n",
       "    <tr>\n",
       "      <th>one</th>\n",
       "      <td>2001</td>\n",
       "      <td>1.5</td>\n",
       "      <td>karachi</td>\n",
       "      <td>NaN</td>\n",
       "    </tr>\n",
       "    <tr>\n",
       "      <th>two</th>\n",
       "      <td>2002</td>\n",
       "      <td>2.0</td>\n",
       "      <td>lahor</td>\n",
       "      <td>NaN</td>\n",
       "    </tr>\n",
       "    <tr>\n",
       "      <th>three</th>\n",
       "      <td>2003</td>\n",
       "      <td>5.2</td>\n",
       "      <td>islamabad</td>\n",
       "      <td>NaN</td>\n",
       "    </tr>\n",
       "    <tr>\n",
       "      <th>four</th>\n",
       "      <td>2004</td>\n",
       "      <td>6.5</td>\n",
       "      <td>multan</td>\n",
       "      <td>NaN</td>\n",
       "    </tr>\n",
       "    <tr>\n",
       "      <th>five</th>\n",
       "      <td>2005</td>\n",
       "      <td>4.8</td>\n",
       "      <td>faislabad</td>\n",
       "      <td>NaN</td>\n",
       "    </tr>\n",
       "  </tbody>\n",
       "</table>\n",
       "</div>"
      ],
      "text/plain": [
       "       years  pop       city dept\n",
       "one     2001  1.5    karachi  NaN\n",
       "two     2002  2.0      lahor  NaN\n",
       "three   2003  5.2  islamabad  NaN\n",
       "four    2004  6.5     multan  NaN\n",
       "five    2005  4.8  faislabad  NaN"
      ]
     },
     "execution_count": 66,
     "metadata": {},
     "output_type": "execute_result"
    }
   ],
   "source": [
    "frame2=pd.DataFrame(data2, columns=[\"years\",\"pop\",\"city\",\"dept\"],index=[\"one\",\"two\",\"three\",\"four\",\"five\",\"six\"])\n",
    "frame2.head()"
   ]
  },
  {
   "cell_type": "code",
   "execution_count": 67,
   "metadata": {},
   "outputs": [],
   "source": [
    "#columns check karne k lea (.columns)"
   ]
  },
  {
   "cell_type": "code",
   "execution_count": 68,
   "metadata": {},
   "outputs": [
    {
     "data": {
      "text/plain": [
       "Index(['years', 'pop', 'city', 'dept'], dtype='object')"
      ]
     },
     "execution_count": 68,
     "metadata": {},
     "output_type": "execute_result"
    }
   ],
   "source": [
    "frame2.columns"
   ]
  },
  {
   "cell_type": "code",
   "execution_count": 69,
   "metadata": {},
   "outputs": [
    {
     "data": {
      "text/plain": [
       "Index(['one', 'two', 'three', 'four', 'five', 'six'], dtype='object')"
      ]
     },
     "execution_count": 69,
     "metadata": {},
     "output_type": "execute_result"
    }
   ],
   "source": [
    "frame2.columns # print likhe bena jupyter sirf last code ko hi print karata hai\n",
    "frame2.index"
   ]
  },
  {
   "cell_type": "code",
   "execution_count": 70,
   "metadata": {},
   "outputs": [
    {
     "name": "stdout",
     "output_type": "stream",
     "text": [
      "Index(['years', 'pop', 'city', 'dept'], dtype='object')\n",
      "Index(['one', 'two', 'three', 'four', 'five', 'six'], dtype='object')\n"
     ]
    }
   ],
   "source": [
    "print(frame2.columns) \n",
    "print(frame2.index)"
   ]
  },
  {
   "cell_type": "code",
   "execution_count": 71,
   "metadata": {},
   "outputs": [],
   "source": [
    "#data frame mein se columns ko call karne k, lea dictinary like notation methord"
   ]
  },
  {
   "cell_type": "code",
   "execution_count": 72,
   "metadata": {},
   "outputs": [
    {
     "name": "stdout",
     "output_type": "stream",
     "text": [
      "{'city': ['karachi', 'lahor', 'islamabad', 'multan', 'faislabad', 'rawalpindi'], 'years': [2001, 2002, 2003, 2004, 2005, 2006], 'pop': [1.5, 2.0, 5.2, 6.5, 4.8, 3.6]}\n"
     ]
    }
   ],
   "source": [
    "print(data2)#yy dictinary hai"
   ]
  },
  {
   "cell_type": "code",
   "execution_count": 73,
   "metadata": {},
   "outputs": [
    {
     "data": {
      "text/plain": [
       "[2001, 2002, 2003, 2004, 2005, 2006]"
      ]
     },
     "execution_count": 73,
     "metadata": {},
     "output_type": "execute_result"
    }
   ],
   "source": [
    "data2[\"years\"]#yy dic mein se call karne k lea"
   ]
  },
  {
   "cell_type": "code",
   "execution_count": 74,
   "metadata": {},
   "outputs": [
    {
     "data": {
      "text/plain": [
       "one         karachi\n",
       "two           lahor\n",
       "three     islamabad\n",
       "four         multan\n",
       "five      faislabad\n",
       "six      rawalpindi\n",
       "Name: city, dtype: object"
      ]
     },
     "execution_count": 74,
     "metadata": {},
     "output_type": "execute_result"
    }
   ],
   "source": [
    "frame2[\"city\"]#data frame mein se call karne k lea"
   ]
  },
  {
   "cell_type": "code",
   "execution_count": 75,
   "metadata": {},
   "outputs": [
    {
     "data": {
      "text/plain": [
       "one      1.5\n",
       "two      2.0\n",
       "three    5.2\n",
       "four     6.5\n",
       "five     4.8\n",
       "six      3.6\n",
       "Name: pop, dtype: float64"
      ]
     },
     "execution_count": 75,
     "metadata": {},
     "output_type": "execute_result"
    }
   ],
   "source": [
    "frame2[\"pop\"]"
   ]
  },
  {
   "cell_type": "code",
   "execution_count": 76,
   "metadata": {},
   "outputs": [],
   "source": [
    "#data call attribute style in data frame"
   ]
  },
  {
   "cell_type": "code",
   "execution_count": 77,
   "metadata": {},
   "outputs": [
    {
     "data": {
      "text/plain": [
       "one         karachi\n",
       "two           lahor\n",
       "three     islamabad\n",
       "four         multan\n",
       "five      faislabad\n",
       "six      rawalpindi\n",
       "Name: city, dtype: object"
      ]
     },
     "execution_count": 77,
     "metadata": {},
     "output_type": "execute_result"
    }
   ],
   "source": [
    "frame2.city"
   ]
  },
  {
   "cell_type": "code",
   "execution_count": 78,
   "metadata": {},
   "outputs": [
    {
     "data": {
      "text/plain": [
       "one      2001\n",
       "two      2002\n",
       "three    2003\n",
       "four     2004\n",
       "five     2005\n",
       "six      2006\n",
       "Name: years, dtype: int64"
      ]
     },
     "execution_count": 78,
     "metadata": {},
     "output_type": "execute_result"
    }
   ],
   "source": [
    "frame2.years"
   ]
  },
  {
   "cell_type": "code",
   "execution_count": 79,
   "metadata": {},
   "outputs": [
    {
     "data": {
      "text/plain": [
       "<bound method NDFrame.pop of        years  pop        city dept\n",
       "one     2001  1.5     karachi  NaN\n",
       "two     2002  2.0       lahor  NaN\n",
       "three   2003  5.2   islamabad  NaN\n",
       "four    2004  6.5      multan  NaN\n",
       "five    2005  4.8   faislabad  NaN\n",
       "six     2006  3.6  rawalpindi  NaN>"
      ]
     },
     "execution_count": 79,
     "metadata": {},
     "output_type": "execute_result"
    }
   ],
   "source": [
    "frame2.pop"
   ]
  },
  {
   "cell_type": "code",
   "execution_count": 80,
   "metadata": {},
   "outputs": [
    {
     "data": {
      "text/plain": [
       "one      NaN\n",
       "two      NaN\n",
       "three    NaN\n",
       "four     NaN\n",
       "five     NaN\n",
       "six      NaN\n",
       "Name: dept, dtype: object"
      ]
     },
     "execution_count": 80,
     "metadata": {},
     "output_type": "execute_result"
    }
   ],
   "source": [
    "frame2.dept"
   ]
  },
  {
   "cell_type": "code",
   "execution_count": 82,
   "metadata": {},
   "outputs": [
    {
     "data": {
      "text/plain": [
       "years     2002\n",
       "pop          2\n",
       "city     lahor\n",
       "dept       NaN\n",
       "Name: two, dtype: object"
      ]
     },
     "execution_count": 82,
     "metadata": {},
     "output_type": "execute_result"
    }
   ],
   "source": [
    "frame2.loc[\"two\"]#row ka data malom karne k lea"
   ]
  },
  {
   "cell_type": "code",
   "execution_count": 83,
   "metadata": {},
   "outputs": [
    {
     "ename": "TypeError",
     "evalue": "Cannot index by location index with a non-integer key",
     "output_type": "error",
     "traceback": [
      "\u001b[1;31m---------------------------------------------------------------------------\u001b[0m",
      "\u001b[1;31mTypeError\u001b[0m                                 Traceback (most recent call last)",
      "\u001b[1;32m<ipython-input-83-68e71779bb6e>\u001b[0m in \u001b[0;36m<module>\u001b[1;34m\u001b[0m\n\u001b[1;32m----> 1\u001b[1;33m \u001b[0mframe2\u001b[0m\u001b[1;33m.\u001b[0m\u001b[0miloc\u001b[0m\u001b[1;33m[\u001b[0m\u001b[1;34m\"two\"\u001b[0m\u001b[1;33m]\u001b[0m\u001b[1;33m\u001b[0m\u001b[1;33m\u001b[0m\u001b[0m\n\u001b[0m",
      "\u001b[1;32m~\\Anaconda3\\lib\\site-packages\\pandas\\core\\indexing.py\u001b[0m in \u001b[0;36m__getitem__\u001b[1;34m(self, key)\u001b[0m\n\u001b[0;32m   1498\u001b[0m \u001b[1;33m\u001b[0m\u001b[0m\n\u001b[0;32m   1499\u001b[0m             \u001b[0mmaybe_callable\u001b[0m \u001b[1;33m=\u001b[0m \u001b[0mcom\u001b[0m\u001b[1;33m.\u001b[0m\u001b[0mapply_if_callable\u001b[0m\u001b[1;33m(\u001b[0m\u001b[0mkey\u001b[0m\u001b[1;33m,\u001b[0m \u001b[0mself\u001b[0m\u001b[1;33m.\u001b[0m\u001b[0mobj\u001b[0m\u001b[1;33m)\u001b[0m\u001b[1;33m\u001b[0m\u001b[1;33m\u001b[0m\u001b[0m\n\u001b[1;32m-> 1500\u001b[1;33m             \u001b[1;32mreturn\u001b[0m \u001b[0mself\u001b[0m\u001b[1;33m.\u001b[0m\u001b[0m_getitem_axis\u001b[0m\u001b[1;33m(\u001b[0m\u001b[0mmaybe_callable\u001b[0m\u001b[1;33m,\u001b[0m \u001b[0maxis\u001b[0m\u001b[1;33m=\u001b[0m\u001b[0maxis\u001b[0m\u001b[1;33m)\u001b[0m\u001b[1;33m\u001b[0m\u001b[1;33m\u001b[0m\u001b[0m\n\u001b[0m\u001b[0;32m   1501\u001b[0m \u001b[1;33m\u001b[0m\u001b[0m\n\u001b[0;32m   1502\u001b[0m     \u001b[1;32mdef\u001b[0m \u001b[0m_is_scalar_access\u001b[0m\u001b[1;33m(\u001b[0m\u001b[0mself\u001b[0m\u001b[1;33m,\u001b[0m \u001b[0mkey\u001b[0m\u001b[1;33m)\u001b[0m\u001b[1;33m:\u001b[0m\u001b[1;33m\u001b[0m\u001b[1;33m\u001b[0m\u001b[0m\n",
      "\u001b[1;32m~\\Anaconda3\\lib\\site-packages\\pandas\\core\\indexing.py\u001b[0m in \u001b[0;36m_getitem_axis\u001b[1;34m(self, key, axis)\u001b[0m\n\u001b[0;32m   2224\u001b[0m         \u001b[1;32melse\u001b[0m\u001b[1;33m:\u001b[0m\u001b[1;33m\u001b[0m\u001b[1;33m\u001b[0m\u001b[0m\n\u001b[0;32m   2225\u001b[0m             \u001b[1;32mif\u001b[0m \u001b[1;32mnot\u001b[0m \u001b[0mis_integer\u001b[0m\u001b[1;33m(\u001b[0m\u001b[0mkey\u001b[0m\u001b[1;33m)\u001b[0m\u001b[1;33m:\u001b[0m\u001b[1;33m\u001b[0m\u001b[1;33m\u001b[0m\u001b[0m\n\u001b[1;32m-> 2226\u001b[1;33m                 raise TypeError(\"Cannot index by location index with a \"\n\u001b[0m\u001b[0;32m   2227\u001b[0m                                 \"non-integer key\")\n\u001b[0;32m   2228\u001b[0m \u001b[1;33m\u001b[0m\u001b[0m\n",
      "\u001b[1;31mTypeError\u001b[0m: Cannot index by location index with a non-integer key"
     ]
    }
   ],
   "source": [
    "frame2.iloc[\"two\"]"
   ]
  },
  {
   "cell_type": "markdown",
   "metadata": {},
   "source": [
    "# Function application And mapping"
   ]
  },
  {
   "cell_type": "code",
   "execution_count": 84,
   "metadata": {},
   "outputs": [
    {
     "name": "stdout",
     "output_type": "stream",
     "text": [
      "               b         d         e\n",
      "utah   -0.521488 -0.234423  1.523107\n",
      "ohio   -0.425062  0.217040  0.635954\n",
      "texas   0.459914 -0.404345 -0.054831\n",
      "oregon  0.792846  0.109271 -0.084763\n",
      "               b         d         e\n",
      "utah    0.521488  0.234423  1.523107\n",
      "ohio    0.425062  0.217040  0.635954\n",
      "texas   0.459914  0.404345  0.054831\n",
      "oregon  0.792846  0.109271  0.084763\n"
     ]
    }
   ],
   "source": [
    "import numpy as np\n",
    "import pandas as pd\n",
    "frame = pd.DataFrame(np.random.randn(4,3)\n",
    "                             ,columns=list(\"bde\")\n",
    "                             ,index=[\"utah\",\"ohio\",\"texas\",\"oregon\"])\n",
    "print(frame)\n",
    "print(np.abs(frame))#is se frame ki - value + ho jai gi"
   ]
  },
  {
   "cell_type": "code",
   "execution_count": 85,
   "metadata": {},
   "outputs": [
    {
     "name": "stdout",
     "output_type": "stream",
     "text": [
      "               b         d         e\n",
      "utah   -0.066832  0.143638 -1.453075\n",
      "ohio   -0.433245  0.806627  1.484919\n",
      "texas   1.246301 -0.473517 -0.626413\n",
      "oregon  0.834603 -1.873878  0.643927\n",
      "-1.8738776586486963\n",
      "0.8066267338666664\n",
      "2.6805043925153624\n"
     ]
    }
   ],
   "source": [
    "import numpy as np\n",
    "import pandas as pd\n",
    "frame = pd.DataFrame(np.random.randn(4,3)\n",
    "                             ,columns=list(\"bde\")\n",
    "                             ,index=[\"utah\",\"ohio\",\"texas\",\"oregon\"])\n",
    "print(frame)\n",
    "#print(np.abs(frame))#is ko ab band kar dea\n",
    "print(frame[\"d\"].min())\n",
    "print(frame[\"d\"].max())\n",
    "print(frame[\"d\"].max() - frame[\"d\"].min())"
   ]
  },
  {
   "cell_type": "code",
   "execution_count": 86,
   "metadata": {},
   "outputs": [
    {
     "name": "stdout",
     "output_type": "stream",
     "text": [
      "               b         d         e\n",
      "utah   -0.484187  0.518410 -0.062640\n",
      "ohio    1.159488 -1.616414 -0.423084\n",
      "texas  -0.621684 -0.125700 -0.041942\n",
      "oregon -2.045951  1.619526 -0.215310\n",
      "-1.6164138349572452\n",
      "1.6195258164167627\n",
      "3.235939651374008\n",
      "b    3.205439\n",
      "d    3.235940\n",
      "e    0.381142\n",
      "dtype: float64\n"
     ]
    }
   ],
   "source": [
    "import numpy as np\n",
    "import pandas as pd\n",
    "frame = pd.DataFrame(np.random.randn(4,3)\n",
    "                             ,columns=list(\"bde\")\n",
    "                             ,index=[\"utah\",\"ohio\",\"texas\",\"oregon\"])\n",
    "print(frame)\n",
    "#print(np.abs(frame))#is ko ab band kar dea\n",
    "print(frame[\"d\"].min())\n",
    "print(frame[\"d\"].max())\n",
    "print(frame[\"d\"].max() - frame[\"d\"].min())\n",
    "\n",
    "f=lambda x:x.max() - x.min()\n",
    "df=frame.apply(f)\n",
    "print(df)"
   ]
  },
  {
   "cell_type": "code",
   "execution_count": 87,
   "metadata": {},
   "outputs": [
    {
     "name": "stdout",
     "output_type": "stream",
     "text": [
      "               b         d         e\n",
      "utah    0.426375 -0.505536  1.683763\n",
      "ohio    0.992082 -1.186877 -1.057721\n",
      "texas  -0.840293 -0.333308 -0.215113\n",
      "oregon -0.535176 -0.353805  0.569262\n",
      "-1.1868769797778422\n",
      "-0.3333082686329613\n",
      "0.8535687111448809\n",
      "b    1.832375\n",
      "d    0.853569\n",
      "e    2.741484\n",
      "dtype: float64 <class 'pandas.core.series.Series'>\n"
     ]
    }
   ],
   "source": [
    "import numpy as np\n",
    "import pandas as pd\n",
    "frame = pd.DataFrame(np.random.randn(4,3)\n",
    "                             ,columns=list(\"bde\")\n",
    "                             ,index=[\"utah\",\"ohio\",\"texas\",\"oregon\"])\n",
    "print(frame)\n",
    "#print(np.abs(frame))#is ko ab band kar dea\n",
    "print(frame[\"d\"].min())\n",
    "print(frame[\"d\"].max())\n",
    "print(frame[\"d\"].max() - frame[\"d\"].min())\n",
    "\n",
    "f=lambda x:x.max() - x.min()\n",
    "df=frame.apply(f)\n",
    "print(df,type(df))#type()   type malom karne k lea hai k kis type ka data hai"
   ]
  },
  {
   "cell_type": "code",
   "execution_count": 88,
   "metadata": {},
   "outputs": [
    {
     "name": "stdout",
     "output_type": "stream",
     "text": [
      "               b         d         e\n",
      "utah    0.420991 -0.716906  2.397761\n",
      "ohio    0.621370  0.544904  0.553950\n",
      "texas  -1.210316 -0.177960 -0.350352\n",
      "oregon -0.085371 -0.741193  1.035270\n",
      "b    1.831686\n",
      "d    1.286097\n",
      "e    2.748113\n",
      "dtype: float64\n"
     ]
    }
   ],
   "source": [
    "import numpy as np\n",
    "import pandas as pd\n",
    "frame = pd.DataFrame(np.random.randn(4,3)\n",
    "                             ,columns=list(\"bde\")\n",
    "                             ,index=[\"utah\",\"ohio\",\"texas\",\"oregon\"])\n",
    "print(frame)\n",
    "#print(np.abs(frame))#is ko ab band kar dea\n",
    "#print(frame[\"d\"].min())\n",
    "#print(frame[\"d\"].max())\n",
    "#print(frame[\"d\"].max() - frame[\"d\"].min())\n",
    "\n",
    "f=lambda x:x.max() - x.min()\n",
    "df=frame.apply(f)\n",
    "print(df)"
   ]
  },
  {
   "cell_type": "code",
   "execution_count": 89,
   "metadata": {},
   "outputs": [
    {
     "name": "stdout",
     "output_type": "stream",
     "text": [
      "               b         d         e\n",
      "utah   -0.886111  0.083967  1.906821\n",
      "ohio    0.609178  0.265943 -0.715656\n",
      "texas   0.594981 -0.428323  0.437717\n",
      "oregon -0.480570 -1.294265  0.606311\n",
      "-1.2942651777006184\n",
      "0.2659432047113026\n",
      "1.560208382411921\n",
      "b    1.495289\n",
      "d    1.560208\n",
      "e    2.622477\n",
      "dtype: float64 <class 'pandas.core.series.Series'>\n",
      "utah      2.792932\n",
      "ohio      1.324834\n",
      "texas     1.023304\n",
      "oregon    1.900576\n",
      "dtype: float64\n"
     ]
    }
   ],
   "source": [
    "import numpy as np\n",
    "import pandas as pd\n",
    "frame = pd.DataFrame(np.random.randn(4,3)\n",
    "                             ,columns=list(\"bde\")\n",
    "                             ,index=[\"utah\",\"ohio\",\"texas\",\"oregon\"])\n",
    "print(frame)\n",
    "#print(np.abs(frame))#is ko ab band kar dea\n",
    "print(frame[\"d\"].min())#minimum num malom karne k lea (d) column se \n",
    "print(frame[\"d\"].max())#maximum num malom karne k lea (d) column se\n",
    "print(frame[\"d\"].max() - frame[\"d\"].min())\n",
    "\n",
    "f=lambda x:x.max() - x.min()#function banaya hai \n",
    "df=frame.apply(f) #columns par apply ho ga k b,d,e colums mein se max mein se min - kar k batai\n",
    "print(df,type(df))\n",
    "\n",
    "dc=frame.apply(f, axis=1)#row par apply ho ga k sab row mein se max mein se min - kar k batai\n",
    "print(dc)"
   ]
  },
  {
   "cell_type": "code",
   "execution_count": 90,
   "metadata": {},
   "outputs": [
    {
     "name": "stdout",
     "output_type": "stream",
     "text": [
      "               b         d         e\n",
      "utah    1.090367  0.188207  0.107114\n",
      "ohio    0.088245 -1.360926  0.254805\n",
      "texas  -0.031488  0.088573  0.300046\n",
      "oregon  0.717207  0.860561  0.411341\n",
      "-1.360926173658519\n",
      "0.860561298076972\n",
      "2.221487471735491\n",
      "b    1.121856\n",
      "d    2.221487\n",
      "e    0.304228\n",
      "dtype: float64 <class 'pandas.core.series.Series'>\n",
      "utah      0.983254\n",
      "ohio      1.615731\n",
      "texas     0.331534\n",
      "oregon    0.449220\n",
      "dtype: float64\n",
      "            b         d         e\n",
      "min -0.031488 -1.360926  0.107114\n",
      "max  1.090367  0.860561  0.411341 <class 'pandas.core.frame.DataFrame'>\n"
     ]
    }
   ],
   "source": [
    "import numpy as np\n",
    "import pandas as pd\n",
    "frame = pd.DataFrame(np.random.randn(4,3)\n",
    "                             ,columns=list(\"bde\")\n",
    "                             ,index=[\"utah\",\"ohio\",\"texas\",\"oregon\"])\n",
    "print(frame)\n",
    "#print(np.abs(frame))#is ko ab band kar dea name k bena hai\n",
    "print(frame[\"d\"].min())#minimum num malom karne k lea (d) column se \n",
    "print(frame[\"d\"].max())#maximum num malom karne k lea (d) column se\n",
    "print(frame[\"d\"].max() - frame[\"d\"].min())\n",
    "\n",
    "f=lambda x:x.max() - x.min()#function banaya hai\n",
    "df=frame.apply(f) #columns par apply ho ga k b,d,e colums mein se max mein se min - kar k batai\n",
    "print(df,type(df))\n",
    "\n",
    "dc=frame.apply(f, axis=1)#row par apply ho ga k sab row mein se max mein se min - kar k batai\n",
    "print(dc)\n",
    "\n",
    "def min_max(x):#nam k sath function define karna\n",
    "    minimum=x.min()\n",
    "    maximum=x.max()\n",
    "    return pd.Series([minimum , maximum],index=[\"min\",\"max\"])\n",
    "dd=frame.apply(min_max)\n",
    "print(dd,type(dd))#type()   type malom karne k lea hai k kis type ka data hai"
   ]
  },
  {
   "cell_type": "code",
   "execution_count": 83,
   "metadata": {},
   "outputs": [
    {
     "name": "stdout",
     "output_type": "stream",
     "text": [
      "               b         d         e\n",
      "utah    2.437257  3.050561 -1.457352\n",
      "ohio   -0.034556  0.265771 -1.117025\n",
      "texas  -0.614357 -2.263871  1.068816\n",
      "oregon -0.885970  0.047087  1.521537\n",
      "-2.2638714510973874\n",
      "3.0505614824183467\n",
      "5.314432933515734\n",
      "b    3.323227\n",
      "d    5.314433\n",
      "e    2.978889\n",
      "dtype: float64 <class 'pandas.core.series.Series'>\n",
      "utah      4.507913\n",
      "ohio      1.382795\n",
      "texas     3.332688\n",
      "oregon    2.407507\n",
      "dtype: float64\n",
      "            b         d         e\n",
      "min -0.885970 -2.263871 -1.457352\n",
      "max  2.437257  3.050561  1.521537\n",
      "             min       max\n",
      "utah   -1.457352  3.050561\n",
      "ohio   -1.117025  0.265771\n",
      "texas  -2.263871  1.068816\n",
      "oregon -0.885970  1.521537\n"
     ]
    }
   ],
   "source": [
    "import numpy as np\n",
    "import pandas as pd\n",
    "frame = pd.DataFrame(np.random.randn(4,3)\n",
    "                             ,columns=list(\"bde\")\n",
    "                             ,index=[\"utah\",\"ohio\",\"texas\",\"oregon\"])\n",
    "print(frame)\n",
    "#print(np.abs(frame))#is ko ab band kar dea\n",
    "print(frame[\"d\"].min())#minimum num malom karne k lea (d) column se \n",
    "print(frame[\"d\"].max())#maximum num malom karne k lea (d) column se\n",
    "print(frame[\"d\"].max() - frame[\"d\"].min())\n",
    "\n",
    "f=lambda x:x.max() - x.min()#function banaya hai\n",
    "df=frame.apply(f) #columns par apply ho ga k b,d,e colums mein se max mein se min - kar k batai\n",
    "print(df,type(df))\n",
    "\n",
    "dc=frame.apply(f, axis=1)#row par apply ho ga k sab row mein se max mein se min - kar k batai\n",
    "print(dc)\n",
    "\n",
    "def min_max(x):#nam k sath function define karna\n",
    "    #minimum=x.min()# is k bena bhe direct apply kar sakte hain function\n",
    "    #maximum=x.max()# is k bena bhe direct apply kar sakte hain function\n",
    "    return pd.Series([x.min(),x.max()],index=[\"min\",\"max\"])#direct apply kea\n",
    "dd=frame.apply(min_max)#columns wise\n",
    "print(dd)\n",
    "\n",
    "\n",
    "dd=frame.apply(min_max, axis=1)#row wise\n",
    "print(dd)"
   ]
  },
  {
   "cell_type": "code",
   "execution_count": 84,
   "metadata": {},
   "outputs": [
    {
     "name": "stdout",
     "output_type": "stream",
     "text": [
      "                b         d         e\n",
      "max-min  3.323227  5.314433  2.978889\n",
      "         max-min\n",
      "utah    4.507913\n",
      "ohio    1.382795\n",
      "texas   3.332688\n",
      "oregon  2.407507\n"
     ]
    }
   ],
   "source": [
    "#apni practice\n",
    "def min_max(x):#nam k sath function define karna\n",
    "    minimum=x.min()\n",
    "    maximum=x.max()\n",
    "    return pd.Series([maximum - minimum],index=[\"max-min\"])\n",
    "dd=frame.apply(min_max)#columns wise\n",
    "print(dd)\n",
    "\n",
    "\n",
    "dd=frame.apply(min_max, axis=1)#row wise\n",
    "print(dd)"
   ]
  },
  {
   "cell_type": "code",
   "execution_count": 85,
   "metadata": {},
   "outputs": [
    {
     "name": "stdout",
     "output_type": "stream",
     "text": [
      "                b         d         e\n",
      "max-min  3.323227  5.314433  2.978889\n",
      "         max-min\n",
      "utah    4.507913\n",
      "ohio    1.382795\n",
      "texas   3.332688\n",
      "oregon  2.407507\n"
     ]
    }
   ],
   "source": [
    "#apni practice\n",
    "def min_max(x):#nam k sath function define karna\n",
    "    #minimum=x.min()\n",
    "    #maximum=x.max()\n",
    "    return pd.Series([x.max() - x.min()],index=[\"max-min\"])#direct apply function\n",
    "dd=frame.apply(min_max)#columns wise\n",
    "print(dd)\n",
    "\n",
    "\n",
    "dd=frame.apply(min_max, axis=1)#row wise\n",
    "print(dd)"
   ]
  },
  {
   "cell_type": "markdown",
   "metadata": {},
   "source": [
    "# sorting and ranking"
   ]
  },
  {
   "cell_type": "code",
   "execution_count": 87,
   "metadata": {},
   "outputs": [],
   "source": [
    "x=np.arange(8)"
   ]
  },
  {
   "cell_type": "code",
   "execution_count": null,
   "metadata": {},
   "outputs": [],
   "source": []
  },
  {
   "cell_type": "code",
   "execution_count": 88,
   "metadata": {},
   "outputs": [
    {
     "data": {
      "text/plain": [
       "array([0, 1, 2, 3, 4, 5, 6, 7])"
      ]
     },
     "execution_count": 88,
     "metadata": {},
     "output_type": "execute_result"
    }
   ],
   "source": [
    "x"
   ]
  },
  {
   "cell_type": "code",
   "execution_count": 91,
   "metadata": {},
   "outputs": [
    {
     "data": {
      "text/plain": [
       "array([[[0, 1],\n",
       "        [2, 3]],\n",
       "\n",
       "       [[4, 5],\n",
       "        [6, 7]]])"
      ]
     },
     "execution_count": 91,
     "metadata": {},
     "output_type": "execute_result"
    }
   ],
   "source": [
    "x.reshape(2,2,2)"
   ]
  },
  {
   "cell_type": "code",
   "execution_count": 101,
   "metadata": {},
   "outputs": [
    {
     "data": {
      "text/plain": [
       "array([[0, 1, 2, 3],\n",
       "       [4, 5, 6, 7]])"
      ]
     },
     "execution_count": 101,
     "metadata": {},
     "output_type": "execute_result"
    }
   ],
   "source": [
    "x.reshape((2,4))# .reshape() reshape ka formula hai"
   ]
  },
  {
   "cell_type": "code",
   "execution_count": 135,
   "metadata": {},
   "outputs": [],
   "source": [
    "#sort by ranking"
   ]
  },
  {
   "cell_type": "code",
   "execution_count": 136,
   "metadata": {
    "scrolled": true
   },
   "outputs": [
    {
     "name": "stdout",
     "output_type": "stream",
     "text": [
      "       d  a  c  b\n",
      "three  0  1  2  3\n",
      "one    4  5  6  7\n",
      "       a  b  c  d\n",
      "three  1  3  2  0\n",
      "one    5  7  6  4\n",
      "       d  c  b  a\n",
      "three  0  2  3  1\n",
      "one    4  6  7  5\n",
      "       d  a  c  b\n",
      "one    4  5  6  7\n",
      "three  0  1  2  3\n",
      "       d  a  c  b\n",
      "three  0  1  2  3\n",
      "one    4  5  6  7\n"
     ]
    }
   ],
   "source": [
    "import numpy as np\n",
    "import pandas as pd\n",
    "frame1=pd.DataFrame(np.arange(8).reshape((2,4)),index=[\"three\",\"one\"],columns=[\"d\",\"a\",\"c\",\"b\"])\n",
    "print(frame1)\n",
    "print(frame1.sort_index(axis=1))#sort_indexing karne se column name tarteeb se aa jate hain agr axis k sath dea jai to\n",
    "print(frame1.sort_index(axis=1,ascending=False))#asscending False dene se end se tarteeb di jati hai\n",
    "print(frame1.sort_index())#defult mein row ki indexing tarteeb di jati hai or true hoti hai \n",
    "print(frame1.sort_index(axis=0,ascending=False))\n",
    "                    "
   ]
  },
  {
   "cell_type": "code",
   "execution_count": 137,
   "metadata": {},
   "outputs": [],
   "source": [
    "#sort by value"
   ]
  },
  {
   "cell_type": "code",
   "execution_count": 146,
   "metadata": {},
   "outputs": [
    {
     "name": "stdout",
     "output_type": "stream",
     "text": [
      "       d  a  c  b\n",
      "three  0  1  2  3\n",
      "one    4  5  6  7\n",
      "         d    a    c    b\n",
      "three  2.0  2.0  2.0  2.0\n",
      "one    1.0  1.0  1.0  1.0\n",
      "         d    a    c    b\n",
      "three  1.0  1.0  1.0  1.0\n",
      "one    2.0  2.0  2.0  2.0\n",
      "         d    a    c    b\n",
      "three  2.0  2.0  2.0  2.0\n",
      "one    1.0  1.0  1.0  1.0\n",
      "         d    a    c    b\n",
      "three  1.0  1.0  1.0  1.0\n",
      "one    2.0  2.0  2.0  2.0\n",
      "         d    a    c    b\n",
      "three  1.0  2.0  3.0  4.0\n",
      "one    1.0  2.0  3.0  4.0\n"
     ]
    }
   ],
   "source": [
    "print(frame1.sort_values(by=\"b\"))\n",
    "print(frame1.rank(ascending=False,method=\"max\"))\n",
    "print(frame1.rank(ascending=True,method=\"max\"))\n",
    "print(frame1.rank(ascending=False,method=\"min\"))\n",
    "print(frame1.rank(ascending=True,method=\"min\"))\n",
    "print(frame1.rank(axis=\"columns\"))"
   ]
  },
  {
   "cell_type": "code",
   "execution_count": 148,
   "metadata": {},
   "outputs": [
    {
     "name": "stdout",
     "output_type": "stream",
     "text": [
      "               b         d         e\n",
      "oregon -0.885970  0.047087  1.521537\n",
      "texas  -0.614357 -2.263871  1.068816\n",
      "ohio   -0.034556  0.265771 -1.117025\n",
      "utah    2.437257  3.050561 -1.457352\n",
      "          b    d    e\n",
      "utah    1.0  1.0  4.0\n",
      "ohio    2.0  2.0  3.0\n",
      "texas   3.0  4.0  2.0\n",
      "oregon  4.0  3.0  1.0\n",
      "          b    d    e\n",
      "utah    4.0  4.0  1.0\n",
      "ohio    3.0  3.0  2.0\n",
      "texas   2.0  1.0  3.0\n",
      "oregon  1.0  2.0  4.0\n",
      "          b    d    e\n",
      "utah    1.0  1.0  4.0\n",
      "ohio    2.0  2.0  3.0\n",
      "texas   3.0  4.0  2.0\n",
      "oregon  4.0  3.0  1.0\n",
      "          b    d    e\n",
      "utah    4.0  4.0  1.0\n",
      "ohio    3.0  3.0  2.0\n",
      "texas   2.0  1.0  3.0\n",
      "oregon  1.0  2.0  4.0\n",
      "          b    d    e\n",
      "utah    2.0  3.0  1.0\n",
      "ohio    2.0  3.0  1.0\n",
      "texas   2.0  1.0  3.0\n",
      "oregon  1.0  2.0  3.0\n"
     ]
    }
   ],
   "source": [
    "print(frame.sort_values(by=\"b\"))\n",
    "print(frame.rank(ascending=False,method=\"max\"))\n",
    "print(frame.rank(ascending=True,method=\"max\"))\n",
    "print(frame.rank(ascending=False,method=\"min\"))\n",
    "print(frame.rank(ascending=True,method=\"min\"))\n",
    "print(frame.rank(axis=\"columns\"))"
   ]
  },
  {
   "cell_type": "code",
   "execution_count": 149,
   "metadata": {},
   "outputs": [
    {
     "name": "stdout",
     "output_type": "stream",
     "text": [
      "          b    d    e\n",
      "utah    2.0  3.0  1.0\n",
      "ohio    2.0  3.0  1.0\n",
      "texas   2.0  1.0  3.0\n",
      "oregon  1.0  2.0  3.0\n"
     ]
    }
   ],
   "source": [
    "print(frame.rank(axis=\"columns\"))"
   ]
  },
  {
   "cell_type": "markdown",
   "metadata": {},
   "source": [
    "# summarizing and computing descriptive statistics"
   ]
  },
  {
   "cell_type": "code",
   "execution_count": 156,
   "metadata": {},
   "outputs": [
    {
     "name": "stdout",
     "output_type": "stream",
     "text": [
      "    one  two\n",
      "a  1.40  NaN\n",
      "b  7.10 -4.5\n",
      "c   NaN  NaN\n",
      "d  0.75 -1.3\n",
      "one    9.25\n",
      "two   -5.80\n",
      "dtype: float64\n",
      "a    1.40\n",
      "b    2.60\n",
      "c    0.00\n",
      "d   -0.55\n",
      "dtype: float64\n",
      "a    1.40\n",
      "b    2.60\n",
      "c    0.00\n",
      "d   -0.55\n",
      "dtype: float64\n"
     ]
    }
   ],
   "source": [
    "df=pd.DataFrame([[1.4,np.nan],[7.1,-4.5],[np.nan,np.nan],[0.75,-1.3]]\n",
    "                ,index=[\"a\",\"b\",\"c\",\"d\"],columns=[\"one\",\"two\"])#yy ak data frame banaya hai\n",
    "print(df)\n",
    "print(df.sum())\n",
    "print(df.sum(axis=\"columns\"))#axis=1 or axis=\"columns\" same kam karte hain\n",
    "print(df.sum(axis=1))#axis=1 or axis=\"columns\" same kam karte hain"
   ]
  },
  {
   "cell_type": "code",
   "execution_count": 157,
   "metadata": {},
   "outputs": [],
   "source": [
    "#mean opration"
   ]
  },
  {
   "cell_type": "code",
   "execution_count": 159,
   "metadata": {},
   "outputs": [
    {
     "name": "stdout",
     "output_type": "stream",
     "text": [
      "    one  two\n",
      "a  1.40  NaN\n",
      "b  7.10 -4.5\n",
      "c   NaN  NaN\n",
      "d  0.75 -1.3\n",
      "one    3.083333\n",
      "two   -2.900000\n",
      "dtype: float64\n"
     ]
    }
   ],
   "source": [
    "print(df)\n",
    "x=df.mean()\n",
    "print(x)"
   ]
  },
  {
   "cell_type": "code",
   "execution_count": 164,
   "metadata": {},
   "outputs": [
    {
     "name": "stdout",
     "output_type": "stream",
     "text": [
      "    one  two\n",
      "a  1.40  NaN\n",
      "b  7.10 -4.5\n",
      "c   NaN  NaN\n",
      "d  0.75 -1.3\n",
      "one    3.083333\n",
      "two   -2.900000\n",
      "dtype: float64\n",
      "a      NaN\n",
      "b    1.300\n",
      "c      NaN\n",
      "d   -0.275\n",
      "dtype: float64\n",
      "a    1.400\n",
      "b    1.300\n",
      "c      NaN\n",
      "d   -0.275\n",
      "dtype: float64\n"
     ]
    }
   ],
   "source": [
    "print(df)\n",
    "x=df.mean()\n",
    "print(x)\n",
    "x=df.mean(axis=\"columns\",skipna=False)#mean ki ok value malom karne k lea istemal hota hai\n",
    "print(x)\n",
    "x=df.mean(axis=\"columns\",skipna=True)\n",
    "print(x)"
   ]
  },
  {
   "cell_type": "markdown",
   "metadata": {},
   "source": [
    "# unique value"
   ]
  },
  {
   "cell_type": "code",
   "execution_count": 184,
   "metadata": {},
   "outputs": [
    {
     "name": "stdout",
     "output_type": "stream",
     "text": [
      "    one  two  three  four\n",
      "a  1.40  1.4    1.5   NaN\n",
      "b  7.10 -4.5    1.5   1.4\n",
      "c  1.40  NaN    0.5   NaN\n",
      "d  0.75 -1.3    1.3   NaN\n",
      "\n",
      "[1.4  7.1  0.75] [ 1.4 -4.5  nan -1.3]\n",
      "1.40    2\n",
      "0.75    1\n",
      "7.10    1\n",
      "Name: one, dtype: int64\n"
     ]
    }
   ],
   "source": [
    "df1=pd.DataFrame([[1.4,1.4,1.5,np.nan],[7.1,-4.5,1.5,1.4],[1.4,np.nan,0.5,np.nan]\n",
    "                ,[0.75,-1.3,1.3,np.nan]],index=[\"a\",\"b\",\"c\",\"d\"],columns=[\"one\",\"two\",\"three\",\"four\"])\n",
    "print(df1)\n",
    "print()\n",
    "print(df1[\"one\"].unique(),df1[\"two\"].unique() )#jo value 2 ya us se zada ho gi usa ak hi dafa print karai ga\n",
    "print(df1[\"one\"].value_counts())\n"
   ]
  },
  {
   "cell_type": "markdown",
   "metadata": {},
   "source": [
    "# arithmatic Methods with fill value"
   ]
  },
  {
   "cell_type": "code",
   "execution_count": 101,
   "metadata": {},
   "outputs": [
    {
     "name": "stdout",
     "output_type": "stream",
     "text": [
      "   a  b   c   d\n",
      "0  0  1   2   3\n",
      "1  4  5   6   7\n",
      "2  8  9  10  11\n",
      "    a   b   c   d   e\n",
      "0   0   1   2   3   4\n",
      "1   5   6   7   8   9\n",
      "2  10  11  12  13  14\n",
      "3  15  16  17  18  19\n",
      "    a     b   c   d   e\n",
      "0   0   1.0   2   3   4\n",
      "1   5   NaN   7   8   9\n",
      "2  10  11.0  12  13  14\n",
      "3  15  16.0  17  18  19\n",
      "direct operation without value\n",
      "      a     b     c     d   e\n",
      "0   0.0   2.0   4.0   6.0 NaN\n",
      "1   9.0   NaN  13.0  15.0 NaN\n",
      "2  18.0  20.0  22.0  24.0 NaN\n",
      "3   NaN   NaN   NaN   NaN NaN\n",
      ".....................\n",
      "addition using a method with replacing NaN with 0\n",
      "      a     b     c     d     e\n",
      "0   0.0   2.0   4.0   6.0   4.0\n",
      "1   9.0   5.0  13.0  15.0   9.0\n",
      "2  18.0  20.0  22.0  24.0  14.0\n",
      "3  15.0  16.0  17.0  18.0  19.0\n"
     ]
    }
   ],
   "source": [
    "df2=pd.DataFrame(np.arange(12).reshape(3,4),columns=list(\"abcd\"))\n",
    "df3=pd.DataFrame(np.arange(20).reshape((4,5)),columns=list(\"abcde\"))\n",
    "print(df2)\n",
    "print(df3)\n",
    "df3.loc[1,\"b\"]=np.nan#.loc[ ] yy notation use ho ga.\n",
    "print(df3)\n",
    "df4=df2+df3\n",
    "\n",
    "print(\"direct operation without value\")\n",
    "print(df4)\n",
    "print(\".....................\")\n",
    "#we can use add method for filling NaN cell with a value\n",
    "#NaN WILL BE peplaced by 0 and than addition operation will apply\n",
    "print (\"addition using a method with replacing NaN with 0\")\n",
    "df4=df2.add(df3,fill_value=0)\n",
    "print(df4)"
   ]
  },
  {
   "cell_type": "code",
   "execution_count": 102,
   "metadata": {},
   "outputs": [],
   "source": [
    "#DataFrame - Series"
   ]
  },
  {
   "cell_type": "code",
   "execution_count": 107,
   "metadata": {},
   "outputs": [
    {
     "name": "stdout",
     "output_type": "stream",
     "text": [
      "               b         d         e\n",
      "utah    0.860269  1.085983 -0.458238\n",
      "ohio    0.518218  0.764106 -0.510473\n",
      "texas   0.193018  0.314776 -0.153384\n",
      "oregon  0.336624 -0.450685  0.150669\n",
      "Index(['b', 'd', 'e'], dtype='object') [1 2 3]\n",
      "               b         d         e\n",
      "utah   -0.139731 -0.914017 -3.458238\n",
      "ohio   -0.481782 -1.235894 -3.510473\n",
      "texas  -0.806982 -1.685224 -3.153384\n",
      "oregon -0.663376 -2.450685 -2.849331\n"
     ]
    }
   ],
   "source": [
    "import numpy as np\n",
    "import pandas as pd\n",
    "frame2 = pd.DataFrame(np.random.randn(4,3)\n",
    "                             ,columns=list(\"bde\")\n",
    "                             ,index=[\"utah\",\"ohio\",\"texas\",\"oregon\"])\n",
    "print(frame2)\n",
    "\n",
    "\n",
    "series=pd.Series([1,2,3],index=list(\"bde\"))\n",
    "print(series.index,series.values)\n",
    "\n",
    "print(frame2 - series)\n"
   ]
  },
  {
   "cell_type": "code",
   "execution_count": null,
   "metadata": {},
   "outputs": [],
   "source": []
  }
 ],
 "metadata": {
  "kernelspec": {
   "display_name": "Python 3",
   "language": "python",
   "name": "python3"
  },
  "language_info": {
   "codemirror_mode": {
    "name": "ipython",
    "version": 3
   },
   "file_extension": ".py",
   "mimetype": "text/x-python",
   "name": "python",
   "nbconvert_exporter": "python",
   "pygments_lexer": "ipython3",
   "version": "3.7.3"
  }
 },
 "nbformat": 4,
 "nbformat_minor": 2
}
