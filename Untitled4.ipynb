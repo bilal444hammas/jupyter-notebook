{
 "cells": [
  {
   "cell_type": "code",
   "execution_count": 1,
   "metadata": {},
   "outputs": [
    {
     "data": {
      "text/plain": [
       "9"
      ]
     },
     "execution_count": 1,
     "metadata": {},
     "output_type": "execute_result"
    }
   ],
   "source": [
    "5+4"
   ]
  },
  {
   "cell_type": "code",
   "execution_count": 4,
   "metadata": {
    "scrolled": true
   },
   "outputs": [
    {
     "name": "stdout",
     "output_type": "stream",
     "text": [
      "karachikarachikarachikarachikarachikarachikarachikarachikarachikarachikarachikarachikarachikarachikarachikarachikarachikarachikarachikarachikarachikarachikarachikarachikarachikarachikarachikarachikarachikarachikarachikarachikarachikarachikarachikarachikarachikarachikarachikarachikarachikarachikarachikarachikarachikarachikarachikarachikarachikarachikarachikarachikarachikarachikarachikarachikarachikarachikarachikarachikarachikarachikarachikarachikarachikarachikarachikarachikarachikarachikarachikarachikarachikarachikarachikarachikarachikarachikarachikarachikarachikarachikarachikarachikarachikarachikarachikarachikarachikarachikarachikarachikarachikarachikarachikarachikarachikarachikarachikarachikarachikarachikarachikarachikarachikarachikarachikarachikarachikarachikarachikarachikarachikarachikarachikarachikarachikarachikarachikarachikarachikarachikarachikarachikarachikarachikarachikarachikarachikarachikarachikarachikarachikarachikarachikarachikarachikarachikarachikarachikarachikarachikarachikarachikarachikarachikarachikarachikarachikarachikarachikarachikarachikarachikarachikarachikarachikarachikarachikarachikarachikarachikarachikarachikarachikarachikarachikarachikarachikarachikarachikarachikarachikarachikarachikarachikarachikarachikarachikarachikarachikarachikarachikarachikarachikarachikarachikarachikarachikarachikarachikarachikarachikarachikarachikarachikarachikarachikarachikarachikarachikarachikarachikarachikarachikarachikarachikarachikarachikarachikarachikarachikarachikarachikarachikarachikarachikarachikarachikarachikarachikarachikarachikarachikarachikarachikarachikarachikarachikarachikarachikarachikarachikarachikarachikarachikarachikarachikarachikarachikarachikarachikarachikarachikarachikarachikarachikarachikarachikarachikarachikarachikarachikarachikarachikarachikarachikarachikarachikarachikarachikarachikarachikarachikarachikarachikarachikarachikarachikarachikarachikarachikarachikarachikarachikarachikarachikarachikarachikarachikarachikarachikarachikarachikarachikarachikarachikarachikarachikarachikarachikarachikarachikarachikarachikarachikarachikarachikarachikarachikarachikarachikarachikarachikarachikarachikarachikarachikarachikarachikarachikarachikarachikarachikarachikarachikarachikarachikarachikarachikarachikarachikarachikarachikarachikarachikarachikarachikarachikarachikarachikarachikarachikarachikarachikarachikarachikarachikarachikarachikarachikarachikarachikarachikarachikarachikarachikarachikarachikarachikarachikarachikarachikarachikarachikarachikarachikarachikarachikarachikarachikarachikarachikarachikarachikarachikarachikarachikarachikarachikarachikarachikarachikarachikarachikarachikarachikarachikarachikarachikarachikarachikarachikarachikarachikarachikarachikarachikarachikarachikarachikarachikarachikarachikarachikarachikarachikarachikarachikarachikarachikarachikarachikarachikarachikarachikarachikarachikarachikarachikarachikarachikarachikarachikarachikarachikarachikarachikarachikarachikarachikarachikarachikarachikarachikarachikarachikarachikarachikarachikarachikarachikarachikarachikarachikarachikarachikarachikarachikarachikarachikarachikarachikarachikarachikarachikarachikarachikarachikarachikarachikarachikarachikarachikarachikarachikarachikarachikarachikarachikarachikarachikarachikarachikarachikarachikarachikarachikarachikarachikarachikarachikarachikarachikarachikarachikarachikarachikarachikarachikarachikarachikarachikarachikarachikarachikarachikarachikarachikarachikarachikarachikarachikarachikarachikarachikarachikarachikarachikarachikarachikarachikarachikarachikarachikarachikarachikarachikarachikarachikarachikarachikarachikarachikarachikarachikarachikarachikarachikarachikarachikarachikarachikarachikarachikarachikarachikarachikarachikarachikarachikarachikarachikarachikarachikarachikarachikarachikarachikarachikarachikarachikarachikarachikarachikarachikarachikarachikarachikarachikarachikarachikarachikarachikarachikarachikarachikarachikarachikarachikarachikarachikarachikarachikarachikarachikarachikarachikarachikarachikarachikarachikarachikarachikarachikarachikarachikarachikarachikarachikarachikarachikarachikarachikarachikarachikarachikarachikarachikarachikarachikarachikarachikarachikarachikarachikarachikarachikarachikarachikarachikarachikarachikarachikarachikarachikarachikarachikarachikarachikarachikarachikarachikarachikarachikarachikarachikarachikarachikarachikarachikarachikarachikarachikarachikarachikarachikarachikarachikarachikarachikarachikarachikarachikarachikarachikarachikarachikarachikarachikarachikarachikarachikarachikarachikarachikarachikarachikarachikarachikarachikarachikarachikarachikarachikarachikarachikarachikarachikarachikarachikarachikarachikarachikarachikarachikarachikarachikarachikarachikarachikarachikarachikarachikarachikarachikarachikarachikarachikarachikarachikarachikarachikarachikarachikarachikarachikarachikarachikarachikarachikarachikarachikarachikarachikarachikarachikarachikarachikarachikarachikarachikarachikarachikarachikarachikarachikarachikarachikarachikarachikarachikarachikarachikarachikarachikarachikarachikarachikarachikarachikarachikarachikarachikarachikarachikarachikarachikarachikarachikarachikarachikarachikarachikarachikarachikarachikarachikarachikarachikarachikarachikarachikarachikarachikarachikarachikarachikarachikarachikarachikarachikarachikarachikarachikarachikarachikarachikarachikarachikarachikarachikarachikarachikarachikarachikarachikarachikarachikarachikarachikarachikarachikarachikarachikarachikarachikarachikarachikarachikarachikarachikarachikarachikarachikarachikarachikarachikarachikarachikarachikarachikarachikarachikarachikarachikarachikarachikarachikarachikarachikarachikarachikarachikarachikarachikarachikarachikarachikarachikarachikarachikarachikarachikarachikarachikarachikarachikarachikarachikarachikarachikarachikarachikarachikarachikarachikarachikarachikarachikarachikarachikarachikarachikarachikarachikarachikarachikarachikarachikarachikarachikarachikarachikarachikarachikarachikarachikarachikarachikarachikarachikarachikarachikarachikarachikarachikarachikarachikarachikarachikarachikarachikarachikarachikarachikarachikarachikarachikarachikarachikarachikarachikarachikarachikarachikarachikarachikarachikarachikarachikarachikarachikarachikarachikarachikarachikarachikarachikarachikarachikarachikarachikarachikarachikarachikarachikarachikarachikarachikarachikarachikarachikarachikarachikarachikarachikarachikarachikarachikarachikarachikarachikarachikarachikarachikarachikarachikarachikarachikarachikarachikarachikarachikarachikarachikarachikarachikarachikarachikarachikarachikarachikarachikarachikarachikarachikarachikarachikarachikarachikarachikarachikarachikarachikarachikarachikarachikarachikarachikarachikarachikarachikarachikarachikarachikarachikarachikarachikarachikarachikarachikarachikarachikarachikarachikarachikarachikarachikarachikarachikarachikarachikarachikarachikarachikarachikarachikarachikarachikarachikarachikarachikarachikarachikarachikarachikarachikarachikarachikarachikarachikarachikarachikarachikarachikarachikarachikarachikarachi\n"
     ]
    }
   ],
   "source": [
    "print(1000*'karachi')"
   ]
  },
  {
   "cell_type": "code",
   "execution_count": 12,
   "metadata": {},
   "outputs": [
    {
     "ename": "ValueError",
     "evalue": "unsupported format character 'S' (0x53) at index 1",
     "output_type": "error",
     "traceback": [
      "\u001b[1;31m---------------------------------------------------------------------------\u001b[0m",
      "\u001b[1;31mValueError\u001b[0m                                Traceback (most recent call last)",
      "\u001b[1;32m<ipython-input-12-0424cf76fde1>\u001b[0m in \u001b[0;36m<module>\u001b[1;34m\u001b[0m\n\u001b[0;32m      1\u001b[0m \u001b[0mspaces\u001b[0m\u001b[1;33m=\u001b[0m\u001b[1;34m' '\u001b[0m \u001b[1;33m*\u001b[0m \u001b[1;36m25\u001b[0m\u001b[1;33m\u001b[0m\u001b[1;33m\u001b[0m\u001b[0m\n\u001b[1;32m----> 2\u001b[1;33m \u001b[0mprint\u001b[0m\u001b[1;33m(\u001b[0m\u001b[1;34m'%S DHA PHAS 5'\u001b[0m \u001b[1;33m%\u001b[0m \u001b[0mspaces\u001b[0m\u001b[1;33m)\u001b[0m\u001b[1;33m\u001b[0m\u001b[1;33m\u001b[0m\u001b[0m\n\u001b[0m",
      "\u001b[1;31mValueError\u001b[0m: unsupported format character 'S' (0x53) at index 1"
     ]
    }
   ],
   "source": [
    "spaces=' ' * 25\n",
    "print('%S DHA PHAS 5' % spaces)"
   ]
  },
  {
   "cell_type": "code",
   "execution_count": 29,
   "metadata": {},
   "outputs": [
    {
     "name": "stdout",
     "output_type": "stream",
     "text": [
      "                          12 DHA PHAS 5\n",
      "                          clifton\n",
      "                          west sroning\n",
      "\n",
      "\n",
      "dear sir\n",
      "\n",
      "i wish to report that tiles are missing for the\n",
      "out side toilet roof\n",
      "\n",
      "i think it was bad wind the other night\n"
     ]
    }
   ],
   "source": [
    "spaces=' ' * 25\n",
    "print('%s 12 DHA PHAS 5' % spaces)\n",
    "print('%s clifton'% spaces)\n",
    "print('%s west sroning'% spaces)\n",
    "print()\n",
    "print()\n",
    "print('%sdear sir'%)\n",
    "print()\n",
    "print('''i wish to report that tiles are missing for the\n",
    "out side toilet roof\n",
    "\n",
    "i think it was bad wind the other night''')"
   ]
  },
  {
   "cell_type": "code",
   "execution_count": null,
   "metadata": {},
   "outputs": [],
   "source": []
  },
  {
   "cell_type": "code",
   "execution_count": null,
   "metadata": {},
   "outputs": [],
   "source": []
  }
 ],
 "metadata": {
  "kernelspec": {
   "display_name": "Python 3",
   "language": "python",
   "name": "python3"
  },
  "language_info": {
   "codemirror_mode": {
    "name": "ipython",
    "version": 3
   },
   "file_extension": ".py",
   "mimetype": "text/x-python",
   "name": "python",
   "nbconvert_exporter": "python",
   "pygments_lexer": "ipython3",
   "version": "3.7.3"
  }
 },
 "nbformat": 4,
 "nbformat_minor": 2
}
