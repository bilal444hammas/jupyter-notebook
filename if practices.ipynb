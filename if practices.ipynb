{
 "cells": [
  {
   "cell_type": "code",
   "execution_count": 4,
   "metadata": {},
   "outputs": [
    {
     "name": "stdout",
     "output_type": "stream",
     "text": [
      "you are to old for my jokes!\n"
     ]
    }
   ],
   "source": [
    "age=10\n",
    "if age == 10:\n",
    "     print('you are to old for my jokes!')"
   ]
  },
  {
   "cell_type": "code",
   "execution_count": 5,
   "metadata": {},
   "outputs": [
    {
     "name": "stdout",
     "output_type": "stream",
     "text": [
      "a pig fell in the mug!\n"
     ]
    }
   ],
   "source": [
    "age=12\n",
    "if age==12:\n",
    "      print(\"a pig fell in the mug!\")"
   ]
  },
  {
   "cell_type": "code",
   "execution_count": 6,
   "metadata": {},
   "outputs": [
    {
     "name": "stdout",
     "output_type": "stream",
     "text": [
      "want to hear a dirty jokes!\n",
      "a pig fell in the mug!\n"
     ]
    }
   ],
   "source": [
    "print(\"want to hear a dirty jokes!\")\n",
    "age=12\n",
    "if age==12:\n",
    "      print(\"a pig fell in the mug!\")"
   ]
  },
  {
   "cell_type": "code",
   "execution_count": 7,
   "metadata": {},
   "outputs": [
    {
     "name": "stdout",
     "output_type": "stream",
     "text": [
      "want to hear a dirty jokes!\n",
      "a pig fell in the mug!\n"
     ]
    }
   ],
   "source": [
    "print(\"want to hear a dirty jokes!\")\n",
    "age=12\n",
    "if age==12:\n",
    "      print(\"a pig fell in the mug!\")\n",
    "else:\n",
    "    print(\"huha\")"
   ]
  },
  {
   "cell_type": "code",
   "execution_count": 8,
   "metadata": {},
   "outputs": [
    {
     "name": "stdout",
     "output_type": "stream",
     "text": [
      "want to hear a dirty jokes!\n",
      "huha\n"
     ]
    }
   ],
   "source": [
    "print(\"want to hear a dirty jokes!\")\n",
    "age=11\n",
    "if age==12:\n",
    "      print(\"a pig fell in the mug!\")\n",
    "else:\n",
    "    print(\"huha\")"
   ]
  },
  {
   "cell_type": "code",
   "execution_count": 10,
   "metadata": {},
   "outputs": [
    {
     "name": "stdout",
     "output_type": "stream",
     "text": [
      "want to hear a dirty jokes!\n",
      "a pig fell in the mug!\n"
     ]
    }
   ],
   "source": [
    "print(\"want to hear a dirty jokes!\")\n",
    "age=12\n",
    "if age>=12:\n",
    "      print(\"a pig fell in the mug!\")\n",
    "else:\n",
    "    print(\"huha\")"
   ]
  },
  {
   "cell_type": "code",
   "execution_count": 11,
   "metadata": {},
   "outputs": [
    {
     "name": "stdout",
     "output_type": "stream",
     "text": [
      "want to hear a dirty jokes!\n",
      "a pig fell in the mug!\n"
     ]
    }
   ],
   "source": [
    "print(\"want to hear a dirty jokes!\")\n",
    "age=12\n",
    "if age>=12:\n",
    "      print(\"a pig fell in the mug!\")\n",
    "else:\n",
    "    print(\"huha\")"
   ]
  },
  {
   "cell_type": "code",
   "execution_count": 12,
   "metadata": {},
   "outputs": [
    {
     "name": "stdout",
     "output_type": "stream",
     "text": [
      "want to hear a dirty jokes!\n",
      "a pig fell in the mug!\n"
     ]
    }
   ],
   "source": [
    "print(\"want to hear a dirty jokes!\")\n",
    "age=12\n",
    "if age<=12:\n",
    "      print(\"a pig fell in the mug!\")\n",
    "else:\n",
    "    print(\"huha\")"
   ]
  },
  {
   "cell_type": "code",
   "execution_count": 16,
   "metadata": {},
   "outputs": [
    {
     "name": "stdout",
     "output_type": "stream",
     "text": [
      "shrfoo come bake home\n",
      "very good\n"
     ]
    }
   ],
   "source": [
    "time=3\n",
    "if time==10:\n",
    "    print(\"sharfoo go to shcool\")\n",
    "if time==3:\n",
    "    print(\"shrfoo come bake home\")\n",
    "if time==5:\n",
    "    print(\"sharfo go to park\")\n",
    "else:\n",
    "    print(\"very good\")"
   ]
  },
  {
   "cell_type": "code",
   "execution_count": 28,
   "metadata": {},
   "outputs": [
    {
     "name": "stdout",
     "output_type": "stream",
     "text": [
      "eat mango\n"
     ]
    }
   ],
   "source": [
    "time=9\n",
    "if time>=10 and time<=13:\n",
    "    print(\"you are hugrry\")\n",
    "else:\n",
    "    print(\"eat mango\")"
   ]
  },
  {
   "cell_type": "code",
   "execution_count": 33,
   "metadata": {},
   "outputs": [
    {
     "name": "stdout",
     "output_type": "stream",
     "text": [
      "tha variable myval doesnt have a value\n"
     ]
    }
   ],
   "source": [
    "myval='none'\n",
    "if myval=='none':\n",
    "    print(\"tha variable myval doesnt have a value\")"
   ]
  },
  {
   "cell_type": "code",
   "execution_count": 13,
   "metadata": {},
   "outputs": [
    {
     "name": "stdout",
     "output_type": "stream",
     "text": [
      "enter your name:luy\n"
     ]
    },
    {
     "ename": "NameError",
     "evalue": "name 'snaps' is not defined",
     "output_type": "error",
     "traceback": [
      "\u001b[1;31m---------------------------------------------------------------------------\u001b[0m",
      "\u001b[1;31mNameError\u001b[0m                                 Traceback (most recent call last)",
      "\u001b[1;32m<ipython-input-13-fbc6cfdac352>\u001b[0m in \u001b[0;36m<module>\u001b[1;34m\u001b[0m\n\u001b[0;32m      1\u001b[0m \u001b[0mname\u001b[0m \u001b[1;33m=\u001b[0m \u001b[0minput\u001b[0m\u001b[1;33m(\u001b[0m\u001b[1;34m'enter your name:'\u001b[0m\u001b[1;33m)\u001b[0m\u001b[1;33m\u001b[0m\u001b[1;33m\u001b[0m\u001b[0m\n\u001b[1;32m----> 2\u001b[1;33m \u001b[0msnaps\u001b[0m\u001b[1;33m.\u001b[0m\u001b[0mdisplay_message\u001b[0m\u001b[1;33m(\u001b[0m\u001b[1;34m'hello'\u001b[0m \u001b[1;33m+\u001b[0m \u001b[0mname\u001b[0m\u001b[1;33m)\u001b[0m\u001b[1;33m\u001b[0m\u001b[1;33m\u001b[0m\u001b[0m\n\u001b[0m",
      "\u001b[1;31mNameError\u001b[0m: name 'snaps' is not defined"
     ]
    }
   ],
   "source": [
    "name = ('enter your name:')\n",
    "snaps.display_message('hello' + name)"
   ]
  },
  {
   "cell_type": "code",
   "execution_count": null,
   "metadata": {},
   "outputs": [],
   "source": []
  }
 ],
 "metadata": {
  "kernelspec": {
   "display_name": "Python 3",
   "language": "python",
   "name": "python3"
  },
  "language_info": {
   "codemirror_mode": {
    "name": "ipython",
    "version": 3
   },
   "file_extension": ".py",
   "mimetype": "text/x-python",
   "name": "python",
   "nbconvert_exporter": "python",
   "pygments_lexer": "ipython3",
   "version": "3.7.3"
  }
 },
 "nbformat": 4,
 "nbformat_minor": 2
}
