{
 "cells": [
  {
   "cell_type": "markdown",
   "metadata": {},
   "source": [
    "# read csv file\n",
    "#jo sirf file read karti hai|"
   ]
  },
  {
   "cell_type": "code",
   "execution_count": 8,
   "metadata": {},
   "outputs": [
    {
     "ename": "SyntaxError",
     "evalue": "invalid syntax (<ipython-input-8-4ba631e3d4af>, line 3)",
     "output_type": "error",
     "traceback": [
      "\u001b[1;36m  File \u001b[1;32m\"<ipython-input-8-4ba631e3d4af>\"\u001b[1;36m, line \u001b[1;32m3\u001b[0m\n\u001b[1;33m    1995,best-kepet lawn,none\u001b[0m\n\u001b[1;37m                       ^\u001b[0m\n\u001b[1;31mSyntaxError\u001b[0m\u001b[1;31m:\u001b[0m invalid syntax\n"
     ]
    }
   ],
   "source": [
    "%load abc.csv\n",
    "year,event,winner\n",
    "1995,best-kepet lawn,none\n",
    "1999,gobstones,bilal\n",
    "2006,worldcup,burkine faso"
   ]
  },
  {
   "cell_type": "code",
   "execution_count": null,
   "metadata": {},
   "outputs": [],
   "source": [
    "# %load abc.csv\n",
    "year,event,winner\n",
    "1995,best-kepet lawn,none\n",
    "1999,gobstones,bilal\n",
    "2006,worldcup,burkine faso"
   ]
  },
  {
   "cell_type": "code",
   "execution_count": 10,
   "metadata": {},
   "outputs": [],
   "source": [
    "import csv"
   ]
  },
  {
   "cell_type": "code",
   "execution_count": 27,
   "metadata": {},
   "outputs": [
    {
     "name": "stdout",
     "output_type": "stream",
     "text": [
      "['year', 'event', 'winner']\n",
      "['1995', 'best-kepet lawn', 'none']\n",
      "['1999', 'gobstones', 'bilal']\n",
      "['2006', 'worldcup', 'burkine faso']\n"
     ]
    }
   ],
   "source": [
    "with open(\"abc.csv\",\"r\") as file:#(\"r\") read ka option na do to wo read he kare ga (\"w\") write ka option dena zarori hai\n",
    "    contents=csv.reader(file)\n",
    "    for content in contents: #lazmi hai yy line\n",
    "        print(content)"
   ]
  },
  {
   "cell_type": "markdown",
   "metadata": {},
   "source": [
    "# (w) writer csv file\n",
    "#jis mein file cerat hoti hai agar phale se na bani ho to or print k bad show ni hoti file mein add ho jati hai"
   ]
  },
  {
   "cell_type": "code",
   "execution_count": 14,
   "metadata": {},
   "outputs": [],
   "source": [
    "with open(\"xyz.csv\",\"w\",newline=\"\") as file:\n",
    "    csv.writer(file).writerow([\"2019\",\"cw2019\",\"eog\"])   # option 1"
   ]
  },
  {
   "cell_type": "code",
   "execution_count": 17,
   "metadata": {},
   "outputs": [],
   "source": [
    "with open(\"xyz.csv\",\"w\",newline=\"\") as file:\n",
    "    filewriter=csv.writer(file)\n",
    "    filewriter.writerow([\"2020\",\"cw2019\",\"bilal\"]) #and option 2"
   ]
  },
  {
   "cell_type": "markdown",
   "metadata": {},
   "source": [
    "# appending a csv file\n",
    "append mein peche likha howa file mein khatam ni hta age se likha jata hai"
   ]
  },
  {
   "cell_type": "code",
   "execution_count": 32,
   "metadata": {},
   "outputs": [],
   "source": [
    "with open(\"xyz.csv\",\"a\",newline=\"\") as file:\n",
    "    filewriter=csv.writer(file)\n",
    "    filewriter.writerow([\"2022\",\"cw2019\",\"bilal\"])\n",
    "    filewriter.writerow([\"2021\",\"cw2019\",\"bilal\"])"
   ]
  },
  {
   "cell_type": "markdown",
   "metadata": {},
   "source": [
    "# my practice"
   ]
  },
  {
   "cell_type": "code",
   "execution_count": null,
   "metadata": {},
   "outputs": [],
   "source": [
    "with open(\"xyz.csv\",\"w\",newline=\"\") as file:\n",
    "    filewriter=csv.writer(file)\n",
    "    filewriter.writerow([\"2019\",\"cw2019\",\"eng\"])"
   ]
  },
  {
   "cell_type": "code",
   "execution_count": 18,
   "metadata": {},
   "outputs": [
    {
     "name": "stdout",
     "output_type": "stream",
     "text": [
      "['2006', 'worldcup', 'burkine faso']\n"
     ]
    }
   ],
   "source": [
    "print(content)"
   ]
  },
  {
   "cell_type": "code",
   "execution_count": 19,
   "metadata": {},
   "outputs": [
    {
     "name": "stdout",
     "output_type": "stream",
     "text": [
      "<_csv.reader object at 0x000001B84C22F798>\n"
     ]
    }
   ],
   "source": [
    "with open(\"abc.csv\",\"r\") as file:\n",
    "    contents=csv.reader(file)\n",
    "    print(contents)"
   ]
  },
  {
   "cell_type": "code",
   "execution_count": 21,
   "metadata": {},
   "outputs": [
    {
     "name": "stdout",
     "output_type": "stream",
     "text": [
      "['year', 'event', 'winner']\n",
      "['1995', 'best-kepet lawn', 'none']\n",
      "['1999', 'gobstones', 'bilal']\n",
      "['2006', 'worldcup', 'burkine faso']\n"
     ]
    }
   ],
   "source": [
    "with open(\"abc.csv\",\"r\") as file:\n",
    "    contents=csv.reader(file)\n",
    "    for content in contents:#lazmi hai yy line\n",
    "        print(content)"
   ]
  },
  {
   "cell_type": "code",
   "execution_count": 73,
   "metadata": {},
   "outputs": [
    {
     "name": "stdout",
     "output_type": "stream",
     "text": [
      "<_csv.reader object at 0x00000269899CE730>\n"
     ]
    }
   ],
   "source": [
    "with open(\"abc.csv\") as file:\n",
    "    contents=csv.reader(file)\n",
    "    #for cammond use karni ho ge jase uper dekhaya hai\n",
    "    print(contents)"
   ]
  },
  {
   "cell_type": "code",
   "execution_count": 24,
   "metadata": {},
   "outputs": [],
   "source": [
    "with open(\"xyz.csv\",\"a\",newline=\"\") as file:\n",
    "    filewriter=csv.writer(file)\n",
    "    filewriter.writerow([\"2024\",\"cw2019\",\"bilal\"])\n",
    "    filewriter.writerow([\"2023\",\"cw2019\",\"bilal\"])"
   ]
  },
  {
   "cell_type": "code",
   "execution_count": 23,
   "metadata": {},
   "outputs": [],
   "source": [
    "with open(\"xyz.csv\",\"a\",newline=\"\") as file:\n",
    "    csv.writer(file)\n",
    "    csv.writer(file).writerow([\"2012\",\"cw2019\",\"bilal\"])\n",
    "    csv.writer(file).writerow([\"2011\",\"cw2019\",\"bilal\"])"
   ]
  },
  {
   "cell_type": "code",
   "execution_count": 95,
   "metadata": {},
   "outputs": [],
   "source": [
    "with open(\"bilalkhan\",\"w\",newline=\"\")as file:\n",
    "    filebilal=csv.writer(file)\n",
    "    filebilal.writerow([\"q\",\"d\",\"a\"])"
   ]
  },
  {
   "cell_type": "code",
   "execution_count": 33,
   "metadata": {},
   "outputs": [
    {
     "name": "stdout",
     "output_type": "stream",
     "text": [
      "['2020', 'cw2019', 'bilal']\n",
      "['2012', 'cw2019', 'bilal']\n",
      "['2011', 'cw2019', 'bilal']\n",
      "['2024', 'cw2019', 'bilal']\n",
      "['2023', 'cw2019', 'bilal']\n",
      "['2022', 'cw2019', 'bilal']\n",
      "['2021', 'cw2019', 'bilal']\n"
     ]
    }
   ],
   "source": [
    "with open(\"xyz.csv\",\"r\")as fil:\n",
    "    xyz=csv.reader(fil)\n",
    "    for xyzs in xyz:\n",
    "        print(xyzs)"
   ]
  },
  {
   "cell_type": "code",
   "execution_count": 94,
   "metadata": {},
   "outputs": [
    {
     "name": "stdout",
     "output_type": "stream",
     "text": [
      "['q', 'd', 'a']\n"
     ]
    }
   ],
   "source": [
    "with open(\"bilalkhan\",\"r\") as file:\n",
    "    bilal=csv.reader(file)\n",
    "    for bilala in bilal:\n",
    "        print(bilala)"
   ]
  },
  {
   "cell_type": "code",
   "execution_count": null,
   "metadata": {},
   "outputs": [],
   "source": []
  },
  {
   "cell_type": "code",
   "execution_count": null,
   "metadata": {},
   "outputs": [],
   "source": []
  }
 ],
 "metadata": {
  "kernelspec": {
   "display_name": "Python 3",
   "language": "python",
   "name": "python3"
  },
  "language_info": {
   "codemirror_mode": {
    "name": "ipython",
    "version": 3
   },
   "file_extension": ".py",
   "mimetype": "text/x-python",
   "name": "python",
   "nbconvert_exporter": "python",
   "pygments_lexer": "ipython3",
   "version": "3.7.3"
  }
 },
 "nbformat": 4,
 "nbformat_minor": 2
}
